{
 "cells": [
  {
   "cell_type": "markdown",
   "id": "ce9cd6f7-0525-48e2-8b3e-e3a625211050",
   "metadata": {},
   "source": [
    "导入包"
   ]
  },
  {
   "cell_type": "code",
   "execution_count": 1,
   "id": "10197da2-78cd-43f6-8502-681543bc39f6",
   "metadata": {},
   "outputs": [
    {
     "data": {
      "text/plain": [
       "'g:\\\\代码\\\\资产配置项目\\\\Asset-allocation\\\\clock'"
      ]
     },
     "execution_count": 1,
     "metadata": {},
     "output_type": "execute_result"
    }
   ],
   "source": [
    "import pandas as pd\n",
    "import numpy as np\n",
    "import os\n",
    "import matplotlib.pyplot as plt\n",
    "plt.rcParams['axes.unicode_minus']=False\n",
    "plt.rcParams['font.sans-serif']=['SimHei'] #用来正常显示中文标签\n",
    "os.getcwd()"
   ]
  },
  {
   "cell_type": "markdown",
   "id": "3f3be6fb",
   "metadata": {},
   "source": [
    "***这篇研报的核心在于货币周期的划分，将多个和货币周期有关联的变量综合起来，综合方法为将变化数值（连续变量），转为类别变量（1/-1/0），<br>\n",
    "较好地消除了量纲不一致的问题，鲁棒性较好；报告的信用周期的划分方式为，用社融规模（同比）的过去和未来6个月内的最高/低点。***"
   ]
  },
  {
   "cell_type": "markdown",
   "id": "84db141f",
   "metadata": {},
   "source": [
    "# 货币和信用周期分析\n",
    "\n",
    "## 1. 数据处理过程\n",
    "\n",
    "### 1.1 货币周期分析\n",
    "主要处理四类变量:\n",
    "- 存款准备金率\n",
    "- 存贷款基准利率\n",
    "- 公开市场操作（包含央票发行利率、MLF和逆回购利率）\n",
    "- 货币市场利率（DR007）\n",
    "\n",
    "**处理步骤：**\n",
    "1. 将各变量转化为日度信号（1/-1/0）\n",
    "    - `1` 代表宽松（利率下调）\n",
    "    - `-1` 代表收紧（利率上调）\n",
    "    - `0` 代表不变\n",
    "2. 对日度信号进行月度汇总\n",
    "3. 生成月度基准信号（存款准备金率 + 存贷款基准利率）\n",
    "4. 生成最终的月度货币周期指数：\n",
    "    - 基准信号为 `1/-1` 时，直接采用该值\n",
    "    - 基准信号为 `0` 时，结合公开市场操作和货币市场利率信号\n",
    "\n",
    "### 1.2 信用周期分析\n",
    "基于社会融资规模同比增速划分信用周期：\n",
    "1. 使用6个月滚动窗口识别局部极值点\n",
    "2. 最高点到最低点为紧信用周期\n",
    "3. 最低点到最高点为宽信用周期\n",
    "\n",
    "### 1.3 货币-信用周期组合\n",
    "1. 将货币周期和信用周期按月对应\n",
    "2. 识别四种组合情况：\n",
    "    - 宽货币-宽信用\n",
    "    - 宽货币-紧信用\n",
    "    - 紧货币-宽信用\n",
    "    - 紧货币-紧信用\n",
    "3. 统计各组合的时间区间和持续时长\n",
    "\n",
    "## 2. 主要结果展示\n",
    "1. 生成货币周期指数曲线图\n",
    "2. 展示信用周期的转折点分布\n",
    "3. 形成完整的货币-信用组合周期表，包含：\n",
    "    - 开始日期\n",
    "    - 结束日期\n",
    "    - 周期类型\n",
    "    - 持续月数"
   ]
  },
  {
   "cell_type": "code",
   "execution_count": 2,
   "id": "353fecb6-b206-4dea-8f8f-7e56f8057c4b",
   "metadata": {},
   "outputs": [],
   "source": [
    "def generate_daily_rates_and_signals(data, date_col, rate_cols, signal_suffix=\"_signal\"):\n",
    "    '''\n",
    "    生成日度信号的函数；如，对于准备金率变量，包含大型和中小金融机构的变化，将其用1/-1/0表示；1代表数值降低，经济含义为宽松\n",
    "    '''\n",
    "    data[date_col] = pd.to_datetime(data[date_col])\n",
    "    data = data.sort_values(date_col)\n",
    "    full_dates = pd.date_range(start=data[date_col].min(), end=data[date_col].max(), freq='D')\n",
    "    full_data = pd.DataFrame({date_col: full_dates})\n",
    "    merged_data = full_data.merge(data, on=date_col, how='left')\n",
    "    for rate_col in rate_cols:\n",
    "        merged_data[rate_col] = merged_data[rate_col].ffill()\n",
    "\n",
    "    for rate_col in rate_cols:\n",
    "        signal_col = rate_col + signal_suffix\n",
    "        merged_data[signal_col] = 0 \n",
    "        diff = merged_data[rate_col].diff() \n",
    "        merged_data.loc[merged_data[date_col].isin(data[date_col]), signal_col] = diff.apply(\n",
    "            lambda x: 1 if x < 0 else -1 if x > 0 else 0\n",
    "        )\n",
    "    \n",
    "    return merged_data\n",
    " "
   ]
  },
  {
   "cell_type": "markdown",
   "id": "f9d42ccf-a74c-47b9-8e45-9fac0c8c7230",
   "metadata": {},
   "source": [
    "**存款准备金率日信号处理**"
   ]
  },
  {
   "cell_type": "code",
   "execution_count": 3,
   "id": "f4087f14-2024-45bc-93a8-be921f699fd0",
   "metadata": {},
   "outputs": [
    {
     "data": {
      "text/html": [
       "<div>\n",
       "<style scoped>\n",
       "    .dataframe tbody tr th:only-of-type {\n",
       "        vertical-align: middle;\n",
       "    }\n",
       "\n",
       "    .dataframe tbody tr th {\n",
       "        vertical-align: top;\n",
       "    }\n",
       "\n",
       "    .dataframe thead th {\n",
       "        text-align: right;\n",
       "    }\n",
       "</style>\n",
       "<table border=\"1\" class=\"dataframe\">\n",
       "  <thead>\n",
       "    <tr style=\"text-align: right;\">\n",
       "      <th></th>\n",
       "      <th>日期</th>\n",
       "      <th>中国:人民币存款准备金率:中小型存款类金融机构:变动日期</th>\n",
       "      <th>中国:人民币存款准备金率:大型存款类金融机构:变动日期</th>\n",
       "      <th>中国:人民币存款准备金率:中小型存款类金融机构:变动日期_signal</th>\n",
       "      <th>中国:人民币存款准备金率:大型存款类金融机构:变动日期_signal</th>\n",
       "    </tr>\n",
       "  </thead>\n",
       "  <tbody>\n",
       "    <tr>\n",
       "      <th>7673</th>\n",
       "      <td>2024-09-23</td>\n",
       "      <td>7.0</td>\n",
       "      <td>10.0</td>\n",
       "      <td>0</td>\n",
       "      <td>0</td>\n",
       "    </tr>\n",
       "    <tr>\n",
       "      <th>7674</th>\n",
       "      <td>2024-09-24</td>\n",
       "      <td>7.0</td>\n",
       "      <td>10.0</td>\n",
       "      <td>0</td>\n",
       "      <td>0</td>\n",
       "    </tr>\n",
       "    <tr>\n",
       "      <th>7675</th>\n",
       "      <td>2024-09-25</td>\n",
       "      <td>7.0</td>\n",
       "      <td>10.0</td>\n",
       "      <td>0</td>\n",
       "      <td>0</td>\n",
       "    </tr>\n",
       "    <tr>\n",
       "      <th>7676</th>\n",
       "      <td>2024-09-26</td>\n",
       "      <td>7.0</td>\n",
       "      <td>10.0</td>\n",
       "      <td>0</td>\n",
       "      <td>0</td>\n",
       "    </tr>\n",
       "    <tr>\n",
       "      <th>7677</th>\n",
       "      <td>2024-09-27</td>\n",
       "      <td>6.5</td>\n",
       "      <td>9.5</td>\n",
       "      <td>1</td>\n",
       "      <td>1</td>\n",
       "    </tr>\n",
       "  </tbody>\n",
       "</table>\n",
       "</div>"
      ],
      "text/plain": [
       "             日期  中国:人民币存款准备金率:中小型存款类金融机构:变动日期  中国:人民币存款准备金率:大型存款类金融机构:变动日期  \\\n",
       "7673 2024-09-23                           7.0                         10.0   \n",
       "7674 2024-09-24                           7.0                         10.0   \n",
       "7675 2024-09-25                           7.0                         10.0   \n",
       "7676 2024-09-26                           7.0                         10.0   \n",
       "7677 2024-09-27                           6.5                          9.5   \n",
       "\n",
       "      中国:人民币存款准备金率:中小型存款类金融机构:变动日期_signal  中国:人民币存款准备金率:大型存款类金融机构:变动日期_signal  \n",
       "7673                                    0                                   0  \n",
       "7674                                    0                                   0  \n",
       "7675                                    0                                   0  \n",
       "7676                                    0                                   0  \n",
       "7677                                    1                                   1  "
      ]
     },
     "execution_count": 3,
     "metadata": {},
     "output_type": "execute_result"
    }
   ],
   "source": [
    "fund_data = pd.read_csv(\"../data/中国_人民币存款准备金率.csv\", encoding='gbk')\n",
    "date_col_1 = '日期'\n",
    "fund_rate_cols = ['中国:人民币存款准备金率:中小型存款类金融机构:变动日期', '中国:人民币存款准备金率:大型存款类金融机构:变动日期']\n",
    "fund_data.columns = [date_col_1] + fund_rate_cols\n",
    "fund_daily_data = generate_daily_rates_and_signals(fund_data, date_col_1, fund_rate_cols)\n",
    "fund_daily_data.tail()"
   ]
  },
  {
   "cell_type": "markdown",
   "id": "8b79bbd8-5ebf-418b-b04f-c9057797c6ad",
   "metadata": {},
   "source": [
    "**存贷款基准利率日信号处理**"
   ]
  },
  {
   "cell_type": "code",
   "execution_count": 4,
   "id": "1b40c55f-a191-4d25-b3b6-66c31805f7d5",
   "metadata": {},
   "outputs": [
    {
     "data": {
      "text/html": [
       "<div>\n",
       "<style scoped>\n",
       "    .dataframe tbody tr th:only-of-type {\n",
       "        vertical-align: middle;\n",
       "    }\n",
       "\n",
       "    .dataframe tbody tr th {\n",
       "        vertical-align: top;\n",
       "    }\n",
       "\n",
       "    .dataframe thead th {\n",
       "        text-align: right;\n",
       "    }\n",
       "</style>\n",
       "<table border=\"1\" class=\"dataframe\">\n",
       "  <thead>\n",
       "    <tr style=\"text-align: right;\">\n",
       "      <th></th>\n",
       "      <th>日期</th>\n",
       "      <th>中国:存款基准利率:1年</th>\n",
       "      <th>中国:贷款基准利率:1年</th>\n",
       "      <th>中国:存款基准利率:1年_signal</th>\n",
       "      <th>中国:贷款基准利率:1年_signal</th>\n",
       "    </tr>\n",
       "  </thead>\n",
       "  <tbody>\n",
       "    <tr>\n",
       "      <th>4008</th>\n",
       "      <td>2015-10-20</td>\n",
       "      <td>1.75</td>\n",
       "      <td>4.60</td>\n",
       "      <td>0</td>\n",
       "      <td>0</td>\n",
       "    </tr>\n",
       "    <tr>\n",
       "      <th>4009</th>\n",
       "      <td>2015-10-21</td>\n",
       "      <td>1.75</td>\n",
       "      <td>4.60</td>\n",
       "      <td>0</td>\n",
       "      <td>0</td>\n",
       "    </tr>\n",
       "    <tr>\n",
       "      <th>4010</th>\n",
       "      <td>2015-10-22</td>\n",
       "      <td>1.75</td>\n",
       "      <td>4.60</td>\n",
       "      <td>0</td>\n",
       "      <td>0</td>\n",
       "    </tr>\n",
       "    <tr>\n",
       "      <th>4011</th>\n",
       "      <td>2015-10-23</td>\n",
       "      <td>1.75</td>\n",
       "      <td>4.60</td>\n",
       "      <td>0</td>\n",
       "      <td>0</td>\n",
       "    </tr>\n",
       "    <tr>\n",
       "      <th>4012</th>\n",
       "      <td>2015-10-24</td>\n",
       "      <td>1.50</td>\n",
       "      <td>4.35</td>\n",
       "      <td>1</td>\n",
       "      <td>1</td>\n",
       "    </tr>\n",
       "  </tbody>\n",
       "</table>\n",
       "</div>"
      ],
      "text/plain": [
       "             日期  中国:存款基准利率:1年  中国:贷款基准利率:1年  中国:存款基准利率:1年_signal  \\\n",
       "4008 2015-10-20          1.75          4.60                    0   \n",
       "4009 2015-10-21          1.75          4.60                    0   \n",
       "4010 2015-10-22          1.75          4.60                    0   \n",
       "4011 2015-10-23          1.75          4.60                    0   \n",
       "4012 2015-10-24          1.50          4.35                    1   \n",
       "\n",
       "      中国:贷款基准利率:1年_signal  \n",
       "4008                    0  \n",
       "4009                    0  \n",
       "4010                    0  \n",
       "4011                    0  \n",
       "4012                    1  "
      ]
     },
     "execution_count": 4,
     "metadata": {},
     "output_type": "execute_result"
    }
   ],
   "source": [
    "baserate_data = pd.read_csv(r\"..\\data\\中国_存贷款基准利率_1年.csv\", encoding='gbk')\n",
    "date_col_2 = '日期'\n",
    "baserate_cols = ['中国:存款基准利率:1年', '中国:贷款基准利率:1年']\n",
    "baserate_data.columns = [date_col_2] + baserate_cols\n",
    "baserate_data = generate_daily_rates_and_signals(baserate_data, date_col_2, baserate_cols)\n",
    "baserate_data.tail()"
   ]
  },
  {
   "cell_type": "markdown",
   "id": "5dd89fc5-132a-4794-a2a7-96f1f933144d",
   "metadata": {},
   "source": [
    "**公开市场操作的日信号处理**"
   ]
  },
  {
   "cell_type": "markdown",
   "id": "570ffa7c-e032-4cea-ae82-2384aa4ed0ce",
   "metadata": {},
   "source": [
    "7天逆回购率日信号处理"
   ]
  },
  {
   "cell_type": "code",
   "execution_count": 5,
   "id": "1e558223-1230-4b06-9448-9a469ee87fa4",
   "metadata": {},
   "outputs": [
    {
     "data": {
      "text/html": [
       "<div>\n",
       "<style scoped>\n",
       "    .dataframe tbody tr th:only-of-type {\n",
       "        vertical-align: middle;\n",
       "    }\n",
       "\n",
       "    .dataframe tbody tr th {\n",
       "        vertical-align: top;\n",
       "    }\n",
       "\n",
       "    .dataframe thead th {\n",
       "        text-align: right;\n",
       "    }\n",
       "</style>\n",
       "<table border=\"1\" class=\"dataframe\">\n",
       "  <thead>\n",
       "    <tr style=\"text-align: right;\">\n",
       "      <th></th>\n",
       "      <th>日期</th>\n",
       "      <th>中国:逆回购利率:7天</th>\n",
       "      <th>中国:逆回购利率:7天_signal</th>\n",
       "    </tr>\n",
       "  </thead>\n",
       "  <tbody>\n",
       "    <tr>\n",
       "      <th>4614</th>\n",
       "      <td>2024-12-20</td>\n",
       "      <td>1.5</td>\n",
       "      <td>0</td>\n",
       "    </tr>\n",
       "    <tr>\n",
       "      <th>4615</th>\n",
       "      <td>2024-12-21</td>\n",
       "      <td>1.5</td>\n",
       "      <td>0</td>\n",
       "    </tr>\n",
       "    <tr>\n",
       "      <th>4616</th>\n",
       "      <td>2024-12-22</td>\n",
       "      <td>1.5</td>\n",
       "      <td>0</td>\n",
       "    </tr>\n",
       "    <tr>\n",
       "      <th>4617</th>\n",
       "      <td>2024-12-23</td>\n",
       "      <td>1.5</td>\n",
       "      <td>0</td>\n",
       "    </tr>\n",
       "    <tr>\n",
       "      <th>4618</th>\n",
       "      <td>2024-12-24</td>\n",
       "      <td>1.5</td>\n",
       "      <td>0</td>\n",
       "    </tr>\n",
       "  </tbody>\n",
       "</table>\n",
       "</div>"
      ],
      "text/plain": [
       "             日期  中国:逆回购利率:7天  中国:逆回购利率:7天_signal\n",
       "4614 2024-12-20          1.5                   0\n",
       "4615 2024-12-21          1.5                   0\n",
       "4616 2024-12-22          1.5                   0\n",
       "4617 2024-12-23          1.5                   0\n",
       "4618 2024-12-24          1.5                   0"
      ]
     },
     "execution_count": 5,
     "metadata": {},
     "output_type": "execute_result"
    }
   ],
   "source": [
    "repo_data = pd.read_csv(r\"..\\data\\中国_逆回购利率_7天.csv\", encoding='gbk')\n",
    "date_col_3 = '日期'\n",
    "repo_cols = ['中国:逆回购利率:7天']\n",
    "repo_data.columns = [date_col_3] + repo_cols\n",
    "repo_data = generate_daily_rates_and_signals(repo_data, date_col_3, repo_cols)\n",
    "repo_data.tail()"
   ]
  },
  {
   "cell_type": "markdown",
   "id": "9563c693-fdb6-421e-a67b-3b517d24edf1",
   "metadata": {},
   "source": [
    "1年MLF"
   ]
  },
  {
   "cell_type": "code",
   "execution_count": 6,
   "id": "f4325201-89c4-4772-9903-043e344c80ad",
   "metadata": {},
   "outputs": [
    {
     "data": {
      "text/html": [
       "<div>\n",
       "<style scoped>\n",
       "    .dataframe tbody tr th:only-of-type {\n",
       "        vertical-align: middle;\n",
       "    }\n",
       "\n",
       "    .dataframe tbody tr th {\n",
       "        vertical-align: top;\n",
       "    }\n",
       "\n",
       "    .dataframe thead th {\n",
       "        text-align: right;\n",
       "    }\n",
       "</style>\n",
       "<table border=\"1\" class=\"dataframe\">\n",
       "  <thead>\n",
       "    <tr style=\"text-align: right;\">\n",
       "      <th></th>\n",
       "      <th>日期</th>\n",
       "      <th>利率:中期借贷便利(MLF):1年</th>\n",
       "      <th>利率:中期借贷便利(MLF):1年_signal</th>\n",
       "    </tr>\n",
       "  </thead>\n",
       "  <tbody>\n",
       "    <tr>\n",
       "      <th>3229</th>\n",
       "      <td>2024-11-21</td>\n",
       "      <td>2.0</td>\n",
       "      <td>0</td>\n",
       "    </tr>\n",
       "    <tr>\n",
       "      <th>3230</th>\n",
       "      <td>2024-11-22</td>\n",
       "      <td>2.0</td>\n",
       "      <td>0</td>\n",
       "    </tr>\n",
       "    <tr>\n",
       "      <th>3231</th>\n",
       "      <td>2024-11-23</td>\n",
       "      <td>2.0</td>\n",
       "      <td>0</td>\n",
       "    </tr>\n",
       "    <tr>\n",
       "      <th>3232</th>\n",
       "      <td>2024-11-24</td>\n",
       "      <td>2.0</td>\n",
       "      <td>0</td>\n",
       "    </tr>\n",
       "    <tr>\n",
       "      <th>3233</th>\n",
       "      <td>2024-11-25</td>\n",
       "      <td>2.0</td>\n",
       "      <td>0</td>\n",
       "    </tr>\n",
       "  </tbody>\n",
       "</table>\n",
       "</div>"
      ],
      "text/plain": [
       "             日期  利率:中期借贷便利(MLF):1年  利率:中期借贷便利(MLF):1年_signal\n",
       "3229 2024-11-21                2.0                         0\n",
       "3230 2024-11-22                2.0                         0\n",
       "3231 2024-11-23                2.0                         0\n",
       "3232 2024-11-24                2.0                         0\n",
       "3233 2024-11-25                2.0                         0"
      ]
     },
     "execution_count": 6,
     "metadata": {},
     "output_type": "execute_result"
    }
   ],
   "source": [
    "mlf_data = pd.read_csv(r\"..\\data\\利率_中期借贷便利(MLF)_1年.csv\", encoding='gbk')\n",
    "date_col_4 = '日期'\n",
    "mlf_cols = ['利率:中期借贷便利(MLF):1年']\n",
    "mlf_data.columns = [date_col_4] + mlf_cols\n",
    "mlf_data = generate_daily_rates_and_signals(mlf_data, date_col_4, mlf_cols)\n",
    "mlf_data.tail()"
   ]
  },
  {
   "cell_type": "markdown",
   "id": "2bfdc4f1-4cdc-416a-9420-93c48cb09b6c",
   "metadata": {},
   "source": [
    "央票发行利率处理"
   ]
  },
  {
   "cell_type": "code",
   "execution_count": 7,
   "id": "07af4620-0dc7-4a39-87ee-e873e4ac3717",
   "metadata": {},
   "outputs": [],
   "source": [
    "def generate_daily_rates_and_signals_symmetric(data, date_col, rate_cols, signal_suffix=\"_signal\"):\n",
    "    '''\n",
    "    这同样是生成日度信号的函数，但是阈值改变，应用于DR007和央票发行利率\n",
    "    '''\n",
    "    data[date_col] = pd.to_datetime(data[date_col])\n",
    "    data = data.sort_values(date_col)\n",
    "    full_dates = pd.date_range(start=data[date_col].min(), end=data[date_col].max(), freq='D')\n",
    "    full_data = pd.DataFrame({date_col: full_dates})\n",
    "    merged_data = full_data.merge(data, on=date_col, how='left')\n",
    "\n",
    "    for rate_col in rate_cols:\n",
    "        merged_data[rate_col] = merged_data[rate_col].ffill()\n",
    "\n",
    "    for rate_col in rate_cols:\n",
    "        signal_col = rate_col + signal_suffix\n",
    "        merged_data[signal_col] = 0  \n",
    "        diff = merged_data[rate_col].diff()  \n",
    "        merged_data.loc[merged_data[date_col].isin(data[date_col]), signal_col] = diff.apply(\n",
    "            lambda x: 1 if x < -0.05 else -1 if x > 0.05 else 0\n",
    "        )\n",
    "    \n",
    "    signal_cols = [date_col] + [rate_col + signal_suffix for rate_col in rate_cols]\n",
    "    return merged_data[signal_cols]\n"
   ]
  },
  {
   "cell_type": "code",
   "execution_count": 8,
   "id": "b21735c2-9921-43b4-83e0-453ae064ae50",
   "metadata": {},
   "outputs": [
    {
     "data": {
      "text/html": [
       "<div>\n",
       "<style scoped>\n",
       "    .dataframe tbody tr th:only-of-type {\n",
       "        vertical-align: middle;\n",
       "    }\n",
       "\n",
       "    .dataframe tbody tr th {\n",
       "        vertical-align: top;\n",
       "    }\n",
       "\n",
       "    .dataframe thead th {\n",
       "        text-align: right;\n",
       "    }\n",
       "</style>\n",
       "<table border=\"1\" class=\"dataframe\">\n",
       "  <thead>\n",
       "    <tr style=\"text-align: right;\">\n",
       "      <th></th>\n",
       "      <th>日期</th>\n",
       "      <th>发行利率:央行票据:3个月_signal</th>\n",
       "      <th>发行利率:央行票据:1年期_signal</th>\n",
       "      <th>央行票据:发行利率:6个月_signal</th>\n",
       "      <th>央行票据:发行利率:3年期_signal</th>\n",
       "    </tr>\n",
       "  </thead>\n",
       "  <tbody>\n",
       "    <tr>\n",
       "      <th>7887</th>\n",
       "      <td>2024-11-24</td>\n",
       "      <td>0</td>\n",
       "      <td>0</td>\n",
       "      <td>0</td>\n",
       "      <td>0</td>\n",
       "    </tr>\n",
       "    <tr>\n",
       "      <th>7888</th>\n",
       "      <td>2024-11-25</td>\n",
       "      <td>0</td>\n",
       "      <td>0</td>\n",
       "      <td>0</td>\n",
       "      <td>0</td>\n",
       "    </tr>\n",
       "    <tr>\n",
       "      <th>7889</th>\n",
       "      <td>2024-11-26</td>\n",
       "      <td>0</td>\n",
       "      <td>0</td>\n",
       "      <td>0</td>\n",
       "      <td>0</td>\n",
       "    </tr>\n",
       "    <tr>\n",
       "      <th>7890</th>\n",
       "      <td>2024-11-27</td>\n",
       "      <td>0</td>\n",
       "      <td>0</td>\n",
       "      <td>0</td>\n",
       "      <td>0</td>\n",
       "    </tr>\n",
       "    <tr>\n",
       "      <th>7891</th>\n",
       "      <td>2024-11-28</td>\n",
       "      <td>0</td>\n",
       "      <td>0</td>\n",
       "      <td>0</td>\n",
       "      <td>0</td>\n",
       "    </tr>\n",
       "  </tbody>\n",
       "</table>\n",
       "</div>"
      ],
      "text/plain": [
       "             日期  发行利率:央行票据:3个月_signal  发行利率:央行票据:1年期_signal  \\\n",
       "7887 2024-11-24                     0                     0   \n",
       "7888 2024-11-25                     0                     0   \n",
       "7889 2024-11-26                     0                     0   \n",
       "7890 2024-11-27                     0                     0   \n",
       "7891 2024-11-28                     0                     0   \n",
       "\n",
       "      央行票据:发行利率:6个月_signal  央行票据:发行利率:3年期_signal  \n",
       "7887                     0                     0  \n",
       "7888                     0                     0  \n",
       "7889                     0                     0  \n",
       "7890                     0                     0  \n",
       "7891                     0                     0  "
      ]
     },
     "execution_count": 8,
     "metadata": {},
     "output_type": "execute_result"
    }
   ],
   "source": [
    "#央票利率（3M,6M,1Y,3Y)\n",
    "face_data = pd.read_csv(r\"..\\data\\中国_发行利率_央行票据.csv\", encoding='gbk')\n",
    "date_col_5 = '日期'\n",
    "face_cols = ['发行利率:央行票据:3个月', '发行利率:央行票据:1年期', '央行票据:发行利率:6个月', '央行票据:发行利率:3年期']\n",
    "face_data.columns = [date_col_5] + face_cols\n",
    "face_data = generate_daily_rates_and_signals_symmetric(face_data, date_col_5, face_cols)\n",
    "face_data.tail()"
   ]
  },
  {
   "cell_type": "markdown",
   "id": "dcd8c317-d627-4bdc-8f0c-4eecd891d734",
   "metadata": {},
   "source": [
    "**日度信号的月度汇总处理**\n",
    "：先计算同一一级分项下的日均值，而后按月聚合"
   ]
  },
  {
   "cell_type": "code",
   "execution_count": 9,
   "id": "cf13a4a6-efb8-4cfd-b0e5-1f8d7c5afe36",
   "metadata": {},
   "outputs": [],
   "source": [
    "def aggregate_monthly_signals(data, date_col, signal_cols, dataset_name=\"dataset\"): \n",
    "    '''\n",
    "    按月份汇总信号数据，返回包含月份和信号汇总值的数据框。\n",
    "    '''\n",
    "    data[date_col] = pd.to_datetime(data[date_col])\n",
    "    \n",
    "    def calculate_mean_without_zeros(row):\n",
    "        non_zero_values = row[row != 0]\n",
    "        return non_zero_values.mean() if len(non_zero_values) > 0 else 0  \n",
    "\n",
    "    data['daily_mean_signal'] = data[signal_cols].apply(calculate_mean_without_zeros, axis=1)\n",
    "    data['month'] = data[date_col].dt.to_period('M') \n",
    "    monthly_data = data.groupby('month')['daily_mean_signal'].sum().reset_index()\n",
    "    monthly_data.rename(columns={'daily_mean_signal': f'{dataset_name}月汇总'}, inplace=True)\n",
    "\n",
    "    return monthly_data"
   ]
  },
  {
   "cell_type": "markdown",
   "id": "cc1880fc-37b0-4a97-89bd-1f83b97ec328",
   "metadata": {},
   "source": [
    "**存款准备金月汇总**"
   ]
  },
  {
   "cell_type": "code",
   "execution_count": 10,
   "id": "0e21769b-bbc8-47a9-beb9-4e2e7ade8ead",
   "metadata": {},
   "outputs": [
    {
     "data": {
      "text/html": [
       "<div>\n",
       "<style scoped>\n",
       "    .dataframe tbody tr th:only-of-type {\n",
       "        vertical-align: middle;\n",
       "    }\n",
       "\n",
       "    .dataframe tbody tr th {\n",
       "        vertical-align: top;\n",
       "    }\n",
       "\n",
       "    .dataframe thead th {\n",
       "        text-align: right;\n",
       "    }\n",
       "</style>\n",
       "<table border=\"1\" class=\"dataframe\">\n",
       "  <thead>\n",
       "    <tr style=\"text-align: right;\">\n",
       "      <th></th>\n",
       "      <th>month</th>\n",
       "      <th>存款准备金率月汇总</th>\n",
       "    </tr>\n",
       "  </thead>\n",
       "  <tbody>\n",
       "    <tr>\n",
       "      <th>0</th>\n",
       "      <td>2003-09</td>\n",
       "      <td>0.0</td>\n",
       "    </tr>\n",
       "    <tr>\n",
       "      <th>1</th>\n",
       "      <td>2003-10</td>\n",
       "      <td>0.0</td>\n",
       "    </tr>\n",
       "    <tr>\n",
       "      <th>2</th>\n",
       "      <td>2003-11</td>\n",
       "      <td>0.0</td>\n",
       "    </tr>\n",
       "    <tr>\n",
       "      <th>3</th>\n",
       "      <td>2003-12</td>\n",
       "      <td>0.0</td>\n",
       "    </tr>\n",
       "    <tr>\n",
       "      <th>4</th>\n",
       "      <td>2004-01</td>\n",
       "      <td>0.0</td>\n",
       "    </tr>\n",
       "  </tbody>\n",
       "</table>\n",
       "</div>"
      ],
      "text/plain": [
       "     month  存款准备金率月汇总\n",
       "0  2003-09        0.0\n",
       "1  2003-10        0.0\n",
       "2  2003-11        0.0\n",
       "3  2003-12        0.0\n",
       "4  2004-01        0.0"
      ]
     },
     "execution_count": 10,
     "metadata": {},
     "output_type": "execute_result"
    }
   ],
   "source": [
    "#存款准备金率月汇总\n",
    "signal_cols = ['中国:人民币存款准备金率:中小型存款类金融机构:变动日期_signal', '中国:人民币存款准备金率:大型存款类金融机构:变动日期_signal']\n",
    "dataset_name = '存款准备金率'\n",
    "monthly_data_fund = aggregate_monthly_signals(fund_daily_data, '日期', signal_cols, dataset_name)\n",
    "monthly_data_fund.head()"
   ]
  },
  {
   "cell_type": "markdown",
   "id": "fd7b7bac-56ee-4407-b1c9-be694f6e12a6",
   "metadata": {},
   "source": [
    "**存贷款基准利率月汇总**"
   ]
  },
  {
   "cell_type": "code",
   "execution_count": 11,
   "id": "88431516-0e35-4e60-a7d0-97888a118fec",
   "metadata": {},
   "outputs": [
    {
     "data": {
      "text/html": [
       "<div>\n",
       "<style scoped>\n",
       "    .dataframe tbody tr th:only-of-type {\n",
       "        vertical-align: middle;\n",
       "    }\n",
       "\n",
       "    .dataframe tbody tr th {\n",
       "        vertical-align: top;\n",
       "    }\n",
       "\n",
       "    .dataframe thead th {\n",
       "        text-align: right;\n",
       "    }\n",
       "</style>\n",
       "<table border=\"1\" class=\"dataframe\">\n",
       "  <thead>\n",
       "    <tr style=\"text-align: right;\">\n",
       "      <th></th>\n",
       "      <th>month</th>\n",
       "      <th>存贷款基准利率月汇总</th>\n",
       "    </tr>\n",
       "  </thead>\n",
       "  <tbody>\n",
       "    <tr>\n",
       "      <th>0</th>\n",
       "      <td>2004-10</td>\n",
       "      <td>0.0</td>\n",
       "    </tr>\n",
       "    <tr>\n",
       "      <th>1</th>\n",
       "      <td>2004-11</td>\n",
       "      <td>0.0</td>\n",
       "    </tr>\n",
       "    <tr>\n",
       "      <th>2</th>\n",
       "      <td>2004-12</td>\n",
       "      <td>0.0</td>\n",
       "    </tr>\n",
       "    <tr>\n",
       "      <th>3</th>\n",
       "      <td>2005-01</td>\n",
       "      <td>0.0</td>\n",
       "    </tr>\n",
       "    <tr>\n",
       "      <th>4</th>\n",
       "      <td>2005-02</td>\n",
       "      <td>0.0</td>\n",
       "    </tr>\n",
       "  </tbody>\n",
       "</table>\n",
       "</div>"
      ],
      "text/plain": [
       "     month  存贷款基准利率月汇总\n",
       "0  2004-10         0.0\n",
       "1  2004-11         0.0\n",
       "2  2004-12         0.0\n",
       "3  2005-01         0.0\n",
       "4  2005-02         0.0"
      ]
     },
     "execution_count": 11,
     "metadata": {},
     "output_type": "execute_result"
    }
   ],
   "source": [
    "#存贷款基准利率月汇总\n",
    "signal_cols = ['中国:存款基准利率:1年_signal', '中国:贷款基准利率:1年_signal']\n",
    "dataset_name = '存贷款基准利率'\n",
    "monthly_data_baserate = aggregate_monthly_signals(baserate_data, '日期', signal_cols, dataset_name)\n",
    "monthly_data_baserate.head()"
   ]
  },
  {
   "cell_type": "markdown",
   "id": "f5987a7f-e90e-4738-9f1b-a8985c884f28",
   "metadata": {},
   "source": [
    "**公开市场操作月汇总**"
   ]
  },
  {
   "cell_type": "markdown",
   "id": "88c4fa55-2c6f-4609-92ac-f1c71c09859a",
   "metadata": {},
   "source": [
    "央票发行利率月汇总"
   ]
  },
  {
   "cell_type": "code",
   "execution_count": 12,
   "id": "b9d895bd-e784-4ad5-9c93-80d11e99a82a",
   "metadata": {},
   "outputs": [
    {
     "data": {
      "text/html": [
       "<div>\n",
       "<style scoped>\n",
       "    .dataframe tbody tr th:only-of-type {\n",
       "        vertical-align: middle;\n",
       "    }\n",
       "\n",
       "    .dataframe tbody tr th {\n",
       "        vertical-align: top;\n",
       "    }\n",
       "\n",
       "    .dataframe thead th {\n",
       "        text-align: right;\n",
       "    }\n",
       "</style>\n",
       "<table border=\"1\" class=\"dataframe\">\n",
       "  <thead>\n",
       "    <tr style=\"text-align: right;\">\n",
       "      <th></th>\n",
       "      <th>month</th>\n",
       "      <th>央票发行利率月汇总</th>\n",
       "    </tr>\n",
       "  </thead>\n",
       "  <tbody>\n",
       "    <tr>\n",
       "      <th>0</th>\n",
       "      <td>2003-04</td>\n",
       "      <td>0.0</td>\n",
       "    </tr>\n",
       "    <tr>\n",
       "      <th>1</th>\n",
       "      <td>2003-05</td>\n",
       "      <td>1.0</td>\n",
       "    </tr>\n",
       "    <tr>\n",
       "      <th>2</th>\n",
       "      <td>2003-06</td>\n",
       "      <td>-2.0</td>\n",
       "    </tr>\n",
       "    <tr>\n",
       "      <th>3</th>\n",
       "      <td>2003-07</td>\n",
       "      <td>-1.0</td>\n",
       "    </tr>\n",
       "    <tr>\n",
       "      <th>4</th>\n",
       "      <td>2003-08</td>\n",
       "      <td>-2.0</td>\n",
       "    </tr>\n",
       "  </tbody>\n",
       "</table>\n",
       "</div>"
      ],
      "text/plain": [
       "     month  央票发行利率月汇总\n",
       "0  2003-04        0.0\n",
       "1  2003-05        1.0\n",
       "2  2003-06       -2.0\n",
       "3  2003-07       -1.0\n",
       "4  2003-08       -2.0"
      ]
     },
     "execution_count": 12,
     "metadata": {},
     "output_type": "execute_result"
    }
   ],
   "source": [
    "#央票发行利率月汇总\n",
    "signal_cols = ['发行利率:央行票据:3个月_signal', '发行利率:央行票据:1年期_signal', '央行票据:发行利率:6个月_signal', '央行票据:发行利率:3年期_signal']\n",
    "dataset_name = '央票发行利率'\n",
    "monthly_data_face = aggregate_monthly_signals(face_data, '日期', signal_cols, dataset_name)\n",
    "monthly_data_face.head()"
   ]
  },
  {
   "cell_type": "markdown",
   "id": "2abc23db-57a4-4a32-b02e-601864dc4f33",
   "metadata": {},
   "source": [
    "逆回购率及MLF月汇总"
   ]
  },
  {
   "cell_type": "code",
   "execution_count": 13,
   "id": "f94d4be2-b783-4483-933a-4a21fa7c13ae",
   "metadata": {},
   "outputs": [],
   "source": [
    "def aggregate_monthly_signals_simple(data, date_col, signal_cols, dataset_name=\"dataset\"):\n",
    "    '''\n",
    "    对这两个变量，无需计算均值，直接月度加总    \n",
    "    '''\n",
    "    data[date_col] = pd.to_datetime(data[date_col])\n",
    "    data['daily_signal'] = data[signal_cols]\n",
    "    data['month'] = data[date_col].dt.to_period('M') \n",
    "    monthly_data = data.groupby('month')['daily_signal'].sum().reset_index()\n",
    "    monthly_data.rename(columns={'daily_signal': f'{dataset_name}月汇总'}, inplace=True)\n",
    "    return monthly_data"
   ]
  },
  {
   "cell_type": "code",
   "execution_count": 14,
   "id": "01442c24-fe66-47b2-8b19-a20df53590e4",
   "metadata": {},
   "outputs": [
    {
     "data": {
      "text/html": [
       "<div>\n",
       "<style scoped>\n",
       "    .dataframe tbody tr th:only-of-type {\n",
       "        vertical-align: middle;\n",
       "    }\n",
       "\n",
       "    .dataframe tbody tr th {\n",
       "        vertical-align: top;\n",
       "    }\n",
       "\n",
       "    .dataframe thead th {\n",
       "        text-align: right;\n",
       "    }\n",
       "</style>\n",
       "<table border=\"1\" class=\"dataframe\">\n",
       "  <thead>\n",
       "    <tr style=\"text-align: right;\">\n",
       "      <th></th>\n",
       "      <th>month</th>\n",
       "      <th>逆回购率月汇总</th>\n",
       "    </tr>\n",
       "  </thead>\n",
       "  <tbody>\n",
       "    <tr>\n",
       "      <th>0</th>\n",
       "      <td>2012-05</td>\n",
       "      <td>1</td>\n",
       "    </tr>\n",
       "    <tr>\n",
       "      <th>1</th>\n",
       "      <td>2012-06</td>\n",
       "      <td>0</td>\n",
       "    </tr>\n",
       "    <tr>\n",
       "      <th>2</th>\n",
       "      <td>2012-07</td>\n",
       "      <td>0</td>\n",
       "    </tr>\n",
       "    <tr>\n",
       "      <th>3</th>\n",
       "      <td>2012-08</td>\n",
       "      <td>-1</td>\n",
       "    </tr>\n",
       "    <tr>\n",
       "      <th>4</th>\n",
       "      <td>2012-09</td>\n",
       "      <td>1</td>\n",
       "    </tr>\n",
       "  </tbody>\n",
       "</table>\n",
       "</div>"
      ],
      "text/plain": [
       "     month  逆回购率月汇总\n",
       "0  2012-05        1\n",
       "1  2012-06        0\n",
       "2  2012-07        0\n",
       "3  2012-08       -1\n",
       "4  2012-09        1"
      ]
     },
     "execution_count": 14,
     "metadata": {},
     "output_type": "execute_result"
    }
   ],
   "source": [
    "#逆回购率\n",
    "signal_cols = ['中国:逆回购利率:7天_signal']\n",
    "dataset_name = '逆回购率'\n",
    "monthly_data_repo = aggregate_monthly_signals_simple(repo_data, '日期', signal_cols, dataset_name)\n",
    "monthly_data_repo.head()"
   ]
  },
  {
   "cell_type": "code",
   "execution_count": 15,
   "id": "199c455b-4eeb-450e-a3dc-b45d3e1130dd",
   "metadata": {},
   "outputs": [
    {
     "data": {
      "text/html": [
       "<div>\n",
       "<style scoped>\n",
       "    .dataframe tbody tr th:only-of-type {\n",
       "        vertical-align: middle;\n",
       "    }\n",
       "\n",
       "    .dataframe tbody tr th {\n",
       "        vertical-align: top;\n",
       "    }\n",
       "\n",
       "    .dataframe thead th {\n",
       "        text-align: right;\n",
       "    }\n",
       "</style>\n",
       "<table border=\"1\" class=\"dataframe\">\n",
       "  <thead>\n",
       "    <tr style=\"text-align: right;\">\n",
       "      <th></th>\n",
       "      <th>month</th>\n",
       "      <th>MLF月汇总</th>\n",
       "    </tr>\n",
       "  </thead>\n",
       "  <tbody>\n",
       "    <tr>\n",
       "      <th>0</th>\n",
       "      <td>2016-01</td>\n",
       "      <td>0</td>\n",
       "    </tr>\n",
       "    <tr>\n",
       "      <th>1</th>\n",
       "      <td>2016-02</td>\n",
       "      <td>1</td>\n",
       "    </tr>\n",
       "    <tr>\n",
       "      <th>2</th>\n",
       "      <td>2016-03</td>\n",
       "      <td>0</td>\n",
       "    </tr>\n",
       "    <tr>\n",
       "      <th>3</th>\n",
       "      <td>2016-04</td>\n",
       "      <td>0</td>\n",
       "    </tr>\n",
       "    <tr>\n",
       "      <th>4</th>\n",
       "      <td>2016-05</td>\n",
       "      <td>0</td>\n",
       "    </tr>\n",
       "  </tbody>\n",
       "</table>\n",
       "</div>"
      ],
      "text/plain": [
       "     month  MLF月汇总\n",
       "0  2016-01       0\n",
       "1  2016-02       1\n",
       "2  2016-03       0\n",
       "3  2016-04       0\n",
       "4  2016-05       0"
      ]
     },
     "execution_count": 15,
     "metadata": {},
     "output_type": "execute_result"
    }
   ],
   "source": [
    "#MLF月汇总\n",
    "signal_cols = ['利率:中期借贷便利(MLF):1年_signal']\n",
    "dataset_name = 'MLF'\n",
    "monthly_data_mlf = aggregate_monthly_signals_simple(mlf_data, '日期', signal_cols, dataset_name)\n",
    "monthly_data_mlf.head()"
   ]
  },
  {
   "cell_type": "markdown",
   "id": "cec6c004-7f09-41d4-8f97-6fb654c80876",
   "metadata": {},
   "source": [
    "央票发行利率 + MLF + 逆回购率 = 公开市场操作月汇总"
   ]
  },
  {
   "cell_type": "code",
   "execution_count": 16,
   "id": "01f8b67f-97f9-414c-a31b-543c130f51d4",
   "metadata": {},
   "outputs": [
    {
     "data": {
      "text/html": [
       "<div>\n",
       "<style scoped>\n",
       "    .dataframe tbody tr th:only-of-type {\n",
       "        vertical-align: middle;\n",
       "    }\n",
       "\n",
       "    .dataframe tbody tr th {\n",
       "        vertical-align: top;\n",
       "    }\n",
       "\n",
       "    .dataframe thead th {\n",
       "        text-align: right;\n",
       "    }\n",
       "</style>\n",
       "<table border=\"1\" class=\"dataframe\">\n",
       "  <thead>\n",
       "    <tr style=\"text-align: right;\">\n",
       "      <th></th>\n",
       "      <th>month</th>\n",
       "      <th>OMO_monthly_sum</th>\n",
       "    </tr>\n",
       "  </thead>\n",
       "  <tbody>\n",
       "    <tr>\n",
       "      <th>0</th>\n",
       "      <td>2003-04-01</td>\n",
       "      <td>0.0</td>\n",
       "    </tr>\n",
       "    <tr>\n",
       "      <th>1</th>\n",
       "      <td>2003-05-01</td>\n",
       "      <td>1.0</td>\n",
       "    </tr>\n",
       "    <tr>\n",
       "      <th>2</th>\n",
       "      <td>2003-06-01</td>\n",
       "      <td>-2.0</td>\n",
       "    </tr>\n",
       "    <tr>\n",
       "      <th>3</th>\n",
       "      <td>2003-07-01</td>\n",
       "      <td>-1.0</td>\n",
       "    </tr>\n",
       "    <tr>\n",
       "      <th>4</th>\n",
       "      <td>2003-08-01</td>\n",
       "      <td>-2.0</td>\n",
       "    </tr>\n",
       "  </tbody>\n",
       "</table>\n",
       "</div>"
      ],
      "text/plain": [
       "       month  OMO_monthly_sum\n",
       "0 2003-04-01              0.0\n",
       "1 2003-05-01              1.0\n",
       "2 2003-06-01             -2.0\n",
       "3 2003-07-01             -1.0\n",
       "4 2003-08-01             -2.0"
      ]
     },
     "execution_count": 16,
     "metadata": {},
     "output_type": "execute_result"
    }
   ],
   "source": [
    "def combine_monthly_sums(datasets, date_col, sum_cols, combined_col_name=\"OMO_monthly_sum\"):\n",
    "    combined_data = None\n",
    "\n",
    "    for dataset, sum_col in zip(datasets, sum_cols):\n",
    "        dataset[date_col] = dataset[date_col].astype(str)\n",
    "        dataset[date_col] = pd.to_datetime(dataset[date_col], format=\"%Y-%m\", errors=\"coerce\")\n",
    "\n",
    "        temp_data = dataset[[date_col, sum_col]].copy()\n",
    "        temp_data.rename(columns={sum_col: \"current_sum\"}, inplace=True)\n",
    "\n",
    "        if combined_data is None:\n",
    "            combined_data = temp_data.rename(columns={\"current_sum\": combined_col_name})\n",
    "        else:\n",
    "            combined_data = combined_data.merge(temp_data, on=date_col, how='outer')\n",
    "            combined_data[combined_col_name] = (\n",
    "                combined_data[combined_col_name].fillna(0) \n",
    "                + combined_data[\"current_sum\"].fillna(0)\n",
    "            )\n",
    "            combined_data.drop(columns=[\"current_sum\"], inplace=True)\n",
    "\n",
    "    combined_data = combined_data.sort_values(date_col).reset_index(drop=True)\n",
    "    return combined_data\n",
    "\n",
    "\n",
    "datasets = [monthly_data_mlf, monthly_data_repo, monthly_data_face]\n",
    "date_col = 'month'\n",
    "sum_cols = ['MLF月汇总', '逆回购率月汇总', '央票发行利率月汇总']  # 每个数据集的月汇总列名不同\n",
    "\n",
    "omo_monthly_sum = combine_monthly_sums(datasets, date_col, sum_cols, combined_col_name=\"OMO_monthly_sum\")\n",
    "\n",
    "omo_monthly_sum.head()\n"
   ]
  },
  {
   "cell_type": "markdown",
   "id": "d1f9225b-b96c-4ef8-bdeb-64fc53935999",
   "metadata": {},
   "source": [
    "**由月度加总变成月度信号**"
   ]
  },
  {
   "cell_type": "code",
   "execution_count": 17,
   "id": "8a2e16d8-4af5-4e71-baf4-2f10539266d3",
   "metadata": {},
   "outputs": [],
   "source": [
    "def generate_monthly_rates_and_signals(data, date_col, rate_cols, signal_suffix=\"_signal\"):\n",
    "    '''\n",
    "    生成月度信号的函数，若月度汇总大于0，则月度信号为1，经济含义为宽松\n",
    "    '''\n",
    "    data = data.sort_values(by=date_col).copy()\n",
    "\n",
    "    for rate_col in rate_cols:\n",
    "        signal_col = rate_col + signal_suffix\n",
    "\n",
    "        data[signal_col] = data[rate_col].apply(\n",
    "            lambda x: 1 if x > 0 else -1 if x < 0 else 0\n",
    "        )\n",
    "\n",
    "    return data"
   ]
  },
  {
   "cell_type": "markdown",
   "id": "a029dbf8-917e-45f0-a6d7-cf6752c28750",
   "metadata": {},
   "source": [
    "月度存款准备金率信号"
   ]
  },
  {
   "cell_type": "code",
   "execution_count": 18,
   "id": "8bb558d9-0e99-4ccf-a420-e91e1c36134f",
   "metadata": {},
   "outputs": [
    {
     "data": {
      "text/html": [
       "<div>\n",
       "<style scoped>\n",
       "    .dataframe tbody tr th:only-of-type {\n",
       "        vertical-align: middle;\n",
       "    }\n",
       "\n",
       "    .dataframe tbody tr th {\n",
       "        vertical-align: top;\n",
       "    }\n",
       "\n",
       "    .dataframe thead th {\n",
       "        text-align: right;\n",
       "    }\n",
       "</style>\n",
       "<table border=\"1\" class=\"dataframe\">\n",
       "  <thead>\n",
       "    <tr style=\"text-align: right;\">\n",
       "      <th></th>\n",
       "      <th>month</th>\n",
       "      <th>存款准备金率月汇总</th>\n",
       "      <th>存款准备金率月汇总_signal</th>\n",
       "    </tr>\n",
       "  </thead>\n",
       "  <tbody>\n",
       "    <tr>\n",
       "      <th>0</th>\n",
       "      <td>2003-09</td>\n",
       "      <td>0.0</td>\n",
       "      <td>0</td>\n",
       "    </tr>\n",
       "    <tr>\n",
       "      <th>1</th>\n",
       "      <td>2003-10</td>\n",
       "      <td>0.0</td>\n",
       "      <td>0</td>\n",
       "    </tr>\n",
       "    <tr>\n",
       "      <th>2</th>\n",
       "      <td>2003-11</td>\n",
       "      <td>0.0</td>\n",
       "      <td>0</td>\n",
       "    </tr>\n",
       "    <tr>\n",
       "      <th>3</th>\n",
       "      <td>2003-12</td>\n",
       "      <td>0.0</td>\n",
       "      <td>0</td>\n",
       "    </tr>\n",
       "    <tr>\n",
       "      <th>4</th>\n",
       "      <td>2004-01</td>\n",
       "      <td>0.0</td>\n",
       "      <td>0</td>\n",
       "    </tr>\n",
       "  </tbody>\n",
       "</table>\n",
       "</div>"
      ],
      "text/plain": [
       "     month  存款准备金率月汇总  存款准备金率月汇总_signal\n",
       "0  2003-09        0.0                 0\n",
       "1  2003-10        0.0                 0\n",
       "2  2003-11        0.0                 0\n",
       "3  2003-12        0.0                 0\n",
       "4  2004-01        0.0                 0"
      ]
     },
     "execution_count": 18,
     "metadata": {},
     "output_type": "execute_result"
    }
   ],
   "source": [
    "#存款准备金率月信号\n",
    "date_col = 'month'\n",
    "rate_cols = ['存款准备金率月汇总']\n",
    "fund_monthly_signal = generate_monthly_rates_and_signals(monthly_data_fund, date_col, rate_cols)\n",
    "fund_monthly_signal.head()"
   ]
  },
  {
   "cell_type": "markdown",
   "id": "e9485e5a-bf4d-478e-8c15-56ad63e9cf3e",
   "metadata": {},
   "source": [
    "月度存贷款基准利率信号"
   ]
  },
  {
   "cell_type": "code",
   "execution_count": 19,
   "id": "8a85a1bd-5b2f-442b-9be3-f7759d616bbb",
   "metadata": {},
   "outputs": [
    {
     "data": {
      "text/html": [
       "<div>\n",
       "<style scoped>\n",
       "    .dataframe tbody tr th:only-of-type {\n",
       "        vertical-align: middle;\n",
       "    }\n",
       "\n",
       "    .dataframe tbody tr th {\n",
       "        vertical-align: top;\n",
       "    }\n",
       "\n",
       "    .dataframe thead th {\n",
       "        text-align: right;\n",
       "    }\n",
       "</style>\n",
       "<table border=\"1\" class=\"dataframe\">\n",
       "  <thead>\n",
       "    <tr style=\"text-align: right;\">\n",
       "      <th></th>\n",
       "      <th>month</th>\n",
       "      <th>存贷款基准利率月汇总</th>\n",
       "      <th>存贷款基准利率月汇总_signal</th>\n",
       "    </tr>\n",
       "  </thead>\n",
       "  <tbody>\n",
       "    <tr>\n",
       "      <th>0</th>\n",
       "      <td>2004-10</td>\n",
       "      <td>0.0</td>\n",
       "      <td>0</td>\n",
       "    </tr>\n",
       "    <tr>\n",
       "      <th>1</th>\n",
       "      <td>2004-11</td>\n",
       "      <td>0.0</td>\n",
       "      <td>0</td>\n",
       "    </tr>\n",
       "    <tr>\n",
       "      <th>2</th>\n",
       "      <td>2004-12</td>\n",
       "      <td>0.0</td>\n",
       "      <td>0</td>\n",
       "    </tr>\n",
       "    <tr>\n",
       "      <th>3</th>\n",
       "      <td>2005-01</td>\n",
       "      <td>0.0</td>\n",
       "      <td>0</td>\n",
       "    </tr>\n",
       "    <tr>\n",
       "      <th>4</th>\n",
       "      <td>2005-02</td>\n",
       "      <td>0.0</td>\n",
       "      <td>0</td>\n",
       "    </tr>\n",
       "  </tbody>\n",
       "</table>\n",
       "</div>"
      ],
      "text/plain": [
       "     month  存贷款基准利率月汇总  存贷款基准利率月汇总_signal\n",
       "0  2004-10         0.0                  0\n",
       "1  2004-11         0.0                  0\n",
       "2  2004-12         0.0                  0\n",
       "3  2005-01         0.0                  0\n",
       "4  2005-02         0.0                  0"
      ]
     },
     "execution_count": 19,
     "metadata": {},
     "output_type": "execute_result"
    }
   ],
   "source": [
    "#存贷款基准利率月信号\n",
    "date_col = 'month'\n",
    "rate_cols = ['存贷款基准利率月汇总']\n",
    "baserate_monthly_signal = generate_monthly_rates_and_signals(monthly_data_baserate, date_col, rate_cols)\n",
    "baserate_monthly_signal.head()"
   ]
  },
  {
   "cell_type": "markdown",
   "id": "1a517422-1da3-4589-9a32-425afa52d77a",
   "metadata": {},
   "source": [
    "月度公开市场操作信号"
   ]
  },
  {
   "cell_type": "code",
   "execution_count": 20,
   "id": "f6490363-93e0-4057-88e9-e6ce15394774",
   "metadata": {},
   "outputs": [
    {
     "data": {
      "text/html": [
       "<div>\n",
       "<style scoped>\n",
       "    .dataframe tbody tr th:only-of-type {\n",
       "        vertical-align: middle;\n",
       "    }\n",
       "\n",
       "    .dataframe tbody tr th {\n",
       "        vertical-align: top;\n",
       "    }\n",
       "\n",
       "    .dataframe thead th {\n",
       "        text-align: right;\n",
       "    }\n",
       "</style>\n",
       "<table border=\"1\" class=\"dataframe\">\n",
       "  <thead>\n",
       "    <tr style=\"text-align: right;\">\n",
       "      <th></th>\n",
       "      <th>month</th>\n",
       "      <th>OMO_monthly_sum</th>\n",
       "      <th>OMO_monthly_sum_signal</th>\n",
       "    </tr>\n",
       "  </thead>\n",
       "  <tbody>\n",
       "    <tr>\n",
       "      <th>256</th>\n",
       "      <td>2024-08</td>\n",
       "      <td>0.0</td>\n",
       "      <td>0</td>\n",
       "    </tr>\n",
       "    <tr>\n",
       "      <th>257</th>\n",
       "      <td>2024-09</td>\n",
       "      <td>2.0</td>\n",
       "      <td>1</td>\n",
       "    </tr>\n",
       "    <tr>\n",
       "      <th>258</th>\n",
       "      <td>2024-10</td>\n",
       "      <td>0.0</td>\n",
       "      <td>0</td>\n",
       "    </tr>\n",
       "    <tr>\n",
       "      <th>259</th>\n",
       "      <td>2024-11</td>\n",
       "      <td>0.0</td>\n",
       "      <td>0</td>\n",
       "    </tr>\n",
       "    <tr>\n",
       "      <th>260</th>\n",
       "      <td>2024-12</td>\n",
       "      <td>0.0</td>\n",
       "      <td>0</td>\n",
       "    </tr>\n",
       "  </tbody>\n",
       "</table>\n",
       "</div>"
      ],
      "text/plain": [
       "       month  OMO_monthly_sum  OMO_monthly_sum_signal\n",
       "256  2024-08              0.0                       0\n",
       "257  2024-09              2.0                       1\n",
       "258  2024-10              0.0                       0\n",
       "259  2024-11              0.0                       0\n",
       "260  2024-12              0.0                       0"
      ]
     },
     "execution_count": 20,
     "metadata": {},
     "output_type": "execute_result"
    }
   ],
   "source": [
    "#公开市场操作月信号\n",
    "date_col = 'month'\n",
    "rate_cols = ['OMO_monthly_sum']\n",
    "\n",
    "omo_monthly_sum[\"month\"] = pd.to_datetime(omo_monthly_sum[\"month\"]) \n",
    "omo_monthly_sum[\"month\"] = omo_monthly_sum[\"month\"].dt.to_period(\"M\")\n",
    "omo_monthly_signal = generate_monthly_rates_and_signals(omo_monthly_sum, date_col, rate_cols)\n",
    "omo_monthly_signal.tail()"
   ]
  },
  {
   "cell_type": "markdown",
   "id": "ac8e244a-d552-4db2-b16e-143db0e97ef8",
   "metadata": {},
   "source": [
    "月度货币市场利率信号：该变量前面不需要月度汇总，在这里直接生成月度信号"
   ]
  },
  {
   "cell_type": "code",
   "execution_count": 21,
   "id": "27b9f442-fc20-4386-b6cd-b21ddd5dff34",
   "metadata": {},
   "outputs": [],
   "source": [
    "def generate_monthly_rates_and_signals_symmetric(data, date_col, rate_cols, signal_suffix=\"_signal\"):\n",
    "  \n",
    "    data = data.sort_values(by=date_col).copy()\n",
    "\n",
    "    for rate_col in rate_cols:\n",
    "        signal_col = rate_col + signal_suffix\n",
    "        data[signal_col] = 0\n",
    "\n",
    "        diff_series = data[rate_col].diff()\n",
    "        data.loc[:, signal_col] = diff_series.apply(\n",
    "            lambda x: 1 if x < -0.05 else -1 if x > 0.05 else 0\n",
    "        )\n",
    "\n",
    "    return data"
   ]
  },
  {
   "cell_type": "code",
   "execution_count": 22,
   "id": "ecfa3c1a-8026-4fb6-b23a-9724cdf7e902",
   "metadata": {},
   "outputs": [
    {
     "data": {
      "text/html": [
       "<div>\n",
       "<style scoped>\n",
       "    .dataframe tbody tr th:only-of-type {\n",
       "        vertical-align: middle;\n",
       "    }\n",
       "\n",
       "    .dataframe tbody tr th {\n",
       "        vertical-align: top;\n",
       "    }\n",
       "\n",
       "    .dataframe thead th {\n",
       "        text-align: right;\n",
       "    }\n",
       "</style>\n",
       "<table border=\"1\" class=\"dataframe\">\n",
       "  <thead>\n",
       "    <tr style=\"text-align: right;\">\n",
       "      <th></th>\n",
       "      <th>month</th>\n",
       "      <th>DR007</th>\n",
       "      <th>DR007_signal</th>\n",
       "    </tr>\n",
       "  </thead>\n",
       "  <tbody>\n",
       "    <tr>\n",
       "      <th>0</th>\n",
       "      <td>2014-12</td>\n",
       "      <td>4.815731</td>\n",
       "      <td>0</td>\n",
       "    </tr>\n",
       "    <tr>\n",
       "      <th>1</th>\n",
       "      <td>2015-01</td>\n",
       "      <td>3.951133</td>\n",
       "      <td>1</td>\n",
       "    </tr>\n",
       "    <tr>\n",
       "      <th>2</th>\n",
       "      <td>2015-02</td>\n",
       "      <td>4.595559</td>\n",
       "      <td>-1</td>\n",
       "    </tr>\n",
       "    <tr>\n",
       "      <th>3</th>\n",
       "      <td>2015-03</td>\n",
       "      <td>4.411400</td>\n",
       "      <td>1</td>\n",
       "    </tr>\n",
       "    <tr>\n",
       "      <th>4</th>\n",
       "      <td>2015-04</td>\n",
       "      <td>2.846471</td>\n",
       "      <td>1</td>\n",
       "    </tr>\n",
       "  </tbody>\n",
       "</table>\n",
       "</div>"
      ],
      "text/plain": [
       "     month     DR007  DR007_signal\n",
       "0  2014-12  4.815731             0\n",
       "1  2015-01  3.951133             1\n",
       "2  2015-02  4.595559            -1\n",
       "3  2015-03  4.411400             1\n",
       "4  2015-04  2.846471             1"
      ]
     },
     "execution_count": 22,
     "metadata": {},
     "output_type": "execute_result"
    }
   ],
   "source": [
    "dr007_monthly_data = pd.read_csv(r\"..\\data\\DR007_monthly.csv\", encoding = 'gbk', index_col = 0)\n",
    "date_col = 'month'\n",
    "rate_cols = ['DR007']\n",
    "dr007_monthly_data[\"month\"] = pd.to_datetime(dr007_monthly_data[\"month\"]) \n",
    "dr007_monthly_data[\"month\"] = dr007_monthly_data[\"month\"].dt.to_period(\"M\")\n",
    "dr007_monthly_signal = generate_monthly_rates_and_signals_symmetric(dr007_monthly_data, date_col, rate_cols)\n",
    "\n",
    "dr007_monthly_signal.head()"
   ]
  },
  {
   "cell_type": "markdown",
   "id": "cbcf3ebb-28dc-452a-86ef-4b3f66895e7c",
   "metadata": {},
   "source": [
    "**生成月度基准信号**"
   ]
  },
  {
   "cell_type": "markdown",
   "id": "84822166-889e-4f33-adba-06156704ce56",
   "metadata": {},
   "source": [
    "依照惯例，先加总-再转为信号；先对月度存款准备金率信号和月度存贷款利率信号进行加总"
   ]
  },
  {
   "cell_type": "code",
   "execution_count": 23,
   "id": "7400922e-4679-4b57-8f49-16f47c274dc6",
   "metadata": {},
   "outputs": [
    {
     "data": {
      "text/html": [
       "<div>\n",
       "<style scoped>\n",
       "    .dataframe tbody tr th:only-of-type {\n",
       "        vertical-align: middle;\n",
       "    }\n",
       "\n",
       "    .dataframe tbody tr th {\n",
       "        vertical-align: top;\n",
       "    }\n",
       "\n",
       "    .dataframe thead th {\n",
       "        text-align: right;\n",
       "    }\n",
       "</style>\n",
       "<table border=\"1\" class=\"dataframe\">\n",
       "  <thead>\n",
       "    <tr style=\"text-align: right;\">\n",
       "      <th></th>\n",
       "      <th>month</th>\n",
       "      <th>pre_monthly_base_signal</th>\n",
       "    </tr>\n",
       "  </thead>\n",
       "  <tbody>\n",
       "    <tr>\n",
       "      <th>248</th>\n",
       "      <td>2024-05</td>\n",
       "      <td>0.0</td>\n",
       "    </tr>\n",
       "    <tr>\n",
       "      <th>249</th>\n",
       "      <td>2024-06</td>\n",
       "      <td>0.0</td>\n",
       "    </tr>\n",
       "    <tr>\n",
       "      <th>250</th>\n",
       "      <td>2024-07</td>\n",
       "      <td>0.0</td>\n",
       "    </tr>\n",
       "    <tr>\n",
       "      <th>251</th>\n",
       "      <td>2024-08</td>\n",
       "      <td>0.0</td>\n",
       "    </tr>\n",
       "    <tr>\n",
       "      <th>252</th>\n",
       "      <td>2024-09</td>\n",
       "      <td>1.0</td>\n",
       "    </tr>\n",
       "  </tbody>\n",
       "</table>\n",
       "</div>"
      ],
      "text/plain": [
       "       month  pre_monthly_base_signal\n",
       "248  2024-05                      0.0\n",
       "249  2024-06                      0.0\n",
       "250  2024-07                      0.0\n",
       "251  2024-08                      0.0\n",
       "252  2024-09                      1.0"
      ]
     },
     "execution_count": 23,
     "metadata": {},
     "output_type": "execute_result"
    }
   ],
   "source": [
    "def combine_monthly_signal_sums(datasets, date_col, sum_cols, combined_col_name=\"monthly_base_sum\"):\n",
    "    combined_data = None\n",
    "\n",
    "    for dataset, sum_col in zip(datasets, sum_cols):\n",
    "        if dataset[date_col].dtype.name == \"period[M]\":\n",
    "            dataset[date_col] = dataset[date_col].dt.to_timestamp()\n",
    "        elif dataset[date_col].dtype == \"object\":\n",
    "            dataset[date_col] = pd.to_datetime(dataset[date_col], format=\"%Y-%m\", errors=\"coerce\")\n",
    "\n",
    "        temp_data = dataset[[date_col, sum_col]].copy()\n",
    "        temp_data.rename(columns={sum_col: \"current_sum\"}, inplace=True)\n",
    "\n",
    "        if combined_data is None:\n",
    "            combined_data = temp_data.rename(columns={\"current_sum\": combined_col_name})\n",
    "        else:\n",
    "            combined_data = combined_data.merge(temp_data, on=date_col, how='outer')\n",
    "            combined_data[combined_col_name] = (\n",
    "                combined_data[combined_col_name].fillna(0) \n",
    "                + combined_data[\"current_sum\"].fillna(0)\n",
    "            )\n",
    "            combined_data.drop(columns=[\"current_sum\"], inplace=True)\n",
    "\n",
    "    combined_data = combined_data.sort_values(date_col).reset_index(drop=True)\n",
    "    return combined_data\n",
    "\n",
    "\n",
    "datasets = [fund_monthly_signal, baserate_monthly_signal]\n",
    "date_col = 'month'\n",
    "sum_cols = ['存款准备金率月汇总_signal', '存贷款基准利率月汇总_signal']  \n",
    "\n",
    "pre_monthly_base_signal = combine_monthly_signal_sums(datasets, date_col, sum_cols, combined_col_name=\"pre_monthly_base_signal\")\n",
    "pre_monthly_base_signal[\"month\"] = pre_monthly_base_signal[\"month\"].dt.to_period(\"M\")\n",
    "\n",
    "\n",
    "pre_monthly_base_signal.tail()\n"
   ]
  },
  {
   "cell_type": "markdown",
   "id": "2639276d",
   "metadata": {},
   "source": [
    "转为信号"
   ]
  },
  {
   "cell_type": "code",
   "execution_count": 24,
   "id": "89946bef-2856-4ac2-a7a2-a27fdd47f110",
   "metadata": {},
   "outputs": [],
   "source": [
    "def generate_base_signals(data, date_col, rate_cols, signal_suffix=\"_final\"):\n",
    "    '''\n",
    "    生成基准信号的函数，若月度加总大于0，则信号为1，经济含义为宽松\n",
    "    '''\n",
    "\n",
    "    data = data.sort_values(by=date_col).copy()\n",
    "\n",
    "    for rate_col in rate_cols:\n",
    "        signal_col = rate_col + signal_suffix\n",
    "        data[signal_col] = data[rate_col].apply(\n",
    "            lambda x: 1 if x > 0 else -1 if x < 0 else 0\n",
    "        )\n",
    "\n",
    "    return data"
   ]
  },
  {
   "cell_type": "code",
   "execution_count": 25,
   "id": "51413e27-5b6e-4dde-9c72-08a75f20e955",
   "metadata": {},
   "outputs": [
    {
     "data": {
      "text/html": [
       "<div>\n",
       "<style scoped>\n",
       "    .dataframe tbody tr th:only-of-type {\n",
       "        vertical-align: middle;\n",
       "    }\n",
       "\n",
       "    .dataframe tbody tr th {\n",
       "        vertical-align: top;\n",
       "    }\n",
       "\n",
       "    .dataframe thead th {\n",
       "        text-align: right;\n",
       "    }\n",
       "</style>\n",
       "<table border=\"1\" class=\"dataframe\">\n",
       "  <thead>\n",
       "    <tr style=\"text-align: right;\">\n",
       "      <th></th>\n",
       "      <th>month</th>\n",
       "      <th>pre_monthly_base_signal</th>\n",
       "      <th>pre_monthly_base_signal_final</th>\n",
       "    </tr>\n",
       "  </thead>\n",
       "  <tbody>\n",
       "    <tr>\n",
       "      <th>0</th>\n",
       "      <td>2003-09</td>\n",
       "      <td>0.0</td>\n",
       "      <td>0</td>\n",
       "    </tr>\n",
       "    <tr>\n",
       "      <th>1</th>\n",
       "      <td>2003-10</td>\n",
       "      <td>0.0</td>\n",
       "      <td>0</td>\n",
       "    </tr>\n",
       "    <tr>\n",
       "      <th>2</th>\n",
       "      <td>2003-11</td>\n",
       "      <td>0.0</td>\n",
       "      <td>0</td>\n",
       "    </tr>\n",
       "    <tr>\n",
       "      <th>3</th>\n",
       "      <td>2003-12</td>\n",
       "      <td>0.0</td>\n",
       "      <td>0</td>\n",
       "    </tr>\n",
       "    <tr>\n",
       "      <th>4</th>\n",
       "      <td>2004-01</td>\n",
       "      <td>0.0</td>\n",
       "      <td>0</td>\n",
       "    </tr>\n",
       "  </tbody>\n",
       "</table>\n",
       "</div>"
      ],
      "text/plain": [
       "     month  pre_monthly_base_signal  pre_monthly_base_signal_final\n",
       "0  2003-09                      0.0                              0\n",
       "1  2003-10                      0.0                              0\n",
       "2  2003-11                      0.0                              0\n",
       "3  2003-12                      0.0                              0\n",
       "4  2004-01                      0.0                              0"
      ]
     },
     "execution_count": 25,
     "metadata": {},
     "output_type": "execute_result"
    }
   ],
   "source": [
    "#月度基准信号\n",
    "date_col = 'month'\n",
    "rate_cols = ['pre_monthly_base_signal']\n",
    "monthly_base_signal = generate_base_signals(pre_monthly_base_signal, date_col, rate_cols)\n",
    "monthly_base_signal.head()"
   ]
  },
  {
   "cell_type": "code",
   "execution_count": 26,
   "id": "6bb294d6",
   "metadata": {},
   "outputs": [],
   "source": [
    "def update_signals_based_on_events(events_data, signal_data, date_col, signal_col, event_col, start_date_col, event_signal_map):\n",
    "\n",
    "    events_data[start_date_col] = pd.to_datetime(events_data[start_date_col]).dt.to_period('M')\n",
    "    events_data['信号值'] = events_data[event_col].map(event_signal_map)\n",
    "    if not pd.api.types.is_period_dtype(signal_data[date_col]):\n",
    "        signal_data[date_col] = pd.to_datetime(signal_data[date_col]).dt.to_period('M')\n",
    "    for _, row in events_data.iterrows():\n",
    "        event_date = row[start_date_col]\n",
    "        event_signal = row['信号值']\n",
    "        if event_date in signal_data[date_col].values:\n",
    "            signal_data.loc[signal_data[date_col] == event_date, signal_col] = event_signal\n",
    "\n",
    "    return signal_data"
   ]
  },
  {
   "cell_type": "markdown",
   "id": "59767fbf",
   "metadata": {},
   "source": [
    "**主观信号**"
   ]
  },
  {
   "cell_type": "code",
   "execution_count": 27,
   "id": "6f225ad4-b2cf-45e4-bd9a-83758d296e18",
   "metadata": {},
   "outputs": [
    {
     "name": "stderr",
     "output_type": "stream",
     "text": [
      "C:\\Users\\Hosen\\AppData\\Local\\Temp\\ipykernel_12764\\4008096292.py:5: DeprecationWarning: is_period_dtype is deprecated and will be removed in a future version. Use `isinstance(dtype, pd.PeriodDtype)` instead\n",
      "  if not pd.api.types.is_period_dtype(signal_data[date_col]):\n"
     ]
    },
    {
     "data": {
      "text/html": [
       "<div>\n",
       "<style scoped>\n",
       "    .dataframe tbody tr th:only-of-type {\n",
       "        vertical-align: middle;\n",
       "    }\n",
       "\n",
       "    .dataframe tbody tr th {\n",
       "        vertical-align: top;\n",
       "    }\n",
       "\n",
       "    .dataframe thead th {\n",
       "        text-align: right;\n",
       "    }\n",
       "</style>\n",
       "<table border=\"1\" class=\"dataframe\">\n",
       "  <thead>\n",
       "    <tr style=\"text-align: right;\">\n",
       "      <th></th>\n",
       "      <th>month</th>\n",
       "      <th>pre_monthly_base_signal</th>\n",
       "      <th>pre_monthly_base_signal_final</th>\n",
       "    </tr>\n",
       "  </thead>\n",
       "  <tbody>\n",
       "    <tr>\n",
       "      <th>248</th>\n",
       "      <td>2024-05</td>\n",
       "      <td>0.0</td>\n",
       "      <td>0</td>\n",
       "    </tr>\n",
       "    <tr>\n",
       "      <th>249</th>\n",
       "      <td>2024-06</td>\n",
       "      <td>0.0</td>\n",
       "      <td>0</td>\n",
       "    </tr>\n",
       "    <tr>\n",
       "      <th>250</th>\n",
       "      <td>2024-07</td>\n",
       "      <td>0.0</td>\n",
       "      <td>0</td>\n",
       "    </tr>\n",
       "    <tr>\n",
       "      <th>251</th>\n",
       "      <td>2024-08</td>\n",
       "      <td>0.0</td>\n",
       "      <td>0</td>\n",
       "    </tr>\n",
       "    <tr>\n",
       "      <th>252</th>\n",
       "      <td>2024-09</td>\n",
       "      <td>1.0</td>\n",
       "      <td>1</td>\n",
       "    </tr>\n",
       "  </tbody>\n",
       "</table>\n",
       "</div>"
      ],
      "text/plain": [
       "       month  pre_monthly_base_signal  pre_monthly_base_signal_final\n",
       "248  2024-05                      0.0                              0\n",
       "249  2024-06                      0.0                              0\n",
       "250  2024-07                      0.0                              0\n",
       "251  2024-08                      0.0                              0\n",
       "252  2024-09                      1.0                              1"
      ]
     },
     "execution_count": 27,
     "metadata": {},
     "output_type": "execute_result"
    }
   ],
   "source": [
    "events_data = pd.read_csv(r\"..\\data\\主观信号.csv\", encoding='gbk')\n",
    "\n",
    "event_signal_map = {\n",
    "    \"定向降准\": 1,\n",
    "    \"货币市场利率\": -1\n",
    "}\n",
    "\n",
    "\n",
    "updated_monthly_base_signal = update_signals_based_on_events(\n",
    "    events_data=events_data,\n",
    "    signal_data=monthly_base_signal,\n",
    "    date_col='month',\n",
    "    signal_col='pre_monthly_base_signal_final',\n",
    "    event_col='事件',\n",
    "    start_date_col='开始日期',\n",
    "    event_signal_map=event_signal_map\n",
    ")\n",
    "\n",
    "updated_monthly_base_signal.tail()\n",
    "\n"
   ]
  },
  {
   "cell_type": "markdown",
   "id": "e4b2d86d-6ddc-42b8-b5a6-9a238ae8fede",
   "metadata": {},
   "source": [
    "***月度货币周期指数***"
   ]
  },
  {
   "cell_type": "code",
   "execution_count": 28,
   "id": "1c9225e5-f331-4748-ba10-a7b27627962e",
   "metadata": {},
   "outputs": [],
   "source": [
    "def calculate_monthly_monetary_cycle_index(\n",
    "    base_data: pd.DataFrame,\n",
    "    open_market_data: pd.DataFrame,\n",
    "    market_rate_data: pd.DataFrame,\n",
    "    date_col: str,\n",
    "    base_signal_col: str,\n",
    "    open_market_signal_col: str,\n",
    "    market_rate_signal_col: str\n",
    "):\n",
    "    \"\"\"\n",
    "    根据如下规则计算月度货币周期指数：\n",
    "      - 当月基准信号为 +1/-1 时，指数直接为 +1/-1；\n",
    "      - 当月基准信号为 0 时，指数 = 上月指数 + 公开市场操作信号/3 + 利率信号/3。\n",
    "    \"\"\"\n",
    "    \n",
    "    if pd.api.types.is_period_dtype(base_data[date_col]):\n",
    "        base_data[date_col] = base_data[date_col].dt.to_timestamp(how=\"start\")\n",
    "    if pd.api.types.is_period_dtype(open_market_data[date_col]):\n",
    "        open_market_data[date_col] = open_market_data[date_col].dt.to_timestamp(how=\"start\")\n",
    "    if pd.api.types.is_period_dtype(market_rate_data[date_col]):\n",
    "        market_rate_data[date_col] = market_rate_data[date_col].dt.to_timestamp(how=\"start\")\n",
    "    df = (\n",
    "        base_data.set_index(date_col)[[base_signal_col]]\n",
    "        .join(open_market_data.set_index(date_col)[[open_market_signal_col]], how='outer')\n",
    "        .join(market_rate_data.set_index(date_col)[[market_rate_signal_col]], how='outer')\n",
    "        .sort_index()\n",
    "    )\n",
    "    \n",
    "    df[[base_signal_col, open_market_signal_col, market_rate_signal_col]] = df[\n",
    "        [base_signal_col, open_market_signal_col, market_rate_signal_col]\n",
    "    ].fillna(0)\n",
    "\n",
    "    df[\"monetary_cycle_index\"] = pd.NA\n",
    "    \n",
    "    dates = df.index.unique().sort_values()\n",
    "    \n",
    "    first_month = dates[0]\n",
    "    first_base_signal = df.at[first_month, base_signal_col]\n",
    "    if first_base_signal == 1:\n",
    "        df.at[first_month, \"monetary_cycle_index\"] = 1\n",
    "    elif first_base_signal == -1:\n",
    "        df.at[first_month, \"monetary_cycle_index\"] = -1\n",
    "    else:\n",
    "        df.at[first_month, \"monetary_cycle_index\"] = 0\n",
    "\n",
    "    for t in range(1, len(dates)):\n",
    "        current_date = dates[t]\n",
    "        prev_date = dates[t - 1]\n",
    "\n",
    "        b_signal = df.at[current_date, base_signal_col]\n",
    "        o_signal = df.at[current_date, open_market_signal_col]\n",
    "        r_signal = df.at[current_date, market_rate_signal_col]\n",
    "\n",
    "        prev_index_val = df.at[prev_date, \"monetary_cycle_index\"]\n",
    "\n",
    "        if b_signal == 1:\n",
    "            df.at[current_date, \"monetary_cycle_index\"] = 1\n",
    "        elif b_signal == -1:\n",
    "            df.at[current_date, \"monetary_cycle_index\"] = -1\n",
    "        else:\n",
    "            df.at[current_date, \"monetary_cycle_index\"] = prev_index_val + o_signal / 3 + r_signal / 3\n",
    "    \n",
    "    result = df.reset_index()[[date_col, \"monetary_cycle_index\"]].copy()\n",
    "    return result\n"
   ]
  },
  {
   "cell_type": "code",
   "execution_count": 29,
   "id": "e2d678c7-23fb-42b3-9e1e-307b58dd6135",
   "metadata": {},
   "outputs": [
    {
     "name": "stderr",
     "output_type": "stream",
     "text": [
      "C:\\Users\\Hosen\\AppData\\Local\\Temp\\ipykernel_12764\\3336156166.py:16: DeprecationWarning: is_period_dtype is deprecated and will be removed in a future version. Use `isinstance(dtype, pd.PeriodDtype)` instead\n",
      "  if pd.api.types.is_period_dtype(base_data[date_col]):\n",
      "C:\\Users\\Hosen\\AppData\\Local\\Temp\\ipykernel_12764\\3336156166.py:18: DeprecationWarning: is_period_dtype is deprecated and will be removed in a future version. Use `isinstance(dtype, pd.PeriodDtype)` instead\n",
      "  if pd.api.types.is_period_dtype(open_market_data[date_col]):\n",
      "C:\\Users\\Hosen\\AppData\\Local\\Temp\\ipykernel_12764\\3336156166.py:20: DeprecationWarning: is_period_dtype is deprecated and will be removed in a future version. Use `isinstance(dtype, pd.PeriodDtype)` instead\n",
      "  if pd.api.types.is_period_dtype(market_rate_data[date_col]):\n"
     ]
    },
    {
     "data": {
      "text/html": [
       "<div>\n",
       "<style scoped>\n",
       "    .dataframe tbody tr th:only-of-type {\n",
       "        vertical-align: middle;\n",
       "    }\n",
       "\n",
       "    .dataframe tbody tr th {\n",
       "        vertical-align: top;\n",
       "    }\n",
       "\n",
       "    .dataframe thead th {\n",
       "        text-align: right;\n",
       "    }\n",
       "</style>\n",
       "<table border=\"1\" class=\"dataframe\">\n",
       "  <thead>\n",
       "    <tr style=\"text-align: right;\">\n",
       "      <th></th>\n",
       "      <th>month</th>\n",
       "      <th>monetary_cycle_index</th>\n",
       "    </tr>\n",
       "  </thead>\n",
       "  <tbody>\n",
       "    <tr>\n",
       "      <th>256</th>\n",
       "      <td>2024-08-01</td>\n",
       "      <td>1.333333</td>\n",
       "    </tr>\n",
       "    <tr>\n",
       "      <th>257</th>\n",
       "      <td>2024-09-01</td>\n",
       "      <td>1</td>\n",
       "    </tr>\n",
       "    <tr>\n",
       "      <th>258</th>\n",
       "      <td>2024-10-01</td>\n",
       "      <td>1.333333</td>\n",
       "    </tr>\n",
       "    <tr>\n",
       "      <th>259</th>\n",
       "      <td>2024-11-01</td>\n",
       "      <td>1.333333</td>\n",
       "    </tr>\n",
       "    <tr>\n",
       "      <th>260</th>\n",
       "      <td>2024-12-01</td>\n",
       "      <td>1.333333</td>\n",
       "    </tr>\n",
       "  </tbody>\n",
       "</table>\n",
       "</div>"
      ],
      "text/plain": [
       "         month monetary_cycle_index\n",
       "256 2024-08-01             1.333333\n",
       "257 2024-09-01                    1\n",
       "258 2024-10-01             1.333333\n",
       "259 2024-11-01             1.333333\n",
       "260 2024-12-01             1.333333"
      ]
     },
     "execution_count": 29,
     "metadata": {},
     "output_type": "execute_result"
    }
   ],
   "source": [
    "monetary_cycle_index = calculate_monthly_monetary_cycle_index(\n",
    "    base_data=updated_monthly_base_signal,\n",
    "    open_market_data=omo_monthly_signal,\n",
    "    market_rate_data=dr007_monthly_signal,\n",
    "    date_col=\"month\",\n",
    "    base_signal_col=\"pre_monthly_base_signal_final\",\n",
    "    open_market_signal_col=\"OMO_monthly_sum_signal\",\n",
    "    market_rate_signal_col=\"DR007_signal\"\n",
    ")\n",
    "monetary_cycle_index.tail()"
   ]
  },
  {
   "cell_type": "markdown",
   "id": "9d57c53b-76f6-4e1e-9146-c71af67cafd5",
   "metadata": {},
   "source": [
    "***货币周期划分*** 货币周期指数>0则为宽周期，<0则为紧周期，=0为中性"
   ]
  },
  {
   "cell_type": "code",
   "execution_count": 30,
   "id": "fcc5b7b5-189c-489a-9318-4485993284d2",
   "metadata": {},
   "outputs": [
    {
     "data": {
      "text/html": [
       "<div>\n",
       "<style scoped>\n",
       "    .dataframe tbody tr th:only-of-type {\n",
       "        vertical-align: middle;\n",
       "    }\n",
       "\n",
       "    .dataframe tbody tr th {\n",
       "        vertical-align: top;\n",
       "    }\n",
       "\n",
       "    .dataframe thead th {\n",
       "        text-align: right;\n",
       "    }\n",
       "</style>\n",
       "<table border=\"1\" class=\"dataframe\">\n",
       "  <thead>\n",
       "    <tr style=\"text-align: right;\">\n",
       "      <th></th>\n",
       "      <th>month</th>\n",
       "      <th>monetary_cycle_index</th>\n",
       "      <th>cycle_phase</th>\n",
       "    </tr>\n",
       "  </thead>\n",
       "  <tbody>\n",
       "    <tr>\n",
       "      <th>0</th>\n",
       "      <td>2003-04-01</td>\n",
       "      <td>0</td>\n",
       "      <td>中性</td>\n",
       "    </tr>\n",
       "    <tr>\n",
       "      <th>1</th>\n",
       "      <td>2003-05-01</td>\n",
       "      <td>0.333333</td>\n",
       "      <td>宽周期</td>\n",
       "    </tr>\n",
       "    <tr>\n",
       "      <th>2</th>\n",
       "      <td>2003-06-01</td>\n",
       "      <td>0.0</td>\n",
       "      <td>中性</td>\n",
       "    </tr>\n",
       "    <tr>\n",
       "      <th>3</th>\n",
       "      <td>2003-07-01</td>\n",
       "      <td>-0.333333</td>\n",
       "      <td>紧周期</td>\n",
       "    </tr>\n",
       "    <tr>\n",
       "      <th>4</th>\n",
       "      <td>2003-08-01</td>\n",
       "      <td>-0.666667</td>\n",
       "      <td>紧周期</td>\n",
       "    </tr>\n",
       "  </tbody>\n",
       "</table>\n",
       "</div>"
      ],
      "text/plain": [
       "       month monetary_cycle_index cycle_phase\n",
       "0 2003-04-01                    0          中性\n",
       "1 2003-05-01             0.333333         宽周期\n",
       "2 2003-06-01                  0.0          中性\n",
       "3 2003-07-01            -0.333333         紧周期\n",
       "4 2003-08-01            -0.666667         紧周期"
      ]
     },
     "execution_count": 30,
     "metadata": {},
     "output_type": "execute_result"
    }
   ],
   "source": [
    "df = monetary_cycle_index.sort_values(\"month\").reset_index(drop=True)\n",
    "\n",
    "df[\"cycle_phase\"] = np.select(\n",
    "    [\n",
    "        df[\"monetary_cycle_index\"] > 0,\n",
    "        df[\"monetary_cycle_index\"] < 0\n",
    "    ],\n",
    "    [\n",
    "        \"宽周期\",\n",
    "        \"紧周期\"\n",
    "    ],\n",
    "    default=\"中性\"\n",
    ")\n",
    "\n",
    "df.head()"
   ]
  },
  {
   "cell_type": "code",
   "execution_count": 31,
   "id": "4b5bea0e-8ebe-4477-956f-8754767c8a6b",
   "metadata": {},
   "outputs": [
    {
     "name": "stderr",
     "output_type": "stream",
     "text": [
      "C:\\Users\\Hosen\\AppData\\Local\\Temp\\ipykernel_12764\\3477662717.py:13: FutureWarning: Setting an item of incompatible dtype is deprecated and will raise in a future error of pandas. Value 'True' has dtype incompatible with float64, please explicitly cast to a compatible dtype first.\n",
      "  grouped.loc[i, \"delete\"] = True\n"
     ]
    },
    {
     "data": {
      "text/html": [
       "<div>\n",
       "<style scoped>\n",
       "    .dataframe tbody tr th:only-of-type {\n",
       "        vertical-align: middle;\n",
       "    }\n",
       "\n",
       "    .dataframe tbody tr th {\n",
       "        vertical-align: top;\n",
       "    }\n",
       "\n",
       "    .dataframe thead th {\n",
       "        text-align: right;\n",
       "    }\n",
       "</style>\n",
       "<table border=\"1\" class=\"dataframe\">\n",
       "  <thead>\n",
       "    <tr style=\"text-align: right;\">\n",
       "      <th></th>\n",
       "      <th>group_id</th>\n",
       "      <th>start_month</th>\n",
       "      <th>end_month</th>\n",
       "      <th>cycle_phase</th>\n",
       "      <th>duration</th>\n",
       "    </tr>\n",
       "  </thead>\n",
       "  <tbody>\n",
       "    <tr>\n",
       "      <th>0</th>\n",
       "      <td>1</td>\n",
       "      <td>2003-04</td>\n",
       "      <td>2003-05</td>\n",
       "      <td>中性</td>\n",
       "      <td>1</td>\n",
       "    </tr>\n",
       "    <tr>\n",
       "      <th>1</th>\n",
       "      <td>4</td>\n",
       "      <td>2003-07</td>\n",
       "      <td>2005-06</td>\n",
       "      <td>紧周期</td>\n",
       "      <td>24</td>\n",
       "    </tr>\n",
       "    <tr>\n",
       "      <th>2</th>\n",
       "      <td>5</td>\n",
       "      <td>2005-07</td>\n",
       "      <td>2006-03</td>\n",
       "      <td>宽周期</td>\n",
       "      <td>8</td>\n",
       "    </tr>\n",
       "    <tr>\n",
       "      <th>4</th>\n",
       "      <td>8</td>\n",
       "      <td>2006-04</td>\n",
       "      <td>2008-08</td>\n",
       "      <td>紧周期</td>\n",
       "      <td>29</td>\n",
       "    </tr>\n",
       "    <tr>\n",
       "      <th>5</th>\n",
       "      <td>9</td>\n",
       "      <td>2008-09</td>\n",
       "      <td>2009-12</td>\n",
       "      <td>宽周期</td>\n",
       "      <td>16</td>\n",
       "    </tr>\n",
       "    <tr>\n",
       "      <th>6</th>\n",
       "      <td>10</td>\n",
       "      <td>2010-01</td>\n",
       "      <td>2011-11</td>\n",
       "      <td>紧周期</td>\n",
       "      <td>23</td>\n",
       "    </tr>\n",
       "    <tr>\n",
       "      <th>7</th>\n",
       "      <td>11</td>\n",
       "      <td>2011-12</td>\n",
       "      <td>2013-05</td>\n",
       "      <td>宽周期</td>\n",
       "      <td>18</td>\n",
       "    </tr>\n",
       "    <tr>\n",
       "      <th>8</th>\n",
       "      <td>12</td>\n",
       "      <td>2013-06</td>\n",
       "      <td>2014-03</td>\n",
       "      <td>紧周期</td>\n",
       "      <td>10</td>\n",
       "    </tr>\n",
       "    <tr>\n",
       "      <th>9</th>\n",
       "      <td>13</td>\n",
       "      <td>2014-04</td>\n",
       "      <td>2017-01</td>\n",
       "      <td>宽周期</td>\n",
       "      <td>34</td>\n",
       "    </tr>\n",
       "    <tr>\n",
       "      <th>10</th>\n",
       "      <td>14</td>\n",
       "      <td>2017-02</td>\n",
       "      <td>2017-12</td>\n",
       "      <td>紧周期</td>\n",
       "      <td>11</td>\n",
       "    </tr>\n",
       "    <tr>\n",
       "      <th>11</th>\n",
       "      <td>15</td>\n",
       "      <td>2018-01</td>\n",
       "      <td>2020-09</td>\n",
       "      <td>宽周期</td>\n",
       "      <td>33</td>\n",
       "    </tr>\n",
       "    <tr>\n",
       "      <th>12</th>\n",
       "      <td>16</td>\n",
       "      <td>2020-10</td>\n",
       "      <td>2021-02</td>\n",
       "      <td>紧周期</td>\n",
       "      <td>4</td>\n",
       "    </tr>\n",
       "    <tr>\n",
       "      <th>14</th>\n",
       "      <td>19</td>\n",
       "      <td>2021-03</td>\n",
       "      <td>2024-12</td>\n",
       "      <td>宽周期</td>\n",
       "      <td>45</td>\n",
       "    </tr>\n",
       "  </tbody>\n",
       "</table>\n",
       "</div>"
      ],
      "text/plain": [
       "    group_id start_month end_month cycle_phase  duration\n",
       "0          1     2003-04   2003-05          中性         1\n",
       "1          4     2003-07   2005-06         紧周期        24\n",
       "2          5     2005-07   2006-03         宽周期         8\n",
       "4          8     2006-04   2008-08         紧周期        29\n",
       "5          9     2008-09   2009-12         宽周期        16\n",
       "6         10     2010-01   2011-11         紧周期        23\n",
       "7         11     2011-12   2013-05         宽周期        18\n",
       "8         12     2013-06   2014-03         紧周期        10\n",
       "9         13     2014-04   2017-01         宽周期        34\n",
       "10        14     2017-02   2017-12         紧周期        11\n",
       "11        15     2018-01   2020-09         宽周期        33\n",
       "12        16     2020-10   2021-02         紧周期         4\n",
       "14        19     2021-03   2024-12         宽周期        45"
      ]
     },
     "execution_count": 31,
     "metadata": {},
     "output_type": "execute_result"
    }
   ],
   "source": [
    "df[\"phase_change\"] = df[\"cycle_phase\"] != df[\"cycle_phase\"].shift(1)\n",
    "df[\"group_id\"] = df[\"phase_change\"].cumsum()\n",
    "grouped = df.groupby(\"group_id\", as_index=False).agg(\n",
    "    start_month=(\"month\", \"min\"),\n",
    "    end_month=(\"month\", \"max\"),\n",
    "    cycle_phase=(\"cycle_phase\", \"first\"),\n",
    "    duration=(\"month\", \"count\")\n",
    ")\n",
    "for i in range(1, len(grouped)):\n",
    "    if grouped.loc[i, \"duration\"] <= 1:\n",
    "        grouped.loc[i - 1, \"end_month\"] = grouped.loc[i, \"end_month\"]\n",
    "        grouped.loc[i - 1, \"cycle_phase\"] = grouped.loc[i - 1, \"cycle_phase\"]\n",
    "        grouped.loc[i, \"delete\"] = True\n",
    "grouped[\"delete\"] = grouped[\"delete\"].fillna(False)\n",
    "grouped = grouped[grouped[\"delete\"] == False].reset_index(drop=True)\n",
    "grouped = grouped.drop(columns=[\"delete\"])\n",
    "merged_grouped = []\n",
    "for i, row in grouped.iterrows():\n",
    "    if i == 0:\n",
    "        merged_grouped.append(row)\n",
    "    else:\n",
    "        if row[\"cycle_phase\"] == merged_grouped[-1][\"cycle_phase\"]:\n",
    "            merged_grouped[-1][\"end_month\"] = row[\"end_month\"]\n",
    "            merged_grouped[-1][\"duration\"] += row[\"duration\"]\n",
    "        else:\n",
    "            merged_grouped.append(row)\n",
    "grouped = pd.DataFrame(merged_grouped)\n",
    "grouped['start_month'] = grouped['start_month'].dt.strftime('%Y-%m')\n",
    "grouped['end_month'] = grouped['end_month'].dt.strftime('%Y-%m')\n",
    "\n",
    "grouped"
   ]
  },
  {
   "cell_type": "markdown",
   "id": "55c465b6",
   "metadata": {},
   "source": [
    "可视化货币周期区间"
   ]
  },
  {
   "cell_type": "code",
   "execution_count": 32,
   "id": "c0df1a84-4560-4d9d-91ae-f7e85d62f548",
   "metadata": {},
   "outputs": [
    {
     "data": {
      "image/png": "[encoded data removed]",
      "text/plain": [
       "<Figure size 1200x600 with 1 Axes>"
      ]
     },
     "metadata": {},
     "output_type": "display_data"
    }
   ],
   "source": [
    "plt.figure(figsize=(12, 6))\n",
    "\n",
    "plt.plot(df[\"month\"], df[\"monetary_cycle_index\"], label=\" Index\", color=\"blue\", linewidth=1.5)\n",
    "\n",
    "for _, row in grouped.iterrows():\n",
    "    start_date = row[\"start_month\"]\n",
    "    end_date = row[\"end_month\"]\n",
    "    cycle_phase = row[\"cycle_phase\"]\n",
    "    \n",
    "    if cycle_phase == \"宽周期\":\n",
    "        color = \"green\"\n",
    "    elif cycle_phase == \"紧周期\":\n",
    "        color = \"red\"\n",
    "    else:\n",
    "        color = \"yellow\" \n",
    "    \n",
    "    plt.axvspan(\n",
    "        start_date,\n",
    "        end_date,\n",
    "        color=color,\n",
    "        alpha=0.2,\n",
    "        label=cycle_phase if plt.gca().get_legend_handles_labels()[1].count(cycle_phase) == 0 else None  # 避免重复图例\n",
    "    )\n",
    "\n",
    "plt.axhline(0.0, color=\"gray\", linestyle=\"--\", linewidth=0.8, label=\"Threshold = 0.0\")\n",
    "plt.xticks(rotation=45)  \n",
    "plt.xlabel(\"Month\")\n",
    "plt.ylabel(\"Monetary Cycle Index\")\n",
    "plt.title(\"Monetary Cycle Index with Cycle Phases\")\n",
    "plt.legend()\n",
    "plt.grid(alpha=0.3)\n",
    "plt.tight_layout()\n",
    "\n",
    "plt.show()\n"
   ]
  },
  {
   "cell_type": "markdown",
   "id": "6501a46e",
   "metadata": {},
   "source": [
    "***信用周期*** <br>"
   ]
  },
  {
   "cell_type": "code",
   "execution_count": 33,
   "id": "0bf7ea80",
   "metadata": {},
   "outputs": [
    {
     "data": {
      "text/html": [
       "<div>\n",
       "<style scoped>\n",
       "    .dataframe tbody tr th:only-of-type {\n",
       "        vertical-align: middle;\n",
       "    }\n",
       "\n",
       "    .dataframe tbody tr th {\n",
       "        vertical-align: top;\n",
       "    }\n",
       "\n",
       "    .dataframe thead th {\n",
       "        text-align: right;\n",
       "    }\n",
       "</style>\n",
       "<table border=\"1\" class=\"dataframe\">\n",
       "  <thead>\n",
       "    <tr style=\"text-align: right;\">\n",
       "      <th></th>\n",
       "      <th>date</th>\n",
       "      <th>value</th>\n",
       "      <th>pct</th>\n",
       "    </tr>\n",
       "  </thead>\n",
       "  <tbody>\n",
       "    <tr>\n",
       "      <th>0</th>\n",
       "      <td>2002-01-31</td>\n",
       "      <td>-472.0</td>\n",
       "      <td>NaN</td>\n",
       "    </tr>\n",
       "    <tr>\n",
       "      <th>1</th>\n",
       "      <td>2002-02-28</td>\n",
       "      <td>289.0</td>\n",
       "      <td>NaN</td>\n",
       "    </tr>\n",
       "    <tr>\n",
       "      <th>2</th>\n",
       "      <td>2002-03-31</td>\n",
       "      <td>3136.0</td>\n",
       "      <td>NaN</td>\n",
       "    </tr>\n",
       "    <tr>\n",
       "      <th>3</th>\n",
       "      <td>2002-04-30</td>\n",
       "      <td>1151.0</td>\n",
       "      <td>NaN</td>\n",
       "    </tr>\n",
       "    <tr>\n",
       "      <th>4</th>\n",
       "      <td>2002-05-31</td>\n",
       "      <td>1774.0</td>\n",
       "      <td>NaN</td>\n",
       "    </tr>\n",
       "    <tr>\n",
       "      <th>...</th>\n",
       "      <td>...</td>\n",
       "      <td>...</td>\n",
       "      <td>...</td>\n",
       "    </tr>\n",
       "    <tr>\n",
       "      <th>269</th>\n",
       "      <td>2024-06-30</td>\n",
       "      <td>32985.0</td>\n",
       "      <td>-0.219567</td>\n",
       "    </tr>\n",
       "    <tr>\n",
       "      <th>270</th>\n",
       "      <td>2024-07-31</td>\n",
       "      <td>7707.0</td>\n",
       "      <td>0.436265</td>\n",
       "    </tr>\n",
       "    <tr>\n",
       "      <th>271</th>\n",
       "      <td>2024-08-31</td>\n",
       "      <td>30323.0</td>\n",
       "      <td>-0.030564</td>\n",
       "    </tr>\n",
       "    <tr>\n",
       "      <th>272</th>\n",
       "      <td>2024-09-30</td>\n",
       "      <td>37635.0</td>\n",
       "      <td>-0.089314</td>\n",
       "    </tr>\n",
       "    <tr>\n",
       "      <th>273</th>\n",
       "      <td>2024-10-31</td>\n",
       "      <td>14000.0</td>\n",
       "      <td>-0.240822</td>\n",
       "    </tr>\n",
       "  </tbody>\n",
       "</table>\n",
       "<p>274 rows × 3 columns</p>\n",
       "</div>"
      ],
      "text/plain": [
       "          date    value       pct\n",
       "0   2002-01-31   -472.0       NaN\n",
       "1   2002-02-28    289.0       NaN\n",
       "2   2002-03-31   3136.0       NaN\n",
       "3   2002-04-30   1151.0       NaN\n",
       "4   2002-05-31   1774.0       NaN\n",
       "..         ...      ...       ...\n",
       "269 2024-06-30  32985.0 -0.219567\n",
       "270 2024-07-31   7707.0  0.436265\n",
       "271 2024-08-31  30323.0 -0.030564\n",
       "272 2024-09-30  37635.0 -0.089314\n",
       "273 2024-10-31  14000.0 -0.240822\n",
       "\n",
       "[274 rows x 3 columns]"
      ]
     },
     "execution_count": 33,
     "metadata": {},
     "output_type": "execute_result"
    }
   ],
   "source": [
    "social_df = pd.read_csv(r'..\\data\\中国_社会融资规模_当月值.csv', encoding='gbk')[4:-1]\n",
    "social_df.columns = ['date', 'value']\n",
    "social_df['date'] = pd.to_datetime(social_df['date'])\n",
    "social_df['value'] = social_df['value'].astype(float)\n",
    "social_df = social_df.reset_index(drop=True)\n",
    "social_df['pct'] = social_df['value'].pct_change(12)\n",
    "social_df"
   ]
  },
  {
   "cell_type": "code",
   "execution_count": 34,
   "id": "20dea9f9-4b0b-4011-9a07-905bd863f03c",
   "metadata": {},
   "outputs": [
    {
     "data": {
      "text/html": [
       "<div>\n",
       "<style scoped>\n",
       "    .dataframe tbody tr th:only-of-type {\n",
       "        vertical-align: middle;\n",
       "    }\n",
       "\n",
       "    .dataframe tbody tr th {\n",
       "        vertical-align: top;\n",
       "    }\n",
       "\n",
       "    .dataframe thead th {\n",
       "        text-align: right;\n",
       "    }\n",
       "</style>\n",
       "<table border=\"1\" class=\"dataframe\">\n",
       "  <thead>\n",
       "    <tr style=\"text-align: right;\">\n",
       "      <th></th>\n",
       "      <th>start_date</th>\n",
       "      <th>end_date</th>\n",
       "      <th>credit_cycle</th>\n",
       "    </tr>\n",
       "  </thead>\n",
       "  <tbody>\n",
       "    <tr>\n",
       "      <th>13</th>\n",
       "      <td>2004-02-29</td>\n",
       "      <td>2004-03-31</td>\n",
       "      <td>宽信用</td>\n",
       "    </tr>\n",
       "    <tr>\n",
       "      <th>0</th>\n",
       "      <td>2004-03-31</td>\n",
       "      <td>2004-10-31</td>\n",
       "      <td>紧信用</td>\n",
       "    </tr>\n",
       "    <tr>\n",
       "      <th>14</th>\n",
       "      <td>2004-10-31</td>\n",
       "      <td>2005-02-28</td>\n",
       "      <td>宽信用</td>\n",
       "    </tr>\n",
       "    <tr>\n",
       "      <th>1</th>\n",
       "      <td>2005-02-28</td>\n",
       "      <td>2005-10-31</td>\n",
       "      <td>紧信用</td>\n",
       "    </tr>\n",
       "    <tr>\n",
       "      <th>15</th>\n",
       "      <td>2005-10-31</td>\n",
       "      <td>2006-07-31</td>\n",
       "      <td>宽信用</td>\n",
       "    </tr>\n",
       "    <tr>\n",
       "      <th>2</th>\n",
       "      <td>2006-07-31</td>\n",
       "      <td>2006-10-31</td>\n",
       "      <td>紧信用</td>\n",
       "    </tr>\n",
       "    <tr>\n",
       "      <th>16</th>\n",
       "      <td>2006-10-31</td>\n",
       "      <td>2007-10-31</td>\n",
       "      <td>宽信用</td>\n",
       "    </tr>\n",
       "    <tr>\n",
       "      <th>3</th>\n",
       "      <td>2007-10-31</td>\n",
       "      <td>2008-10-31</td>\n",
       "      <td>紧信用</td>\n",
       "    </tr>\n",
       "    <tr>\n",
       "      <th>17</th>\n",
       "      <td>2008-10-31</td>\n",
       "      <td>2009-10-31</td>\n",
       "      <td>宽信用</td>\n",
       "    </tr>\n",
       "    <tr>\n",
       "      <th>4</th>\n",
       "      <td>2009-10-31</td>\n",
       "      <td>2011-09-30</td>\n",
       "      <td>紧信用</td>\n",
       "    </tr>\n",
       "    <tr>\n",
       "      <th>18</th>\n",
       "      <td>2011-09-30</td>\n",
       "      <td>2012-09-30</td>\n",
       "      <td>宽信用</td>\n",
       "    </tr>\n",
       "    <tr>\n",
       "      <th>5</th>\n",
       "      <td>2012-09-30</td>\n",
       "      <td>2013-06-30</td>\n",
       "      <td>紧信用</td>\n",
       "    </tr>\n",
       "    <tr>\n",
       "      <th>19</th>\n",
       "      <td>2013-06-30</td>\n",
       "      <td>2014-06-30</td>\n",
       "      <td>宽信用</td>\n",
       "    </tr>\n",
       "    <tr>\n",
       "      <th>6</th>\n",
       "      <td>2014-06-30</td>\n",
       "      <td>2015-03-31</td>\n",
       "      <td>紧信用</td>\n",
       "    </tr>\n",
       "    <tr>\n",
       "      <th>20</th>\n",
       "      <td>2015-03-31</td>\n",
       "      <td>2016-03-31</td>\n",
       "      <td>宽信用</td>\n",
       "    </tr>\n",
       "    <tr>\n",
       "      <th>7</th>\n",
       "      <td>2016-03-31</td>\n",
       "      <td>2016-05-31</td>\n",
       "      <td>紧信用</td>\n",
       "    </tr>\n",
       "    <tr>\n",
       "      <th>21</th>\n",
       "      <td>2016-05-31</td>\n",
       "      <td>2017-07-31</td>\n",
       "      <td>宽信用</td>\n",
       "    </tr>\n",
       "    <tr>\n",
       "      <th>8</th>\n",
       "      <td>2017-07-31</td>\n",
       "      <td>2018-10-31</td>\n",
       "      <td>紧信用</td>\n",
       "    </tr>\n",
       "    <tr>\n",
       "      <th>22</th>\n",
       "      <td>2018-10-31</td>\n",
       "      <td>2019-03-31</td>\n",
       "      <td>宽信用</td>\n",
       "    </tr>\n",
       "    <tr>\n",
       "      <th>9</th>\n",
       "      <td>2019-03-31</td>\n",
       "      <td>2020-02-29</td>\n",
       "      <td>紧信用</td>\n",
       "    </tr>\n",
       "    <tr>\n",
       "      <th>23</th>\n",
       "      <td>2020-02-29</td>\n",
       "      <td>2021-02-28</td>\n",
       "      <td>宽信用</td>\n",
       "    </tr>\n",
       "    <tr>\n",
       "      <th>10</th>\n",
       "      <td>2021-02-28</td>\n",
       "      <td>2022-04-30</td>\n",
       "      <td>紧信用</td>\n",
       "    </tr>\n",
       "    <tr>\n",
       "      <th>24</th>\n",
       "      <td>2022-04-30</td>\n",
       "      <td>2023-02-28</td>\n",
       "      <td>宽信用</td>\n",
       "    </tr>\n",
       "    <tr>\n",
       "      <th>11</th>\n",
       "      <td>2023-02-28</td>\n",
       "      <td>2023-05-31</td>\n",
       "      <td>紧信用</td>\n",
       "    </tr>\n",
       "    <tr>\n",
       "      <th>25</th>\n",
       "      <td>2023-05-31</td>\n",
       "      <td>2023-10-31</td>\n",
       "      <td>宽信用</td>\n",
       "    </tr>\n",
       "    <tr>\n",
       "      <th>12</th>\n",
       "      <td>2023-10-31</td>\n",
       "      <td>2024-04-30</td>\n",
       "      <td>紧信用</td>\n",
       "    </tr>\n",
       "    <tr>\n",
       "      <th>26</th>\n",
       "      <td>2024-04-30</td>\n",
       "      <td>2024-10-31</td>\n",
       "      <td>宽信用</td>\n",
       "    </tr>\n",
       "  </tbody>\n",
       "</table>\n",
       "</div>"
      ],
      "text/plain": [
       "   start_date   end_date credit_cycle\n",
       "13 2004-02-29 2004-03-31          宽信用\n",
       "0  2004-03-31 2004-10-31          紧信用\n",
       "14 2004-10-31 2005-02-28          宽信用\n",
       "1  2005-02-28 2005-10-31          紧信用\n",
       "15 2005-10-31 2006-07-31          宽信用\n",
       "2  2006-07-31 2006-10-31          紧信用\n",
       "16 2006-10-31 2007-10-31          宽信用\n",
       "3  2007-10-31 2008-10-31          紧信用\n",
       "17 2008-10-31 2009-10-31          宽信用\n",
       "4  2009-10-31 2011-09-30          紧信用\n",
       "18 2011-09-30 2012-09-30          宽信用\n",
       "5  2012-09-30 2013-06-30          紧信用\n",
       "19 2013-06-30 2014-06-30          宽信用\n",
       "6  2014-06-30 2015-03-31          紧信用\n",
       "20 2015-03-31 2016-03-31          宽信用\n",
       "7  2016-03-31 2016-05-31          紧信用\n",
       "21 2016-05-31 2017-07-31          宽信用\n",
       "8  2017-07-31 2018-10-31          紧信用\n",
       "22 2018-10-31 2019-03-31          宽信用\n",
       "9  2019-03-31 2020-02-29          紧信用\n",
       "23 2020-02-29 2021-02-28          宽信用\n",
       "10 2021-02-28 2022-04-30          紧信用\n",
       "24 2022-04-30 2023-02-28          宽信用\n",
       "11 2023-02-28 2023-05-31          紧信用\n",
       "25 2023-05-31 2023-10-31          宽信用\n",
       "12 2023-10-31 2024-04-30          紧信用\n",
       "26 2024-04-30 2024-10-31          宽信用"
      ]
     },
     "execution_count": 34,
     "metadata": {},
     "output_type": "execute_result"
    }
   ],
   "source": [
    "df = social_df.copy()\n",
    "df.rename(columns={'pct': 'social_financing'}, inplace=True)\n",
    "df.set_index('date', inplace=True)\n",
    "\n",
    "# 定义滑动窗口函数，判断是否是前后6个月的最小值或最大值\n",
    "def is_local_extreme(series, window=6, mode='min'):\n",
    "    if mode == 'min':\n",
    "        rolling_extreme = series.rolling(window=2*window+1, center=True).min()\n",
    "    elif mode == 'max':\n",
    "        rolling_extreme = series.rolling(window=2*window+1, center=True).max()\n",
    "    else:\n",
    "        raise ValueError(\"Invalid mode! Use 'min' or 'max'.\")\n",
    "    return series == rolling_extreme\n",
    "\n",
    "# 使用滚动窗口确定局部低点和高点\n",
    "window_size = 6\n",
    "df['is_min'] = is_local_extreme(df['social_financing'], window=window_size, mode='min').astype(int)\n",
    "df['is_max'] = is_local_extreme(df['social_financing'], window=window_size, mode='max').astype(int)\n",
    "\n",
    "# 新建一列，标记局部最低点和最高点\n",
    "# 标记规则：1 表示局部最低，-1 表示局部最高，0 表示非极值\n",
    "df['extreme'] = 0\n",
    "df.loc[df['is_min'] == 1, 'extreme'] = 1\n",
    "df.loc[df['is_max'] == 1, 'extreme'] = -1\n",
    "\n",
    "# 修正逻辑：消除连续相同类型的极值，保留最后一个\n",
    "next_value = 0  # 用于记录下一次出现的有效值\n",
    "for idx in reversed(df.index):  # 反向遍历 DataFrame\n",
    "    current_value = df.loc[idx, 'extreme']\n",
    "    if current_value == 0:\n",
    "        continue\n",
    "    if current_value == next_value:  # 如果与下一次出现的值相同，则重置为非极值\n",
    "        df.loc[idx, 'extreme'] = 0\n",
    "    else:\n",
    "        next_value = current_value  # 更新下一次的有效值\n",
    "\n",
    "# 删除临时列\n",
    "df.drop(columns=['is_min', 'is_max'], inplace=True)\n",
    "\n",
    "# 标记宽信用和紧信用区间\n",
    "df['credit_cycle'] = 0  # 默认宽信用区间标记为 0\n",
    "tight_credit_periods = []  # 紧信用区间时间段\n",
    "wide_credit_periods = []  # 宽信用区间时间段\n",
    "\n",
    "in_tight_credit = False  # 是否处于紧信用区间\n",
    "start_date = None  # 记录当前区间的开始时间\n",
    "\n",
    "for idx, row in df.iterrows():\n",
    "    if row['extreme'] == -1:  # 遇到局部最高点，进入紧信用区间\n",
    "        if not in_tight_credit:  # 如果之前是宽信用区间，记录宽信用区间的结束\n",
    "            if start_date is not None:\n",
    "                wide_credit_periods.append((start_date, idx))  # 记录宽信用区间\n",
    "        in_tight_credit = True\n",
    "        start_date = idx  # 记录紧信用区间的开始时间\n",
    "    elif row['extreme'] == 1:  # 遇到局部最低点，退出紧信用区间\n",
    "        if in_tight_credit:  # 如果之前是紧信用区间，记录紧信用区间的结束\n",
    "            tight_credit_periods.append((start_date, idx))  # 记录紧信用区间\n",
    "        in_tight_credit = False\n",
    "        start_date = idx  # 记录宽信用区间的开始时间\n",
    "\n",
    "# 如果最后一个区间未结束，补充记录\n",
    "if in_tight_credit:\n",
    "    tight_credit_periods.append((start_date, df.index[-1]))\n",
    "else:\n",
    "    wide_credit_periods.append((start_date, df.index[-1]))\n",
    "\n",
    "tight_credit_df = pd.DataFrame(tight_credit_periods, columns=['start_date', 'end_date'])\n",
    "wide_credit_df = pd.DataFrame(wide_credit_periods, columns=['start_date', 'end_date'])\n",
    "\n",
    "tight_credit_df['credit_cycle'] = '紧信用'\n",
    "wide_credit_df['credit_cycle'] = '宽信用'\n",
    "\n",
    "credit_periods_df = pd.concat([tight_credit_df, wide_credit_df], ignore_index=True)\n",
    "\n",
    "credit_periods_df.sort_values(by='start_date', inplace=True)\n",
    "\n",
    "credit_periods_df"
   ]
  },
  {
   "cell_type": "markdown",
   "id": "8766d606",
   "metadata": {},
   "source": [
    "可视化信用周期"
   ]
  },
  {
   "cell_type": "code",
   "execution_count": 35,
   "id": "05fed00d",
   "metadata": {},
   "outputs": [
    {
     "data": {
      "application/vnd.plotly.v1+json": {
       "config": {
        "plotlyServerURL": "https://plot.ly"
       },
       "data": [
        {
         "hovertemplate": "Date=%{x}<br>Social Financing=%{y}<extra></extra>",
         "legendgroup": "",
         "line": {
          "color": "#636efa",
          "dash": "solid"
         },
         "marker": {
          "symbol": "circle"
         },
         "mode": "lines",
         "name": "",
         "orientation": "v",
         "showlegend": false,
         "type": "scatter",
         "x": [
          "2002-01-31T00:00:00",
          "2002-02-28T00:00:00",
          "2002-03-31T00:00:00",
          "2002-04-30T00:00:00",
          "2002-05-31T00:00:00",
          "2002-06-30T00:00:00",
          "2002-07-31T00:00:00",
          "2002-08-31T00:00:00",
          "2002-09-30T00:00:00",
          "2002-10-31T00:00:00",
          "2002-11-30T00:00:00",
          "2002-12-31T00:00:00",
          "2003-01-31T00:00:00",
          "2003-02-28T00:00:00",
          "2003-03-31T00:00:00",
          "2003-04-30T00:00:00",
          "2003-05-31T00:00:00",
          "2003-06-30T00:00:00",
          "2003-07-31T00:00:00",
          "2003-08-31T00:00:00",
          "2003-09-30T00:00:00",
          "2003-10-31T00:00:00",
          "2003-11-30T00:00:00",
          "2003-12-31T00:00:00",
          "2004-01-31T00:00:00",
          "2004-02-29T00:00:00",
          "2004-03-31T00:00:00",
          "2004-04-30T00:00:00",
          "2004-05-31T00:00:00",
          "2004-06-30T00:00:00",
          "2004-07-31T00:00:00",
          "2004-08-31T00:00:00",
          "2004-09-30T00:00:00",
          "2004-10-31T00:00:00",
          "2004-11-30T00:00:00",
          "2004-12-31T00:00:00",
          "2005-01-31T00:00:00",
          "2005-02-28T00:00:00",
          "2005-03-31T00:00:00",
          "2005-04-30T00:00:00",
          "2005-05-31T00:00:00",
          "2005-06-30T00:00:00",
          "2005-07-31T00:00:00",
          "2005-08-31T00:00:00",
          "2005-09-30T00:00:00",
          "2005-10-31T00:00:00",
          "2005-11-30T00:00:00",
          "2005-12-31T00:00:00",
          "2006-01-31T00:00:00",
          "2006-02-28T00:00:00",
          "2006-03-31T00:00:00",
          "2006-04-30T00:00:00",
          "2006-05-31T00:00:00",
          "2006-06-30T00:00:00",
          "2006-07-31T00:00:00",
          "2006-08-31T00:00:00",
          "2006-09-30T00:00:00",
          "2006-10-31T00:00:00",
          "2006-11-30T00:00:00",
          "2006-12-31T00:00:00",
          "2007-01-31T00:00:00",
          "2007-02-28T00:00:00",
          "2007-03-31T00:00:00",
          "2007-04-30T00:00:00",
          "2007-05-31T00:00:00",
          "2007-06-30T00:00:00",
          "2007-07-31T00:00:00",
          "2007-08-31T00:00:00",
          "2007-09-30T00:00:00",
          "2007-10-31T00:00:00",
          "2007-11-30T00:00:00",
          "2007-12-31T00:00:00",
          "2008-01-31T00:00:00",
          "2008-02-29T00:00:00",
          "2008-03-31T00:00:00",
          "2008-04-30T00:00:00",
          "2008-05-31T00:00:00",
          "2008-06-30T00:00:00",
          "2008-07-31T00:00:00",
          "2008-08-31T00:00:00",
          "2008-09-30T00:00:00",
          "2008-10-31T00:00:00",
          "2008-11-30T00:00:00",
          "2008-12-31T00:00:00",
          "2009-01-31T00:00:00",
          "2009-02-28T00:00:00",
          "2009-03-31T00:00:00",
          "2009-04-30T00:00:00",
          "2009-05-31T00:00:00",
          "2009-06-30T00:00:00",
          "2009-07-31T00:00:00",
          "2009-08-31T00:00:00",
          "2009-09-30T00:00:00",
          "2009-10-31T00:00:00",
          "2009-11-30T00:00:00",
          "2009-12-31T00:00:00",
          "2010-01-31T00:00:00",
          "2010-02-28T00:00:00",
          "2010-03-31T00:00:00",
          "2010-04-30T00:00:00",
          "2010-05-31T00:00:00",
          "2010-06-30T00:00:00",
          "2010-07-31T00:00:00",
          "2010-08-31T00:00:00",
          "2010-09-30T00:00:00",
          "2010-10-31T00:00:00",
          "2010-11-30T00:00:00",
          "2010-12-31T00:00:00",
          "2011-01-31T00:00:00",
          "2011-02-28T00:00:00",
          "2011-03-31T00:00:00",
          "2011-04-30T00:00:00",
          "2011-05-31T00:00:00",
          "2011-06-30T00:00:00",
          "2011-07-31T00:00:00",
          "2011-08-31T00:00:00",
          "2011-09-30T00:00:00",
          "2011-10-31T00:00:00",
          "2011-11-30T00:00:00",
          "2011-12-31T00:00:00",
          "2012-01-31T00:00:00",
          "2012-02-29T00:00:00",
          "2012-03-31T00:00:00",
          "2012-04-30T00:00:00",
          "2012-05-31T00:00:00",
          "2012-06-30T00:00:00",
          "2012-07-31T00:00:00",
          "2012-08-31T00:00:00",
          "2012-09-30T00:00:00",
          "2012-10-31T00:00:00",
          "2012-11-30T00:00:00",
          "2012-12-31T00:00:00",
          "2013-01-31T00:00:00",
          "2013-02-28T00:00:00",
          "2013-03-31T00:00:00",
          "2013-04-30T00:00:00",
          "2013-05-31T00:00:00",
          "2013-06-30T00:00:00",
          "2013-07-31T00:00:00",
          "2013-08-31T00:00:00",
          "2013-09-30T00:00:00",
          "2013-10-31T00:00:00",
          "2013-11-30T00:00:00",
          "2013-12-31T00:00:00",
          "2014-01-31T00:00:00",
          "2014-02-28T00:00:00",
          "2014-03-31T00:00:00",
          "2014-04-30T00:00:00",
          "2014-05-31T00:00:00",
          "2014-06-30T00:00:00",
          "2014-07-31T00:00:00",
          "2014-08-31T00:00:00",
          "2014-09-30T00:00:00",
          "2014-10-31T00:00:00",
          "2014-11-30T00:00:00",
          "2014-12-31T00:00:00",
          "2015-01-31T00:00:00",
          "2015-02-28T00:00:00",
          "2015-03-31T00:00:00",
          "2015-04-30T00:00:00",
          "2015-05-31T00:00:00",
          "2015-06-30T00:00:00",
          "2015-07-31T00:00:00",
          "2015-08-31T00:00:00",
          "2015-09-30T00:00:00",
          "2015-10-31T00:00:00",
          "2015-11-30T00:00:00",
          "2015-12-31T00:00:00",
          "2016-01-31T00:00:00",
          "2016-02-29T00:00:00",
          "2016-03-31T00:00:00",
          "2016-04-30T00:00:00",
          "2016-05-31T00:00:00",
          "2016-06-30T00:00:00",
          "2016-07-31T00:00:00",
          "2016-08-31T00:00:00",
          "2016-09-30T00:00:00",
          "2016-10-31T00:00:00",
          "2016-11-30T00:00:00",
          "2016-12-31T00:00:00",
          "2017-01-31T00:00:00",
          "2017-02-28T00:00:00",
          "2017-03-31T00:00:00",
          "2017-04-30T00:00:00",
          "2017-05-31T00:00:00",
          "2017-06-30T00:00:00",
          "2017-07-31T00:00:00",
          "2017-08-31T00:00:00",
          "2017-09-30T00:00:00",
          "2017-10-31T00:00:00",
          "2017-11-30T00:00:00",
          "2017-12-31T00:00:00",
          "2018-01-31T00:00:00",
          "2018-02-28T00:00:00",
          "2018-03-31T00:00:00",
          "2018-04-30T00:00:00",
          "2018-05-31T00:00:00",
          "2018-06-30T00:00:00",
          "2018-07-31T00:00:00",
          "2018-08-31T00:00:00",
          "2018-09-30T00:00:00",
          "2018-10-31T00:00:00",
          "2018-11-30T00:00:00",
          "2018-12-31T00:00:00",
          "2019-01-31T00:00:00",
          "2019-02-28T00:00:00",
          "2019-03-31T00:00:00",
          "2019-04-30T00:00:00",
          "2019-05-31T00:00:00",
          "2019-06-30T00:00:00",
          "2019-07-31T00:00:00",
          "2019-08-31T00:00:00",
          "2019-09-30T00:00:00",
          "2019-10-31T00:00:00",
          "2019-11-30T00:00:00",
          "2019-12-31T00:00:00",
          "2020-01-31T00:00:00",
          "2020-02-29T00:00:00",
          "2020-03-31T00:00:00",
          "2020-04-30T00:00:00",
          "2020-05-31T00:00:00",
          "2020-06-30T00:00:00",
          "2020-07-31T00:00:00",
          "2020-08-31T00:00:00",
          "2020-09-30T00:00:00",
          "2020-10-31T00:00:00",
          "2020-11-30T00:00:00",
          "2020-12-31T00:00:00",
          "2021-01-31T00:00:00",
          "2021-02-28T00:00:00",
          "2021-03-31T00:00:00",
          "2021-04-30T00:00:00",
          "2021-05-31T00:00:00",
          "2021-06-30T00:00:00",
          "2021-07-31T00:00:00",
          "2021-08-31T00:00:00",
          "2021-09-30T00:00:00",
          "2021-10-31T00:00:00",
          "2021-11-30T00:00:00",
          "2021-12-31T00:00:00",
          "2022-01-31T00:00:00",
          "2022-02-28T00:00:00",
          "2022-03-31T00:00:00",
          "2022-04-30T00:00:00",
          "2022-05-31T00:00:00",
          "2022-06-30T00:00:00",
          "2022-07-31T00:00:00",
          "2022-08-31T00:00:00",
          "2022-09-30T00:00:00",
          "2022-10-31T00:00:00",
          "2022-11-30T00:00:00",
          "2022-12-31T00:00:00",
          "2023-01-31T00:00:00",
          "2023-02-28T00:00:00",
          "2023-03-31T00:00:00",
          "2023-04-30T00:00:00",
          "2023-05-31T00:00:00",
          "2023-06-30T00:00:00",
          "2023-07-31T00:00:00",
          "2023-08-31T00:00:00",
          "2023-09-30T00:00:00",
          "2023-10-31T00:00:00",
          "2023-11-30T00:00:00",
          "2023-12-31T00:00:00",
          "2024-01-31T00:00:00",
          "2024-02-29T00:00:00",
          "2024-03-31T00:00:00",
          "2024-04-30T00:00:00",
          "2024-05-31T00:00:00",
          "2024-06-30T00:00:00",
          "2024-07-31T00:00:00",
          "2024-08-31T00:00:00",
          "2024-09-30T00:00:00",
          "2024-10-31T00:00:00"
         ],
         "xaxis": "x",
         "y": [
          null,
          null,
          null,
          null,
          null,
          null,
          null,
          null,
          null,
          null,
          null,
          null,
          -8.173728813559322,
          2.453287197231834,
          0.2885841836734695,
          1.2780191138140746,
          0.6747463359639234,
          1.228920259442961,
          0.6531365313653137,
          1.095268138801262,
          0.15198175078414589,
          0.5320754716981133,
          0.014958448753462639,
          -0.19652621421678995,
          -0.37566450088600123,
          -0.561122244488978,
          0.6226181638208363,
          0.04157131960335625,
          -0.17771794008751263,
          -0.44727832933926737,
          -0.5610119047619048,
          -0.5480277024992473,
          -0.26212871287128714,
          -0.603448275862069,
          0.07914847161572047,
          0.4355484387510009,
          0.7123935666982024,
          0.8812785388127853,
          -0.36114076559402164,
          -0.26803368729403154,
          -0.1944330740892345,
          0.46268194487457426,
          0.0661016949152542,
          0.397068620919387,
          1.0265011741026502,
          -3.0165631469979295,
          0.19777440566514914,
          -0.2961517010596765,
          0.7466850828729281,
          1.108009708737864,
          0.7837192647409883,
          0.6633316658329165,
          0.9232723577235773,
          -0.18632225280542025,
          2.583465818759936,
          0.6032427277062471,
          -0.4906472438338023,
          -1.917864476386037,
          0.1773648648648649,
          0.5202060221870048,
          0.09251937371500873,
          0.7748992515831894,
          -0.1553800856531049,
          0.8354887218045113,
          0.010303830911492673,
          0.8324225865209471,
          0.3753327417923691,
          1.0704937537180248,
          0.7192070198245044,
          3.1252796420581657,
          0.10222381635581068,
          0.11571540265832692,
          0.5719455703532137,
          0.5345442750567628,
          0.012676279511963262,
          0.1594297886285434,
          0.48483263598326354,
          -0.15137744958818522,
          0.5774193548387097,
          -0.34276684384427525,
          0.06975425330812857,
          -0.6507592190889371,
          0.4698991213797592,
          0.9070310675075917,
          0.2883322589557049,
          1.3527795392094695,
          2.4440619621342514,
          -0.2295081967213115,
          1.6345544205706233,
          2.5252677376171353,
          0.510838445807771,
          0.6721311475409837,
          1.0977204453083584,
          3.6467391304347823,
          1.1033872038963914,
          -0.007839294463498292,
          0.4689063616869191,
          -0.022819153714850438,
          -0.3716777974649039,
          1.7364269992663242,
          -0.2776923591149141,
          -0.5160203161342384,
          -0.025175961017866788,
          0.39163398692810447,
          -0.05450256928649655,
          0.4382623224728488,
          0.11083043890116828,
          0.33086419753086416,
          -0.1454987834549878,
          -0.4053507400937758,
          0.3168474331164135,
          -0.08351766204169175,
          0.004534937528921867,
          0.06639858768144369,
          -0.25118022771452375,
          0.008923539357505117,
          -0.6187633642195296,
          -0.08131970260223054,
          -0.0921925336365359,
          0.18218923933209652,
          -0.4445330296127563,
          0.612708719851577,
          0.027015154842960687,
          -0.2951802823081986,
          0.053252257232356826,
          0.637266623746896,
          0.9510476543667716,
          0.16143748254352475,
          2.8471605515307314,
          0.6320182094081943,
          0.17158960442542526,
          0.2776208411801633,
          1.6087758868156654,
          0.026267855430927023,
          0.36350513259195893,
          0.8293037252256927,
          0.038400979706088245,
          -0.4172003145713965,
          -0.22153582969017294,
          0.269819639278557,
          -0.14226703924189044,
          -0.330156516348985,
          0.09665924276169258,
          -0.23031568603365682,
          0.021928790379627472,
          -0.12470808033629144,
          -0.1791553934831196,
          -0.13443757445118842,
          0.180439727065959,
          0.8961927710843374,
          -0.6658527652301307,
          -0.3954295814658165,
          -0.19582152974504252,
          -0.21260844418739155,
          -0.06913078797725425,
          0.35213852537504,
          -0.21104445469927702,
          0.45240128068303087,
          -0.40608579344606854,
          -0.306507634838456,
          -0.11532148719046598,
          -0.06552127281045084,
          1.7442455242966752,
          0.15871358462984242,
          0.19515631880228979,
          -0.17834582047891878,
          -0.10507025045815521,
          0.06898790203599892,
          0.6941899005654124,
          -0.3892277169520171,
          0.9247969114453471,
          -0.26204876204876204,
          -0.4539001371299508,
          -0.1036227154046997,
          -0.3621355345493277,
          0.31612147427232595,
          0.2611450887922777,
          0.5850169855176113,
          0.7872257435397367,
          -0.094788561333775,
          0.08522000630070758,
          0.33004356460538986,
          0.0643784028247878,
          1.504664332180817,
          1.6309797543574596,
          0.570842341950361,
          3.4224810202462947,
          0.4026366114344404,
          0.4863340308501316,
          0.7891879796954315,
          0.25250879823221295,
          0.10403625968164909,
          -0.16709553452154946,
          0.09127421218948761,
          -0.32899974263211507,
          0.13722722224199346,
          -0.36931322231625263,
          -0.21297092263855932,
          -0.13244055583702308,
          0.17537965028058355,
          -0.09345467799373575,
          -0.39866894133885156,
          -0.2974743672876149,
          0.06674580855632861,
          0.4893468755001822,
          -0.19887136047973208,
          0.731994084263766,
          -0.24877117159083406,
          0.5243280877593937,
          0.2881435030798607,
          -0.29974154509294426,
          -0.08814942834392714,
          0.09023623296014427,
          -0.08993694524506113,
          0.23623190540686245,
          0.13990997675167072,
          0.08001217302012509,
          -0.09602840348077646,
          0.7511455536782057,
          0.8568436593634978,
          0.8609264070146438,
          0.3215181531680309,
          0.31509128192503644,
          0.6329651906354186,
          0.3798707182375356,
          0.6047231099974149,
          0.07112854121962386,
          -0.21900695043837737,
          0.02669437023844856,
          0.9735607187821906,
          -0.3487017246035726,
          -0.4014890256873046,
          -0.3873721207556643,
          0.06735676595253892,
          -0.3648393194706995,
          -0.16623434580090923,
          -0.1633470728965497,
          0.16131811328882195,
          0.216717396394287,
          0.37156817124243835,
          0.19032842494796087,
          -0.2942063446036073,
          0.3792133167466383,
          -0.4977382875605816,
          0.455537342485401,
          0.402760893643461,
          -0.2759486607142857,
          -0.1733181681330077,
          0.2199751946530697,
          -0.4353363006923838,
          -0.23653927568025246,
          -0.4460135708227311,
          -0.029194125552551076,
          1.597370583401808,
          0.15681305701707293,
          0.31328401415246065,
          -0.45240190040471584,
          -0.1860532295959635,
          -0.3107257546563905,
          0.26574134023955964,
          0.16703849086442069,
          1.018940223341362,
          0.2377879719715683,
          0.4794457628416138,
          0.07969177396757621,
          -0.5267636823789941,
          -0.1026973842983645,
          -1.053718670911911,
          0.32538560411311046,
          -0.21956701762687802,
          0.43626537458069325,
          -0.03056363694491515,
          -0.08931423317040121,
          -0.2408220812320373
         ],
         "yaxis": "y"
        },
        {
         "marker": {
          "color": "red",
          "size": 10
         },
         "mode": "markers",
         "name": "Local Minima",
         "type": "scatter",
         "x": [
          "2004-02-29T00:00:00",
          "2004-10-31T00:00:00",
          "2005-10-31T00:00:00",
          "2006-10-31T00:00:00",
          "2008-10-31T00:00:00",
          "2011-09-30T00:00:00",
          "2013-06-30T00:00:00",
          "2015-03-31T00:00:00",
          "2016-05-31T00:00:00",
          "2018-10-31T00:00:00",
          "2020-02-29T00:00:00",
          "2022-04-30T00:00:00",
          "2023-05-31T00:00:00",
          "2024-04-30T00:00:00"
         ],
         "y": [
          -0.561122244488978,
          -0.603448275862069,
          -3.0165631469979295,
          -1.917864476386037,
          -0.6507592190889371,
          -0.6187633642195296,
          -0.4172003145713965,
          -0.40608579344606854,
          -0.4539001371299508,
          -0.39866894133885156,
          -0.09602840348077646,
          -0.4977382875605816,
          -0.45240190040471584,
          -1.053718670911911
         ]
        },
        {
         "marker": {
          "color": "green",
          "size": 10
         },
         "mode": "markers",
         "name": "Local Maxima",
         "type": "scatter",
         "x": [
          "2004-03-31T00:00:00",
          "2005-02-28T00:00:00",
          "2006-07-31T00:00:00",
          "2007-10-31T00:00:00",
          "2009-10-31T00:00:00",
          "2012-09-30T00:00:00",
          "2014-06-30T00:00:00",
          "2016-03-31T00:00:00",
          "2017-07-31T00:00:00",
          "2019-03-31T00:00:00",
          "2021-02-28T00:00:00",
          "2023-02-28T00:00:00",
          "2023-10-31T00:00:00"
         ],
         "y": [
          0.6226181638208363,
          0.8812785388127853,
          2.583465818759936,
          3.1252796420581657,
          3.6467391304347823,
          2.8471605515307314,
          0.8961927710843374,
          0.9247969114453471,
          3.4224810202462947,
          0.731994084263766,
          0.9735607187821906,
          1.597370583401808,
          1.018940223341362
         ]
        }
       ],
       "layout": {
        "legend": {
         "tracegroupgap": 0
        },
        "template": {
         "data": {
          "bar": [
           {
            "error_x": {
             "color": "#2a3f5f"
            },
            "error_y": {
             "color": "#2a3f5f"
            },
            "marker": {
             "line": {
              "color": "#E5ECF6",
              "width": 0.5
             },
             "pattern": {
              "fillmode": "overlay",
              "size": 10,
              "solidity": 0.2
             }
            },
            "type": "bar"
           }
          ],
          "barpolar": [
           {
            "marker": {
             "line": {
              "color": "#E5ECF6",
              "width": 0.5
             },
             "pattern": {
              "fillmode": "overlay",
              "size": 10,
              "solidity": 0.2
             }
            },
            "type": "barpolar"
           }
          ],
          "carpet": [
           {
            "aaxis": {
             "endlinecolor": "#2a3f5f",
             "gridcolor": "white",
             "linecolor": "white",
             "minorgridcolor": "white",
             "startlinecolor": "#2a3f5f"
            },
            "baxis": {
             "endlinecolor": "#2a3f5f",
             "gridcolor": "white",
             "linecolor": "white",
             "minorgridcolor": "white",
             "startlinecolor": "#2a3f5f"
            },
            "type": "carpet"
           }
          ],
          "choropleth": [
           {
            "colorbar": {
             "outlinewidth": 0,
             "ticks": ""
            },
            "type": "choropleth"
           }
          ],
          "contour": [
           {
            "colorbar": {
             "outlinewidth": 0,
             "ticks": ""
            },
            "colorscale": [
             [
              0,
              "#0d0887"
             ],
             [
              0.1111111111111111,
              "#46039f"
             ],
             [
              0.2222222222222222,
              "#7201a8"
             ],
             [
              0.3333333333333333,
              "#9c179e"
             ],
             [
              0.4444444444444444,
              "#bd3786"
             ],
             [
              0.5555555555555556,
              "#d8576b"
             ],
             [
              0.6666666666666666,
              "#ed7953"
             ],
             [
              0.7777777777777778,
              "#fb9f3a"
             ],
             [
              0.8888888888888888,
              "#fdca26"
             ],
             [
              1,
              "#f0f921"
             ]
            ],
            "type": "contour"
           }
          ],
          "contourcarpet": [
           {
            "colorbar": {
             "outlinewidth": 0,
             "ticks": ""
            },
            "type": "contourcarpet"
           }
          ],
          "heatmap": [
           {
            "colorbar": {
             "outlinewidth": 0,
             "ticks": ""
            },
            "colorscale": [
             [
              0,
              "#0d0887"
             ],
             [
              0.1111111111111111,
              "#46039f"
             ],
             [
              0.2222222222222222,
              "#7201a8"
             ],
             [
              0.3333333333333333,
              "#9c179e"
             ],
             [
              0.4444444444444444,
              "#bd3786"
             ],
             [
              0.5555555555555556,
              "#d8576b"
             ],
             [
              0.6666666666666666,
              "#ed7953"
             ],
             [
              0.7777777777777778,
              "#fb9f3a"
             ],
             [
              0.8888888888888888,
              "#fdca26"
             ],
             [
              1,
              "#f0f921"
             ]
            ],
            "type": "heatmap"
           }
          ],
          "heatmapgl": [
           {
            "colorbar": {
             "outlinewidth": 0,
             "ticks": ""
            },
            "colorscale": [
             [
              0,
              "#0d0887"
             ],
             [
              0.1111111111111111,
              "#46039f"
             ],
             [
              0.2222222222222222,
              "#7201a8"
             ],
             [
              0.3333333333333333,
              "#9c179e"
             ],
             [
              0.4444444444444444,
              "#bd3786"
             ],
             [
              0.5555555555555556,
              "#d8576b"
             ],
             [
              0.6666666666666666,
              "#ed7953"
             ],
             [
              0.7777777777777778,
              "#fb9f3a"
             ],
             [
              0.8888888888888888,
              "#fdca26"
             ],
             [
              1,
              "#f0f921"
             ]
            ],
            "type": "heatmapgl"
           }
          ],
          "histogram": [
           {
            "marker": {
             "pattern": {
              "fillmode": "overlay",
              "size": 10,
              "solidity": 0.2
             }
            },
            "type": "histogram"
           }
          ],
          "histogram2d": [
           {
            "colorbar": {
             "outlinewidth": 0,
             "ticks": ""
            },
            "colorscale": [
             [
              0,
              "#0d0887"
             ],
             [
              0.1111111111111111,
              "#46039f"
             ],
             [
              0.2222222222222222,
              "#7201a8"
             ],
             [
              0.3333333333333333,
              "#9c179e"
             ],
             [
              0.4444444444444444,
              "#bd3786"
             ],
             [
              0.5555555555555556,
              "#d8576b"
             ],
             [
              0.6666666666666666,
              "#ed7953"
             ],
             [
              0.7777777777777778,
              "#fb9f3a"
             ],
             [
              0.8888888888888888,
              "#fdca26"
             ],
             [
              1,
              "#f0f921"
             ]
            ],
            "type": "histogram2d"
           }
          ],
          "histogram2dcontour": [
           {
            "colorbar": {
             "outlinewidth": 0,
             "ticks": ""
            },
            "colorscale": [
             [
              0,
              "#0d0887"
             ],
             [
              0.1111111111111111,
              "#46039f"
             ],
             [
              0.2222222222222222,
              "#7201a8"
             ],
             [
              0.3333333333333333,
              "#9c179e"
             ],
             [
              0.4444444444444444,
              "#bd3786"
             ],
             [
              0.5555555555555556,
              "#d8576b"
             ],
             [
              0.6666666666666666,
              "#ed7953"
             ],
             [
              0.7777777777777778,
              "#fb9f3a"
             ],
             [
              0.8888888888888888,
              "#fdca26"
             ],
             [
              1,
              "#f0f921"
             ]
            ],
            "type": "histogram2dcontour"
           }
          ],
          "mesh3d": [
           {
            "colorbar": {
             "outlinewidth": 0,
             "ticks": ""
            },
            "type": "mesh3d"
           }
          ],
          "parcoords": [
           {
            "line": {
             "colorbar": {
              "outlinewidth": 0,
              "ticks": ""
             }
            },
            "type": "parcoords"
           }
          ],
          "pie": [
           {
            "automargin": true,
            "type": "pie"
           }
          ],
          "scatter": [
           {
            "fillpattern": {
             "fillmode": "overlay",
             "size": 10,
             "solidity": 0.2
            },
            "type": "scatter"
           }
          ],
          "scatter3d": [
           {
            "line": {
             "colorbar": {
              "outlinewidth": 0,
              "ticks": ""
             }
            },
            "marker": {
             "colorbar": {
              "outlinewidth": 0,
              "ticks": ""
             }
            },
            "type": "scatter3d"
           }
          ],
          "scattercarpet": [
           {
            "marker": {
             "colorbar": {
              "outlinewidth": 0,
              "ticks": ""
             }
            },
            "type": "scattercarpet"
           }
          ],
          "scattergeo": [
           {
            "marker": {
             "colorbar": {
              "outlinewidth": 0,
              "ticks": ""
             }
            },
            "type": "scattergeo"
           }
          ],
          "scattergl": [
           {
            "marker": {
             "colorbar": {
              "outlinewidth": 0,
              "ticks": ""
             }
            },
            "type": "scattergl"
           }
          ],
          "scattermapbox": [
           {
            "marker": {
             "colorbar": {
              "outlinewidth": 0,
              "ticks": ""
             }
            },
            "type": "scattermapbox"
           }
          ],
          "scatterpolar": [
           {
            "marker": {
             "colorbar": {
              "outlinewidth": 0,
              "ticks": ""
             }
            },
            "type": "scatterpolar"
           }
          ],
          "scatterpolargl": [
           {
            "marker": {
             "colorbar": {
              "outlinewidth": 0,
              "ticks": ""
             }
            },
            "type": "scatterpolargl"
           }
          ],
          "scatterternary": [
           {
            "marker": {
             "colorbar": {
              "outlinewidth": 0,
              "ticks": ""
             }
            },
            "type": "scatterternary"
           }
          ],
          "surface": [
           {
            "colorbar": {
             "outlinewidth": 0,
             "ticks": ""
            },
            "colorscale": [
             [
              0,
              "#0d0887"
             ],
             [
              0.1111111111111111,
              "#46039f"
             ],
             [
              0.2222222222222222,
              "#7201a8"
             ],
             [
              0.3333333333333333,
              "#9c179e"
             ],
             [
              0.4444444444444444,
              "#bd3786"
             ],
             [
              0.5555555555555556,
              "#d8576b"
             ],
             [
              0.6666666666666666,
              "#ed7953"
             ],
             [
              0.7777777777777778,
              "#fb9f3a"
             ],
             [
              0.8888888888888888,
              "#fdca26"
             ],
             [
              1,
              "#f0f921"
             ]
            ],
            "type": "surface"
           }
          ],
          "table": [
           {
            "cells": {
             "fill": {
              "color": "#EBF0F8"
             },
             "line": {
              "color": "white"
             }
            },
            "header": {
             "fill": {
              "color": "#C8D4E3"
             },
             "line": {
              "color": "white"
             }
            },
            "type": "table"
           }
          ]
         },
         "layout": {
          "annotationdefaults": {
           "arrowcolor": "#2a3f5f",
           "arrowhead": 0,
           "arrowwidth": 1
          },
          "autotypenumbers": "strict",
          "coloraxis": {
           "colorbar": {
            "outlinewidth": 0,
            "ticks": ""
           }
          },
          "colorscale": {
           "diverging": [
            [
             0,
             "#8e0152"
            ],
            [
             0.1,
             "#c51b7d"
            ],
            [
             0.2,
             "#de77ae"
            ],
            [
             0.3,
             "#f1b6da"
            ],
            [
             0.4,
             "#fde0ef"
            ],
            [
             0.5,
             "#f7f7f7"
            ],
            [
             0.6,
             "#e6f5d0"
            ],
            [
             0.7,
             "#b8e186"
            ],
            [
             0.8,
             "#7fbc41"
            ],
            [
             0.9,
             "#4d9221"
            ],
            [
             1,
             "#276419"
            ]
           ],
           "sequential": [
            [
             0,
             "#0d0887"
            ],
            [
             0.1111111111111111,
             "#46039f"
            ],
            [
             0.2222222222222222,
             "#7201a8"
            ],
            [
             0.3333333333333333,
             "#9c179e"
            ],
            [
             0.4444444444444444,
             "#bd3786"
            ],
            [
             0.5555555555555556,
             "#d8576b"
            ],
            [
             0.6666666666666666,
             "#ed7953"
            ],
            [
             0.7777777777777778,
             "#fb9f3a"
            ],
            [
             0.8888888888888888,
             "#fdca26"
            ],
            [
             1,
             "#f0f921"
            ]
           ],
           "sequentialminus": [
            [
             0,
             "#0d0887"
            ],
            [
             0.1111111111111111,
             "#46039f"
            ],
            [
             0.2222222222222222,
             "#7201a8"
            ],
            [
             0.3333333333333333,
             "#9c179e"
            ],
            [
             0.4444444444444444,
             "#bd3786"
            ],
            [
             0.5555555555555556,
             "#d8576b"
            ],
            [
             0.6666666666666666,
             "#ed7953"
            ],
            [
             0.7777777777777778,
             "#fb9f3a"
            ],
            [
             0.8888888888888888,
             "#fdca26"
            ],
            [
             1,
             "#f0f921"
            ]
           ]
          },
          "colorway": [
           "#636efa",
           "#EF553B",
           "#00cc96",
           "#ab63fa",
           "#FFA15A",
           "#19d3f3",
           "#FF6692",
           "#B6E880",
           "#FF97FF",
           "#FECB52"
          ],
          "font": {
           "color": "#2a3f5f"
          },
          "geo": {
           "bgcolor": "white",
           "lakecolor": "white",
           "landcolor": "#E5ECF6",
           "showlakes": true,
           "showland": true,
           "subunitcolor": "white"
          },
          "hoverlabel": {
           "align": "left"
          },
          "hovermode": "closest",
          "mapbox": {
           "style": "light"
          },
          "paper_bgcolor": "white",
          "plot_bgcolor": "#E5ECF6",
          "polar": {
           "angularaxis": {
            "gridcolor": "white",
            "linecolor": "white",
            "ticks": ""
           },
           "bgcolor": "#E5ECF6",
           "radialaxis": {
            "gridcolor": "white",
            "linecolor": "white",
            "ticks": ""
           }
          },
          "scene": {
           "xaxis": {
            "backgroundcolor": "#E5ECF6",
            "gridcolor": "white",
            "gridwidth": 2,
            "linecolor": "white",
            "showbackground": true,
            "ticks": "",
            "zerolinecolor": "white"
           },
           "yaxis": {
            "backgroundcolor": "#E5ECF6",
            "gridcolor": "white",
            "gridwidth": 2,
            "linecolor": "white",
            "showbackground": true,
            "ticks": "",
            "zerolinecolor": "white"
           },
           "zaxis": {
            "backgroundcolor": "#E5ECF6",
            "gridcolor": "white",
            "gridwidth": 2,
            "linecolor": "white",
            "showbackground": true,
            "ticks": "",
            "zerolinecolor": "white"
           }
          },
          "shapedefaults": {
           "line": {
            "color": "#2a3f5f"
           }
          },
          "ternary": {
           "aaxis": {
            "gridcolor": "white",
            "linecolor": "white",
            "ticks": ""
           },
           "baxis": {
            "gridcolor": "white",
            "linecolor": "white",
            "ticks": ""
           },
           "bgcolor": "#E5ECF6",
           "caxis": {
            "gridcolor": "white",
            "linecolor": "white",
            "ticks": ""
           }
          },
          "title": {
           "x": 0.05
          },
          "xaxis": {
           "automargin": true,
           "gridcolor": "white",
           "linecolor": "white",
           "ticks": "",
           "title": {
            "standoff": 15
           },
           "zerolinecolor": "white",
           "zerolinewidth": 2
          },
          "yaxis": {
           "automargin": true,
           "gridcolor": "white",
           "linecolor": "white",
           "ticks": "",
           "title": {
            "standoff": 15
           },
           "zerolinecolor": "white",
           "zerolinewidth": 2
          }
         }
        },
        "title": {
         "text": "Social Financing with Local Extremes"
        },
        "xaxis": {
         "anchor": "y",
         "domain": [
          0,
          1
         ],
         "title": {
          "text": "Date"
         }
        },
        "yaxis": {
         "anchor": "x",
         "domain": [
          0,
          1
         ],
         "title": {
          "text": "Social Financing"
         }
        }
       }
      }
     },
     "metadata": {},
     "output_type": "display_data"
    }
   ],
   "source": [
    "import plotly.express as px\n",
    "\n",
    "df_reset = df.reset_index()\n",
    "\n",
    "# 添加标记列（用于区分高点和低点）\n",
    "df_reset['extreme_type'] = df_reset['extreme'].map({1: 'Local Minima', -1: 'Local Maxima'})\n",
    "\n",
    "# 过滤出局部极值\n",
    "extremes = df_reset[df_reset['extreme'] != 0]\n",
    "\n",
    "# 绘制交互式图表\n",
    "fig = px.line(df_reset, x='date', y='social_financing', title='Social Financing with Local Extremes',\n",
    "              labels={'social_financing': 'Social Financing', 'date': 'Date'})\n",
    "\n",
    "# 添加局部低点\n",
    "fig.add_scatter(x=extremes[extremes['extreme'] == 1]['date'],\n",
    "                y=extremes[extremes['extreme'] == 1]['social_financing'],\n",
    "                mode='markers', name='Local Minima', marker=dict(color='red', size=10))\n",
    "\n",
    "# 添加局部高点\n",
    "fig.add_scatter(x=extremes[extremes['extreme'] == -1]['date'],\n",
    "                y=extremes[extremes['extreme'] == -1]['social_financing'],\n",
    "                mode='markers', name='Local Maxima', marker=dict(color='green', size=10))\n",
    "\n",
    "fig.show()"
   ]
  },
  {
   "cell_type": "markdown",
   "id": "b1954860",
   "metadata": {},
   "source": [
    "***整合货币和信用周期***"
   ]
  },
  {
   "cell_type": "code",
   "execution_count": 36,
   "id": "2550a17f",
   "metadata": {},
   "outputs": [
    {
     "data": {
      "text/html": [
       "<div>\n",
       "<style scoped>\n",
       "    .dataframe tbody tr th:only-of-type {\n",
       "        vertical-align: middle;\n",
       "    }\n",
       "\n",
       "    .dataframe tbody tr th {\n",
       "        vertical-align: top;\n",
       "    }\n",
       "\n",
       "    .dataframe thead th {\n",
       "        text-align: right;\n",
       "    }\n",
       "</style>\n",
       "<table border=\"1\" class=\"dataframe\">\n",
       "  <thead>\n",
       "    <tr style=\"text-align: right;\">\n",
       "      <th></th>\n",
       "      <th>月份</th>\n",
       "      <th>货币周期</th>\n",
       "      <th>信用周期</th>\n",
       "    </tr>\n",
       "  </thead>\n",
       "  <tbody>\n",
       "    <tr>\n",
       "      <th>0</th>\n",
       "      <td>2004-03-01</td>\n",
       "      <td>紧周期</td>\n",
       "      <td>宽信用</td>\n",
       "    </tr>\n",
       "    <tr>\n",
       "      <th>1</th>\n",
       "      <td>2004-04-01</td>\n",
       "      <td>紧周期</td>\n",
       "      <td>紧信用</td>\n",
       "    </tr>\n",
       "    <tr>\n",
       "      <th>2</th>\n",
       "      <td>2004-05-01</td>\n",
       "      <td>紧周期</td>\n",
       "      <td>紧信用</td>\n",
       "    </tr>\n",
       "    <tr>\n",
       "      <th>3</th>\n",
       "      <td>2004-06-01</td>\n",
       "      <td>紧周期</td>\n",
       "      <td>紧信用</td>\n",
       "    </tr>\n",
       "    <tr>\n",
       "      <th>4</th>\n",
       "      <td>2004-07-01</td>\n",
       "      <td>紧周期</td>\n",
       "      <td>紧信用</td>\n",
       "    </tr>\n",
       "    <tr>\n",
       "      <th>...</th>\n",
       "      <td>...</td>\n",
       "      <td>...</td>\n",
       "      <td>...</td>\n",
       "    </tr>\n",
       "    <tr>\n",
       "      <th>243</th>\n",
       "      <td>2024-06-01</td>\n",
       "      <td>宽周期</td>\n",
       "      <td>宽信用</td>\n",
       "    </tr>\n",
       "    <tr>\n",
       "      <th>244</th>\n",
       "      <td>2024-07-01</td>\n",
       "      <td>宽周期</td>\n",
       "      <td>宽信用</td>\n",
       "    </tr>\n",
       "    <tr>\n",
       "      <th>245</th>\n",
       "      <td>2024-08-01</td>\n",
       "      <td>宽周期</td>\n",
       "      <td>宽信用</td>\n",
       "    </tr>\n",
       "    <tr>\n",
       "      <th>246</th>\n",
       "      <td>2024-09-01</td>\n",
       "      <td>宽周期</td>\n",
       "      <td>宽信用</td>\n",
       "    </tr>\n",
       "    <tr>\n",
       "      <th>247</th>\n",
       "      <td>2024-10-01</td>\n",
       "      <td>宽周期</td>\n",
       "      <td>宽信用</td>\n",
       "    </tr>\n",
       "  </tbody>\n",
       "</table>\n",
       "<p>248 rows × 3 columns</p>\n",
       "</div>"
      ],
      "text/plain": [
       "            月份 货币周期 信用周期\n",
       "0   2004-03-01  紧周期  宽信用\n",
       "1   2004-04-01  紧周期  紧信用\n",
       "2   2004-05-01  紧周期  紧信用\n",
       "3   2004-06-01  紧周期  紧信用\n",
       "4   2004-07-01  紧周期  紧信用\n",
       "..         ...  ...  ...\n",
       "243 2024-06-01  宽周期  宽信用\n",
       "244 2024-07-01  宽周期  宽信用\n",
       "245 2024-08-01  宽周期  宽信用\n",
       "246 2024-09-01  宽周期  宽信用\n",
       "247 2024-10-01  宽周期  宽信用\n",
       "\n",
       "[248 rows x 3 columns]"
      ]
     },
     "execution_count": 36,
     "metadata": {},
     "output_type": "execute_result"
    }
   ],
   "source": [
    "# 先将两个df整合\n",
    "df1 = grouped\n",
    "df2 = credit_periods_df\n",
    "\n",
    "df1['start_date'] = pd.to_datetime(df1['start_month'])\n",
    "df1['end_date'] = pd.to_datetime(df1['end_month'])\n",
    "df2['start_date'] = pd.to_datetime(df2['start_date'])\n",
    "df2['end_date'] = pd.to_datetime(df2['end_date'])\n",
    "\n",
    "def split_into_months(start, end, period_name):\n",
    "    \"\"\"按月拆分时间区间\"\"\"\n",
    "    dates = pd.date_range(start, end, freq='MS')\n",
    "    return pd.DataFrame({'月份': dates, '周期': period_name})\n",
    "\n",
    "split_df1 = pd.concat([split_into_months(row['start_date'], row['end_date'], row['cycle_phase']) for _, row in df1.iterrows()])\n",
    "split_df2 = pd.concat([split_into_months(row['start_date'], row['end_date'], row['credit_cycle']) for _, row in df2.iterrows()])\n",
    "\n",
    "combined_df = pd.merge(split_df1, split_df2, on='月份', how='inner')\n",
    "\n",
    "combined_df.rename(columns={'周期_x': '货币周期', '周期_y': '信用周期'}, inplace=True)\n",
    "\n",
    "combined_df\n"
   ]
  },
  {
   "cell_type": "code",
   "execution_count": 37,
   "id": "c6df03e9",
   "metadata": {},
   "outputs": [
    {
     "data": {
      "text/html": [
       "<div>\n",
       "<style scoped>\n",
       "    .dataframe tbody tr th:only-of-type {\n",
       "        vertical-align: middle;\n",
       "    }\n",
       "\n",
       "    .dataframe tbody tr th {\n",
       "        vertical-align: top;\n",
       "    }\n",
       "\n",
       "    .dataframe thead th {\n",
       "        text-align: right;\n",
       "    }\n",
       "</style>\n",
       "<table border=\"1\" class=\"dataframe\">\n",
       "  <thead>\n",
       "    <tr style=\"text-align: right;\">\n",
       "      <th></th>\n",
       "      <th>开始日期</th>\n",
       "      <th>结束日期</th>\n",
       "      <th>货币-信用周期</th>\n",
       "      <th>时长(月)</th>\n",
       "    </tr>\n",
       "  </thead>\n",
       "  <tbody>\n",
       "    <tr>\n",
       "      <th>0</th>\n",
       "      <td>2004-03</td>\n",
       "      <td>2004-03</td>\n",
       "      <td>宽信用-紧货币</td>\n",
       "      <td>1</td>\n",
       "    </tr>\n",
       "    <tr>\n",
       "      <th>1</th>\n",
       "      <td>2004-04</td>\n",
       "      <td>2004-10</td>\n",
       "      <td>紧信用-紧货币</td>\n",
       "      <td>7</td>\n",
       "    </tr>\n",
       "    <tr>\n",
       "      <th>2</th>\n",
       "      <td>2004-11</td>\n",
       "      <td>2005-02</td>\n",
       "      <td>宽信用-紧货币</td>\n",
       "      <td>4</td>\n",
       "    </tr>\n",
       "    <tr>\n",
       "      <th>3</th>\n",
       "      <td>2005-03</td>\n",
       "      <td>2005-06</td>\n",
       "      <td>紧信用-紧货币</td>\n",
       "      <td>4</td>\n",
       "    </tr>\n",
       "    <tr>\n",
       "      <th>4</th>\n",
       "      <td>2005-07</td>\n",
       "      <td>2005-10</td>\n",
       "      <td>紧信用-宽货币</td>\n",
       "      <td>4</td>\n",
       "    </tr>\n",
       "    <tr>\n",
       "      <th>5</th>\n",
       "      <td>2005-11</td>\n",
       "      <td>2006-03</td>\n",
       "      <td>宽信用-宽货币</td>\n",
       "      <td>5</td>\n",
       "    </tr>\n",
       "    <tr>\n",
       "      <th>6</th>\n",
       "      <td>2006-04</td>\n",
       "      <td>2006-07</td>\n",
       "      <td>宽信用-紧货币</td>\n",
       "      <td>4</td>\n",
       "    </tr>\n",
       "    <tr>\n",
       "      <th>7</th>\n",
       "      <td>2006-08</td>\n",
       "      <td>2006-10</td>\n",
       "      <td>紧信用-紧货币</td>\n",
       "      <td>3</td>\n",
       "    </tr>\n",
       "    <tr>\n",
       "      <th>8</th>\n",
       "      <td>2006-11</td>\n",
       "      <td>2007-10</td>\n",
       "      <td>宽信用-紧货币</td>\n",
       "      <td>12</td>\n",
       "    </tr>\n",
       "    <tr>\n",
       "      <th>9</th>\n",
       "      <td>2007-11</td>\n",
       "      <td>2008-08</td>\n",
       "      <td>紧信用-紧货币</td>\n",
       "      <td>10</td>\n",
       "    </tr>\n",
       "    <tr>\n",
       "      <th>10</th>\n",
       "      <td>2008-09</td>\n",
       "      <td>2008-10</td>\n",
       "      <td>紧信用-宽货币</td>\n",
       "      <td>2</td>\n",
       "    </tr>\n",
       "    <tr>\n",
       "      <th>11</th>\n",
       "      <td>2008-11</td>\n",
       "      <td>2009-10</td>\n",
       "      <td>宽信用-宽货币</td>\n",
       "      <td>12</td>\n",
       "    </tr>\n",
       "    <tr>\n",
       "      <th>12</th>\n",
       "      <td>2009-11</td>\n",
       "      <td>2009-12</td>\n",
       "      <td>紧信用-宽货币</td>\n",
       "      <td>2</td>\n",
       "    </tr>\n",
       "    <tr>\n",
       "      <th>13</th>\n",
       "      <td>2010-01</td>\n",
       "      <td>2011-09</td>\n",
       "      <td>紧信用-紧货币</td>\n",
       "      <td>21</td>\n",
       "    </tr>\n",
       "    <tr>\n",
       "      <th>14</th>\n",
       "      <td>2011-10</td>\n",
       "      <td>2011-11</td>\n",
       "      <td>宽信用-紧货币</td>\n",
       "      <td>2</td>\n",
       "    </tr>\n",
       "    <tr>\n",
       "      <th>15</th>\n",
       "      <td>2011-12</td>\n",
       "      <td>2012-09</td>\n",
       "      <td>宽信用-宽货币</td>\n",
       "      <td>10</td>\n",
       "    </tr>\n",
       "    <tr>\n",
       "      <th>16</th>\n",
       "      <td>2012-10</td>\n",
       "      <td>2013-05</td>\n",
       "      <td>紧信用-宽货币</td>\n",
       "      <td>8</td>\n",
       "    </tr>\n",
       "    <tr>\n",
       "      <th>17</th>\n",
       "      <td>2013-06</td>\n",
       "      <td>2013-06</td>\n",
       "      <td>紧信用-紧货币</td>\n",
       "      <td>1</td>\n",
       "    </tr>\n",
       "    <tr>\n",
       "      <th>18</th>\n",
       "      <td>2013-07</td>\n",
       "      <td>2014-03</td>\n",
       "      <td>宽信用-紧货币</td>\n",
       "      <td>9</td>\n",
       "    </tr>\n",
       "    <tr>\n",
       "      <th>19</th>\n",
       "      <td>2014-04</td>\n",
       "      <td>2014-06</td>\n",
       "      <td>宽信用-宽货币</td>\n",
       "      <td>3</td>\n",
       "    </tr>\n",
       "    <tr>\n",
       "      <th>20</th>\n",
       "      <td>2014-07</td>\n",
       "      <td>2015-03</td>\n",
       "      <td>紧信用-宽货币</td>\n",
       "      <td>9</td>\n",
       "    </tr>\n",
       "    <tr>\n",
       "      <th>21</th>\n",
       "      <td>2015-04</td>\n",
       "      <td>2016-03</td>\n",
       "      <td>宽信用-宽货币</td>\n",
       "      <td>12</td>\n",
       "    </tr>\n",
       "    <tr>\n",
       "      <th>22</th>\n",
       "      <td>2016-04</td>\n",
       "      <td>2016-05</td>\n",
       "      <td>紧信用-宽货币</td>\n",
       "      <td>2</td>\n",
       "    </tr>\n",
       "    <tr>\n",
       "      <th>23</th>\n",
       "      <td>2016-06</td>\n",
       "      <td>2017-01</td>\n",
       "      <td>宽信用-宽货币</td>\n",
       "      <td>8</td>\n",
       "    </tr>\n",
       "    <tr>\n",
       "      <th>24</th>\n",
       "      <td>2017-02</td>\n",
       "      <td>2017-07</td>\n",
       "      <td>宽信用-紧货币</td>\n",
       "      <td>6</td>\n",
       "    </tr>\n",
       "    <tr>\n",
       "      <th>25</th>\n",
       "      <td>2017-08</td>\n",
       "      <td>2017-12</td>\n",
       "      <td>紧信用-紧货币</td>\n",
       "      <td>5</td>\n",
       "    </tr>\n",
       "    <tr>\n",
       "      <th>26</th>\n",
       "      <td>2018-01</td>\n",
       "      <td>2018-10</td>\n",
       "      <td>紧信用-宽货币</td>\n",
       "      <td>10</td>\n",
       "    </tr>\n",
       "    <tr>\n",
       "      <th>27</th>\n",
       "      <td>2018-11</td>\n",
       "      <td>2019-03</td>\n",
       "      <td>宽信用-宽货币</td>\n",
       "      <td>5</td>\n",
       "    </tr>\n",
       "    <tr>\n",
       "      <th>28</th>\n",
       "      <td>2019-04</td>\n",
       "      <td>2020-02</td>\n",
       "      <td>紧信用-宽货币</td>\n",
       "      <td>11</td>\n",
       "    </tr>\n",
       "    <tr>\n",
       "      <th>29</th>\n",
       "      <td>2020-03</td>\n",
       "      <td>2020-09</td>\n",
       "      <td>宽信用-宽货币</td>\n",
       "      <td>7</td>\n",
       "    </tr>\n",
       "    <tr>\n",
       "      <th>30</th>\n",
       "      <td>2020-10</td>\n",
       "      <td>2021-02</td>\n",
       "      <td>宽信用-紧货币</td>\n",
       "      <td>5</td>\n",
       "    </tr>\n",
       "    <tr>\n",
       "      <th>31</th>\n",
       "      <td>2021-03</td>\n",
       "      <td>2022-04</td>\n",
       "      <td>紧信用-宽货币</td>\n",
       "      <td>14</td>\n",
       "    </tr>\n",
       "    <tr>\n",
       "      <th>32</th>\n",
       "      <td>2022-05</td>\n",
       "      <td>2023-02</td>\n",
       "      <td>宽信用-宽货币</td>\n",
       "      <td>10</td>\n",
       "    </tr>\n",
       "    <tr>\n",
       "      <th>33</th>\n",
       "      <td>2023-03</td>\n",
       "      <td>2023-05</td>\n",
       "      <td>紧信用-宽货币</td>\n",
       "      <td>3</td>\n",
       "    </tr>\n",
       "    <tr>\n",
       "      <th>34</th>\n",
       "      <td>2023-06</td>\n",
       "      <td>2023-10</td>\n",
       "      <td>宽信用-宽货币</td>\n",
       "      <td>5</td>\n",
       "    </tr>\n",
       "    <tr>\n",
       "      <th>35</th>\n",
       "      <td>2023-11</td>\n",
       "      <td>2024-04</td>\n",
       "      <td>紧信用-宽货币</td>\n",
       "      <td>6</td>\n",
       "    </tr>\n",
       "    <tr>\n",
       "      <th>36</th>\n",
       "      <td>2024-05</td>\n",
       "      <td>2024-10</td>\n",
       "      <td>宽信用-宽货币</td>\n",
       "      <td>6</td>\n",
       "    </tr>\n",
       "  </tbody>\n",
       "</table>\n",
       "</div>"
      ],
      "text/plain": [
       "       开始日期     结束日期  货币-信用周期  时长(月)\n",
       "0   2004-03  2004-03  宽信用-紧货币      1\n",
       "1   2004-04  2004-10  紧信用-紧货币      7\n",
       "2   2004-11  2005-02  宽信用-紧货币      4\n",
       "3   2005-03  2005-06  紧信用-紧货币      4\n",
       "4   2005-07  2005-10  紧信用-宽货币      4\n",
       "5   2005-11  2006-03  宽信用-宽货币      5\n",
       "6   2006-04  2006-07  宽信用-紧货币      4\n",
       "7   2006-08  2006-10  紧信用-紧货币      3\n",
       "8   2006-11  2007-10  宽信用-紧货币     12\n",
       "9   2007-11  2008-08  紧信用-紧货币     10\n",
       "10  2008-09  2008-10  紧信用-宽货币      2\n",
       "11  2008-11  2009-10  宽信用-宽货币     12\n",
       "12  2009-11  2009-12  紧信用-宽货币      2\n",
       "13  2010-01  2011-09  紧信用-紧货币     21\n",
       "14  2011-10  2011-11  宽信用-紧货币      2\n",
       "15  2011-12  2012-09  宽信用-宽货币     10\n",
       "16  2012-10  2013-05  紧信用-宽货币      8\n",
       "17  2013-06  2013-06  紧信用-紧货币      1\n",
       "18  2013-07  2014-03  宽信用-紧货币      9\n",
       "19  2014-04  2014-06  宽信用-宽货币      3\n",
       "20  2014-07  2015-03  紧信用-宽货币      9\n",
       "21  2015-04  2016-03  宽信用-宽货币     12\n",
       "22  2016-04  2016-05  紧信用-宽货币      2\n",
       "23  2016-06  2017-01  宽信用-宽货币      8\n",
       "24  2017-02  2017-07  宽信用-紧货币      6\n",
       "25  2017-08  2017-12  紧信用-紧货币      5\n",
       "26  2018-01  2018-10  紧信用-宽货币     10\n",
       "27  2018-11  2019-03  宽信用-宽货币      5\n",
       "28  2019-04  2020-02  紧信用-宽货币     11\n",
       "29  2020-03  2020-09  宽信用-宽货币      7\n",
       "30  2020-10  2021-02  宽信用-紧货币      5\n",
       "31  2021-03  2022-04  紧信用-宽货币     14\n",
       "32  2022-05  2023-02  宽信用-宽货币     10\n",
       "33  2023-03  2023-05  紧信用-宽货币      3\n",
       "34  2023-06  2023-10  宽信用-宽货币      5\n",
       "35  2023-11  2024-04  紧信用-宽货币      6\n",
       "36  2024-05  2024-10  宽信用-宽货币      6"
      ]
     },
     "execution_count": 37,
     "metadata": {},
     "output_type": "execute_result"
    }
   ],
   "source": [
    "# 再按照区间进行整合\n",
    "def aggregate_to_intervals(df):\n",
    "    \"\"\"\n",
    "    将逐月数据合并为区间形式，输出开始日期、结束日期、货币-信用周期、时长。\n",
    "    \"\"\"\n",
    "    df = df.sort_values('月份').reset_index(drop=True)\n",
    "\n",
    "    intervals = []\n",
    "    start_date = df.loc[0, '月份']\n",
    "    current_cycle = f\"{df.loc[0, '信用周期'].replace('紧周期', '紧货币').replace('宽周期', '宽货币')}-\" \\\n",
    "                    f\"{df.loc[0, '货币周期'].replace('紧周期', '紧货币').replace('宽周期', '宽货币')}\"\n",
    "    duration = 1\n",
    "\n",
    "    for i in range(1, len(df)):\n",
    "        cycle = f\"{df.loc[i, '信用周期'].replace('紧周期', '紧货币').replace('宽周期', '宽货币')}-\" \\\n",
    "                f\"{df.loc[i, '货币周期'].replace('紧周期', '紧货币').replace('宽周期', '宽货币')}\"\n",
    "        if cycle == current_cycle:\n",
    "            duration += 1\n",
    "        else:\n",
    "            intervals.append({\n",
    "                '开始日期': start_date.strftime('%Y-%m'),\n",
    "                '结束日期': df.loc[i-1, '月份'].strftime('%Y-%m'),\n",
    "                '货币-信用周期': current_cycle,\n",
    "                '时长(月)': duration\n",
    "            })\n",
    "            start_date = df.loc[i, '月份']\n",
    "            current_cycle = cycle\n",
    "            duration = 1\n",
    "    \n",
    "    intervals.append({\n",
    "        '开始日期': start_date.strftime('%Y-%m'),\n",
    "        '结束日期': df.loc[len(df)-1, '月份'].strftime('%Y-%m'),\n",
    "        '货币-信用周期': current_cycle,\n",
    "        '时长(月)': duration\n",
    "    })\n",
    "\n",
    "    return pd.DataFrame(intervals)\n",
    "\n",
    "result_df = aggregate_to_intervals(combined_df)\n",
    "\n",
    "result_df"
   ]
  },
  {
   "cell_type": "markdown",
   "id": "714a530c",
   "metadata": {},
   "source": [
    "***下面进行一下各区间收益率的对比***"
   ]
  },
  {
   "cell_type": "markdown",
   "id": "9ef93d3e",
   "metadata": {},
   "source": [
    "后面会将这部分代码独立出来，这里先进行一下测算"
   ]
  },
  {
   "cell_type": "code",
   "execution_count": 38,
   "id": "a83d23ae",
   "metadata": {},
   "outputs": [],
   "source": [
    "cycle = result_df\n",
    "bond = pd.read_csv(r\"..\\data\\中债全价指数_clean.csv\")\n",
    "stock = pd.read_csv(r\"..\\data\\沪深300_clean.csv\")\n",
    "ca_future = pd.read_csv(r\"..\\data\\CA.LME_cleannnn.csv\")\n",
    "hj_future = pd.read_csv(r\"..\\data\\期货收盘价(连续)_COMEX黄金_clean.csv\", encoding = 'gbk')\n",
    "yy_future = pd.read_csv(r\"..\\data\\期货结算价(连续)_布伦特原油_clean.csv\", encoding = 'gbk')"
   ]
  },
  {
   "cell_type": "code",
   "execution_count": 39,
   "id": "7dec8344",
   "metadata": {},
   "outputs": [],
   "source": [
    "# 计算每个货币-信用周期内各资产的累计收益率\n",
    "cycle[\"开始日期\"] = pd.to_datetime(cycle[\"开始日期\"])\n",
    "cycle[\"结束日期\"] = pd.to_datetime(cycle[\"结束日期\"])\n",
    "bond[\"日期\"] = pd.to_datetime(bond[\"日期\"])\n",
    "stock[\"日期\"] = pd.to_datetime(stock[\"日期\"])\n",
    "ca_future[\"日期\"] = pd.to_datetime(ca_future[\"日期\"])\n",
    "hj_future[\"日期\"] = pd.to_datetime(hj_future[\"日期\"])\n",
    "yy_future[\"日期\"] = pd.to_datetime(yy_future[\"日期\"])\n",
    "\n",
    "result = []\n",
    "for _, row in cycle.iterrows():\n",
    "    start_date, end_date, cycle_type = row[\"开始日期\"], row[\"结束日期\"], row[\"货币-信用周期\"]\n",
    "    start_ym = start_date.strftime('%Y-%m')\n",
    "    end_ym = end_date.strftime('%Y-%m')\n",
    "\n",
    "    if start_ym == end_ym:\n",
    "        bond_cycle = bond[bond[\"日期\"].dt.strftime('%Y-%m') == start_ym]\n",
    "        stock_cycle = stock[stock[\"日期\"].dt.strftime('%Y-%m') == start_ym]\n",
    "        ca_cycle = ca_future[ca_future[\"日期\"].dt.strftime('%Y-%m') == start_ym]\n",
    "        hj_cycle = hj_future[hj_future[\"日期\"].dt.strftime('%Y-%m') == start_ym]\n",
    "        yy_cycle = yy_future[yy_future[\"日期\"].dt.strftime('%Y-%m') == start_ym]\n",
    "\n",
    "        bond_return = bond_cycle[\"中债指数收益率%\"].iloc[-1] / 100 if not bond_cycle.empty else None\n",
    "        stock_return = stock_cycle[\"沪深300月度收益率(%)\"].iloc[-1] / 100 if not stock_cycle.empty else None\n",
    "        ca_return = ca_cycle[\"铜收益率%\"].iloc[-1] / 100 if not ca_cycle.empty else None\n",
    "        hj_return = hj_cycle[\"黄金收益率%\"].iloc[-1] / 100 if not hj_cycle.empty else None\n",
    "        yy_return = yy_cycle[\"原油收益率%\"].iloc[-1] / 100 if not yy_cycle.empty else None\n",
    "    else:\n",
    "        bond_cycle = bond[(bond[\"日期\"] >= start_date) & (bond[\"日期\"] < end_date)]\n",
    "        stock_cycle = stock[(stock[\"日期\"] >= start_date) & (stock[\"日期\"] < end_date)]\n",
    "        ca_cycle = ca_future[(ca_future[\"日期\"] >= start_date) & (ca_future[\"日期\"] < end_date)]\n",
    "        hj_cycle = hj_future[(hj_future[\"日期\"] >= start_date) & (hj_future[\"日期\"] < end_date)]\n",
    "        yy_cycle = yy_future[(yy_future[\"日期\"] >= start_date) & (yy_future[\"日期\"] < end_date)]\n",
    "\n",
    "        bond_return = (1 + bond_cycle[\"中债指数收益率%\"] / 100).prod() - 1 if not bond_cycle.empty else None\n",
    "        stock_return = (1 + stock_cycle[\"沪深300月度收益率(%)\"] / 100).prod() - 1 if not stock_cycle.empty else None\n",
    "        ca_return = (1 + ca_cycle[\"铜收益率%\"] / 100).prod() - 1 if not ca_cycle.empty else None\n",
    "        hj_return = (1 + hj_cycle[\"黄金收益率%\"] / 100).prod() - 1 if not hj_cycle.empty else None\n",
    "        yy_return = (1 + yy_cycle[\"原油收益率%\"] / 100).prod() - 1 if not yy_cycle.empty else None\n",
    "\n",
    "    result.append({\n",
    "        \"周期类型\": cycle_type,\n",
    "        \"开始日期\": start_ym,\n",
    "        \"结束日期\": end_ym,\n",
    "        \"中债收益率(%)\": bond_return * 100 if bond_return is not None else None,\n",
    "        \"沪深300收益率(%)\": stock_return * 100 if stock_return is not None else None,\n",
    "        \"铜收益率(%)\": ca_return * 100 if ca_return is not None else None,\n",
    "        \"黄金收益率(%)\": hj_return * 100 if hj_return is not None else None,\n",
    "        \"原油收益率(%)\": yy_return * 100 if yy_return is not None else None\n",
    "    })\n",
    "\n",
    "result_df = pd.DataFrame(result)"
   ]
  },
  {
   "cell_type": "markdown",
   "id": "1eae3d9f",
   "metadata": {},
   "source": [
    "测算一下每个类型区间内的资产收益率情况"
   ]
  },
  {
   "cell_type": "code",
   "execution_count": 40,
   "id": "ffb834ea",
   "metadata": {},
   "outputs": [
    {
     "data": {
      "text/html": [
       "<h3>第1组周期类型</h3>"
      ],
      "text/plain": [
       "<IPython.core.display.HTML object>"
      ]
     },
     "metadata": {},
     "output_type": "display_data"
    },
    {
     "data": {
      "text/html": [
       "<h4>周期类型：宽信用-紧货币</h4>"
      ],
      "text/plain": [
       "<IPython.core.display.HTML object>"
      ]
     },
     "metadata": {},
     "output_type": "display_data"
    },
    {
     "data": {
      "text/html": [
       "<style type=\"text/css\">\n",
       "#T_fcab0 th {\n",
       "  font-size: 12px;\n",
       "  text-align: center;\n",
       "  background: #f2f2f2;\n",
       "}\n",
       "#T_fcab0 td {\n",
       "  font-size: 12px;\n",
       "  text-align: center;\n",
       "}\n",
       "#T_fcab0_row0_col3, #T_fcab0_row0_col4, #T_fcab0_row0_col8, #T_fcab0_row1_col3, #T_fcab0_row2_col4, #T_fcab0_row2_col8, #T_fcab0_row3_col4, #T_fcab0_row3_col8, #T_fcab0_row4_col3, #T_fcab0_row4_col4, #T_fcab0_row4_col8, #T_fcab0_row5_col8, #T_fcab0_row6_col4, #T_fcab0_row7_col3, #T_fcab0_row7_col4, #T_fcab0_row7_col8 {\n",
       "  background-color: yellow;\n",
       "}\n",
       "</style>\n",
       "<table id=\"T_fcab0\">\n",
       "  <thead>\n",
       "    <tr>\n",
       "      <th id=\"T_fcab0_level0_col0\" class=\"col_heading level0 col0\" >周期类型</th>\n",
       "      <th id=\"T_fcab0_level0_col1\" class=\"col_heading level0 col1\" >开始日期</th>\n",
       "      <th id=\"T_fcab0_level0_col2\" class=\"col_heading level0 col2\" >结束日期</th>\n",
       "      <th id=\"T_fcab0_level0_col3\" class=\"col_heading level0 col3\" >中债收益率(%)</th>\n",
       "      <th id=\"T_fcab0_level0_col4\" class=\"col_heading level0 col4\" >沪深300收益率(%)</th>\n",
       "      <th id=\"T_fcab0_level0_col5\" class=\"col_heading level0 col5\" >铜收益率(%)</th>\n",
       "      <th id=\"T_fcab0_level0_col6\" class=\"col_heading level0 col6\" >黄金收益率(%)</th>\n",
       "      <th id=\"T_fcab0_level0_col7\" class=\"col_heading level0 col7\" >原油收益率(%)</th>\n",
       "      <th id=\"T_fcab0_level0_col8\" class=\"col_heading level0 col8\" >大宗商品收益率(%)</th>\n",
       "    </tr>\n",
       "  </thead>\n",
       "  <tbody>\n",
       "    <tr>\n",
       "      <td id=\"T_fcab0_row0_col0\" class=\"data row0 col0\" >宽信用-紧货币</td>\n",
       "      <td id=\"T_fcab0_row0_col1\" class=\"data row0 col1\" >2004-03</td>\n",
       "      <td id=\"T_fcab0_row0_col2\" class=\"data row0 col2\" >2004-03</td>\n",
       "      <td id=\"T_fcab0_row0_col3\" class=\"data row0 col3\" >0.080000</td>\n",
       "      <td id=\"T_fcab0_row0_col4\" class=\"data row0 col4\" >2.467090</td>\n",
       "      <td id=\"T_fcab0_row0_col5\" class=\"data row0 col5\" >1.355932</td>\n",
       "      <td id=\"T_fcab0_row0_col6\" class=\"data row0 col6\" >7.795156</td>\n",
       "      <td id=\"T_fcab0_row0_col7\" class=\"data row0 col7\" >-2.233944</td>\n",
       "      <td id=\"T_fcab0_row0_col8\" class=\"data row0 col8\" >1.851749</td>\n",
       "    </tr>\n",
       "    <tr>\n",
       "      <td id=\"T_fcab0_row1_col0\" class=\"data row1 col0\" >宽信用-紧货币</td>\n",
       "      <td id=\"T_fcab0_row1_col1\" class=\"data row1 col1\" >2004-11</td>\n",
       "      <td id=\"T_fcab0_row1_col2\" class=\"data row1 col2\" >2005-02</td>\n",
       "      <td id=\"T_fcab0_row1_col3\" class=\"data row1 col3\" >1.491351</td>\n",
       "      <td id=\"T_fcab0_row1_col4\" class=\"data row1 col4\" >-9.089228</td>\n",
       "      <td id=\"T_fcab0_row1_col5\" class=\"data row1 col5\" >6.537530</td>\n",
       "      <td id=\"T_fcab0_row1_col6\" class=\"data row1 col6\" >-1.563594</td>\n",
       "      <td id=\"T_fcab0_row1_col7\" class=\"data row1 col7\" >-6.247448</td>\n",
       "      <td id=\"T_fcab0_row1_col8\" class=\"data row1 col8\" >-1.006798</td>\n",
       "    </tr>\n",
       "    <tr>\n",
       "      <td id=\"T_fcab0_row2_col0\" class=\"data row2 col0\" >宽信用-紧货币</td>\n",
       "      <td id=\"T_fcab0_row2_col1\" class=\"data row2 col1\" >2006-04</td>\n",
       "      <td id=\"T_fcab0_row2_col2\" class=\"data row2 col2\" >2006-07</td>\n",
       "      <td id=\"T_fcab0_row2_col3\" class=\"data row2 col3\" >-2.136568</td>\n",
       "      <td id=\"T_fcab0_row2_col4\" class=\"data row2 col4\" >31.349685</td>\n",
       "      <td id=\"T_fcab0_row2_col5\" class=\"data row2 col5\" >36.237257</td>\n",
       "      <td id=\"T_fcab0_row2_col6\" class=\"data row2 col6\" >5.448608</td>\n",
       "      <td id=\"T_fcab0_row2_col7\" class=\"data row2 col7\" >11.530875</td>\n",
       "      <td id=\"T_fcab0_row2_col8\" class=\"data row2 col8\" >17.118110</td>\n",
       "    </tr>\n",
       "    <tr>\n",
       "      <td id=\"T_fcab0_row3_col0\" class=\"data row3 col0\" >宽信用-紧货币</td>\n",
       "      <td id=\"T_fcab0_row3_col1\" class=\"data row3 col1\" >2006-11</td>\n",
       "      <td id=\"T_fcab0_row3_col2\" class=\"data row3 col2\" >2007-10</td>\n",
       "      <td id=\"T_fcab0_row3_col3\" class=\"data row3 col3\" >-5.977462</td>\n",
       "      <td id=\"T_fcab0_row3_col4\" class=\"data row3 col4\" >281.208260</td>\n",
       "      <td id=\"T_fcab0_row3_col5\" class=\"data row3 col5\" >8.940442</td>\n",
       "      <td id=\"T_fcab0_row3_col6\" class=\"data row3 col6\" >22.959775</td>\n",
       "      <td id=\"T_fcab0_row3_col7\" class=\"data row3 col7\" >34.118245</td>\n",
       "      <td id=\"T_fcab0_row3_col8\" class=\"data row3 col8\" >23.217363</td>\n",
       "    </tr>\n",
       "    <tr>\n",
       "      <td id=\"T_fcab0_row4_col0\" class=\"data row4 col0\" >宽信用-紧货币</td>\n",
       "      <td id=\"T_fcab0_row4_col1\" class=\"data row4 col1\" >2011-10</td>\n",
       "      <td id=\"T_fcab0_row4_col2\" class=\"data row4 col2\" >2011-11</td>\n",
       "      <td id=\"T_fcab0_row4_col3\" class=\"data row4 col3\" >1.730000</td>\n",
       "      <td id=\"T_fcab0_row4_col4\" class=\"data row4 col4\" >4.420382</td>\n",
       "      <td id=\"T_fcab0_row4_col5\" class=\"data row4 col5\" >14.434758</td>\n",
       "      <td id=\"T_fcab0_row4_col6\" class=\"data row4 col6\" >6.393483</td>\n",
       "      <td id=\"T_fcab0_row4_col7\" class=\"data row4 col7\" >6.617361</td>\n",
       "      <td id=\"T_fcab0_row4_col8\" class=\"data row4 col8\" >8.895417</td>\n",
       "    </tr>\n",
       "    <tr>\n",
       "      <td id=\"T_fcab0_row5_col0\" class=\"data row5 col0\" >宽信用-紧货币</td>\n",
       "      <td id=\"T_fcab0_row5_col1\" class=\"data row5 col1\" >2013-07</td>\n",
       "      <td id=\"T_fcab0_row5_col2\" class=\"data row5 col2\" >2014-03</td>\n",
       "      <td id=\"T_fcab0_row5_col3\" class=\"data row5 col3\" >-5.849996</td>\n",
       "      <td id=\"T_fcab0_row5_col4\" class=\"data row5 col4\" >-1.003038</td>\n",
       "      <td id=\"T_fcab0_row5_col5\" class=\"data row5 col5\" >3.655580</td>\n",
       "      <td id=\"T_fcab0_row5_col6\" class=\"data row5 col6\" >9.377320</td>\n",
       "      <td id=\"T_fcab0_row5_col7\" class=\"data row5 col7\" >6.763900</td>\n",
       "      <td id=\"T_fcab0_row5_col8\" class=\"data row5 col8\" >6.615430</td>\n",
       "    </tr>\n",
       "    <tr>\n",
       "      <td id=\"T_fcab0_row6_col0\" class=\"data row6 col0\" >宽信用-紧货币</td>\n",
       "      <td id=\"T_fcab0_row6_col1\" class=\"data row6 col1\" >2017-02</td>\n",
       "      <td id=\"T_fcab0_row6_col2\" class=\"data row6 col2\" >2017-07</td>\n",
       "      <td id=\"T_fcab0_row6_col3\" class=\"data row6 col3\" >-2.396331</td>\n",
       "      <td id=\"T_fcab0_row6_col4\" class=\"data row6 col4\" >8.304193</td>\n",
       "      <td id=\"T_fcab0_row6_col5\" class=\"data row6 col5\" >-0.351171</td>\n",
       "      <td id=\"T_fcab0_row6_col6\" class=\"data row6 col6\" >2.530389</td>\n",
       "      <td id=\"T_fcab0_row6_col7\" class=\"data row6 col7\" >-13.967684</td>\n",
       "      <td id=\"T_fcab0_row6_col8\" class=\"data row6 col8\" >-4.933308</td>\n",
       "    </tr>\n",
       "    <tr>\n",
       "      <td id=\"T_fcab0_row7_col0\" class=\"data row7 col0\" >宽信用-紧货币</td>\n",
       "      <td id=\"T_fcab0_row7_col1\" class=\"data row7 col1\" >2020-10</td>\n",
       "      <td id=\"T_fcab0_row7_col2\" class=\"data row7 col2\" >2021-02</td>\n",
       "      <td id=\"T_fcab0_row7_col3\" class=\"data row7 col3\" >0.700398</td>\n",
       "      <td id=\"T_fcab0_row7_col4\" class=\"data row7 col4\" >16.616686</td>\n",
       "      <td id=\"T_fcab0_row7_col5\" class=\"data row7 col5\" >16.863596</td>\n",
       "      <td id=\"T_fcab0_row7_col6\" class=\"data row7 col6\" >-1.996284</td>\n",
       "      <td id=\"T_fcab0_row7_col7\" class=\"data row7 col7\" >36.459096</td>\n",
       "      <td id=\"T_fcab0_row7_col8\" class=\"data row7 col8\" >19.043832</td>\n",
       "    </tr>\n",
       "  </tbody>\n",
       "</table>\n"
      ],
      "text/plain": [
       "<pandas.io.formats.style.Styler at 0x1fab4642f10>"
      ]
     },
     "metadata": {},
     "output_type": "display_data"
    },
    {
     "data": {
      "text/html": [
       "<b>该周期类型主要收益率均值（中债/沪深300/大宗商品）：</b>"
      ],
      "text/plain": [
       "<IPython.core.display.HTML object>"
      ]
     },
     "metadata": {},
     "output_type": "display_data"
    },
    {
     "data": {
      "text/html": [
       "<style type=\"text/css\">\n",
       "#T_54485 th {\n",
       "  font-size: 12px;\n",
       "  text-align: center;\n",
       "  background: #f2f2f2;\n",
       "}\n",
       "#T_54485 td {\n",
       "  font-size: 12px;\n",
       "  text-align: center;\n",
       "}\n",
       "</style>\n",
       "<table id=\"T_54485\">\n",
       "  <thead>\n",
       "    <tr>\n",
       "      <th id=\"T_54485_level0_col0\" class=\"col_heading level0 col0\" >中债收益率(%)</th>\n",
       "      <th id=\"T_54485_level0_col1\" class=\"col_heading level0 col1\" >沪深300收益率(%)</th>\n",
       "      <th id=\"T_54485_level0_col2\" class=\"col_heading level0 col2\" >大宗商品收益率(%)</th>\n",
       "    </tr>\n",
       "  </thead>\n",
       "  <tbody>\n",
       "    <tr>\n",
       "      <td id=\"T_54485_row0_col0\" class=\"data row0 col0\" >-1.544826</td>\n",
       "      <td id=\"T_54485_row0_col1\" class=\"data row0 col1\" >41.784253</td>\n",
       "      <td id=\"T_54485_row0_col2\" class=\"data row0 col2\" >8.850224</td>\n",
       "    </tr>\n",
       "  </tbody>\n",
       "</table>\n"
      ],
      "text/plain": [
       "<pandas.io.formats.style.Styler at 0x1fab467fc70>"
      ]
     },
     "metadata": {},
     "output_type": "display_data"
    },
    {
     "data": {
      "text/html": [
       "<b>中债、沪深300、大宗商品成为最大收益率的统计次数：</b>"
      ],
      "text/plain": [
       "<IPython.core.display.HTML object>"
      ]
     },
     "metadata": {},
     "output_type": "display_data"
    },
    {
     "data": {
      "text/html": [
       "<style type=\"text/css\">\n",
       "#T_c5e76 th {\n",
       "  font-size: 12px;\n",
       "  text-align: center;\n",
       "  background: #f2f2f2;\n",
       "}\n",
       "#T_c5e76 td {\n",
       "  font-size: 12px;\n",
       "  text-align: center;\n",
       "}\n",
       "</style>\n",
       "<table id=\"T_c5e76\">\n",
       "  <thead>\n",
       "    <tr>\n",
       "      <th id=\"T_c5e76_level0_col0\" class=\"col_heading level0 col0\" >资产名称</th>\n",
       "      <th id=\"T_c5e76_level0_col1\" class=\"col_heading level0 col1\" >成为最大收益率次数</th>\n",
       "    </tr>\n",
       "  </thead>\n",
       "  <tbody>\n",
       "    <tr>\n",
       "      <td id=\"T_c5e76_row0_col0\" class=\"data row0 col0\" >沪深300</td>\n",
       "      <td id=\"T_c5e76_row0_col1\" class=\"data row0 col1\" >4</td>\n",
       "    </tr>\n",
       "    <tr>\n",
       "      <td id=\"T_c5e76_row1_col0\" class=\"data row1 col0\" >大宗商品</td>\n",
       "      <td id=\"T_c5e76_row1_col1\" class=\"data row1 col1\" >3</td>\n",
       "    </tr>\n",
       "    <tr>\n",
       "      <td id=\"T_c5e76_row2_col0\" class=\"data row2 col0\" >中债</td>\n",
       "      <td id=\"T_c5e76_row2_col1\" class=\"data row2 col1\" >1</td>\n",
       "    </tr>\n",
       "  </tbody>\n",
       "</table>\n"
      ],
      "text/plain": [
       "<pandas.io.formats.style.Styler at 0x1fab48421c0>"
      ]
     },
     "metadata": {},
     "output_type": "display_data"
    },
    {
     "data": {
      "text/html": [
       "<hr>"
      ],
      "text/plain": [
       "<IPython.core.display.HTML object>"
      ]
     },
     "metadata": {},
     "output_type": "display_data"
    },
    {
     "data": {
      "text/html": [
       "<h3>第2组周期类型</h3>"
      ],
      "text/plain": [
       "<IPython.core.display.HTML object>"
      ]
     },
     "metadata": {},
     "output_type": "display_data"
    },
    {
     "data": {
      "text/html": [
       "<h4>周期类型：紧信用-紧货币</h4>"
      ],
      "text/plain": [
       "<IPython.core.display.HTML object>"
      ]
     },
     "metadata": {},
     "output_type": "display_data"
    },
    {
     "data": {
      "text/html": [
       "<style type=\"text/css\">\n",
       "#T_f749d th {\n",
       "  font-size: 12px;\n",
       "  text-align: center;\n",
       "  background: #f2f2f2;\n",
       "}\n",
       "#T_f749d td {\n",
       "  font-size: 12px;\n",
       "  text-align: center;\n",
       "}\n",
       "#T_f749d_row0_col8, #T_f749d_row1_col3, #T_f749d_row2_col3, #T_f749d_row2_col4, #T_f749d_row3_col3, #T_f749d_row3_col8, #T_f749d_row4_col8, #T_f749d_row6_col4, #T_f749d_row6_col8 {\n",
       "  background-color: yellow;\n",
       "}\n",
       "</style>\n",
       "<table id=\"T_f749d\">\n",
       "  <thead>\n",
       "    <tr>\n",
       "      <th id=\"T_f749d_level0_col0\" class=\"col_heading level0 col0\" >周期类型</th>\n",
       "      <th id=\"T_f749d_level0_col1\" class=\"col_heading level0 col1\" >开始日期</th>\n",
       "      <th id=\"T_f749d_level0_col2\" class=\"col_heading level0 col2\" >结束日期</th>\n",
       "      <th id=\"T_f749d_level0_col3\" class=\"col_heading level0 col3\" >中债收益率(%)</th>\n",
       "      <th id=\"T_f749d_level0_col4\" class=\"col_heading level0 col4\" >沪深300收益率(%)</th>\n",
       "      <th id=\"T_f749d_level0_col5\" class=\"col_heading level0 col5\" >铜收益率(%)</th>\n",
       "      <th id=\"T_f749d_level0_col6\" class=\"col_heading level0 col6\" >黄金收益率(%)</th>\n",
       "      <th id=\"T_f749d_level0_col7\" class=\"col_heading level0 col7\" >原油收益率(%)</th>\n",
       "      <th id=\"T_f749d_level0_col8\" class=\"col_heading level0 col8\" >大宗商品收益率(%)</th>\n",
       "    </tr>\n",
       "  </thead>\n",
       "  <tbody>\n",
       "    <tr>\n",
       "      <td id=\"T_f749d_row0_col0\" class=\"data row0 col0\" >紧信用-紧货币</td>\n",
       "      <td id=\"T_f749d_row0_col1\" class=\"data row0 col1\" >2004-04</td>\n",
       "      <td id=\"T_f749d_row0_col2\" class=\"data row0 col2\" >2004-10</td>\n",
       "      <td id=\"T_f749d_row0_col3\" class=\"data row0 col3\" >-3.145582</td>\n",
       "      <td id=\"T_f749d_row0_col4\" class=\"data row0 col4\" >-19.904338</td>\n",
       "      <td id=\"T_f749d_row0_col5\" class=\"data row0 col5\" >0.167224</td>\n",
       "      <td id=\"T_f749d_row0_col6\" class=\"data row0 col6\" >-2.012637</td>\n",
       "      <td id=\"T_f749d_row0_col7\" class=\"data row0 col7\" >47.191368</td>\n",
       "      <td id=\"T_f749d_row0_col8\" class=\"data row0 col8\" >18.322923</td>\n",
       "    </tr>\n",
       "    <tr>\n",
       "      <td id=\"T_f749d_row1_col0\" class=\"data row1 col0\" >紧信用-紧货币</td>\n",
       "      <td id=\"T_f749d_row1_col1\" class=\"data row1 col1\" >2005-03</td>\n",
       "      <td id=\"T_f749d_row1_col2\" class=\"data row1 col2\" >2005-06</td>\n",
       "      <td id=\"T_f749d_row1_col3\" class=\"data row1 col3\" >3.042230</td>\n",
       "      <td id=\"T_f749d_row1_col4\" class=\"data row1 col4\" >-17.679281</td>\n",
       "      <td id=\"T_f749d_row1_col5\" class=\"data row1 col5\" >-5.619018</td>\n",
       "      <td id=\"T_f749d_row1_col6\" class=\"data row1 col6\" >-4.627721</td>\n",
       "      <td id=\"T_f749d_row1_col7\" class=\"data row1 col7\" >1.338394</td>\n",
       "      <td id=\"T_f749d_row1_col8\" class=\"data row1 col8\" >-2.538664</td>\n",
       "    </tr>\n",
       "    <tr>\n",
       "      <td id=\"T_f749d_row2_col0\" class=\"data row2 col0\" >紧信用-紧货币</td>\n",
       "      <td id=\"T_f749d_row2_col1\" class=\"data row2 col1\" >2006-08</td>\n",
       "      <td id=\"T_f749d_row2_col2\" class=\"data row2 col2\" >2006-10</td>\n",
       "      <td id=\"T_f749d_row2_col3\" class=\"data row2 col3\" >1.230360</td>\n",
       "      <td id=\"T_f749d_row2_col4\" class=\"data row2 col4\" >8.396541</td>\n",
       "      <td id=\"T_f749d_row2_col5\" class=\"data row2 col5\" >-2.442159</td>\n",
       "      <td id=\"T_f749d_row2_col6\" class=\"data row2 col6\" >-5.613371</td>\n",
       "      <td id=\"T_f749d_row2_col7\" class=\"data row2 col7\" >-16.859614</td>\n",
       "      <td id=\"T_f749d_row2_col8\" class=\"data row2 col8\" >-9.160505</td>\n",
       "    </tr>\n",
       "    <tr>\n",
       "      <td id=\"T_f749d_row3_col0\" class=\"data row3 col0\" >紧信用-紧货币</td>\n",
       "      <td id=\"T_f749d_row3_col1\" class=\"data row3 col1\" >2007-11</td>\n",
       "      <td id=\"T_f749d_row3_col2\" class=\"data row3 col2\" >2008-08</td>\n",
       "      <td id=\"T_f749d_row3_col3\" class=\"data row3 col3\" >0.807780</td>\n",
       "      <td id=\"T_f749d_row3_col4\" class=\"data row3 col4\" >-50.670479</td>\n",
       "      <td id=\"T_f749d_row3_col5\" class=\"data row3 col5\" >4.141935</td>\n",
       "      <td id=\"T_f749d_row3_col6\" class=\"data row3 col6\" >15.391414</td>\n",
       "      <td id=\"T_f749d_row3_col7\" class=\"data row3 col7\" >36.797970</td>\n",
       "      <td id=\"T_f749d_row3_col8\" class=\"data row3 col8\" >20.579193</td>\n",
       "    </tr>\n",
       "    <tr>\n",
       "      <td id=\"T_f749d_row4_col0\" class=\"data row4 col0\" >紧信用-紧货币</td>\n",
       "      <td id=\"T_f749d_row4_col1\" class=\"data row4 col1\" >2010-01</td>\n",
       "      <td id=\"T_f749d_row4_col2\" class=\"data row4 col2\" >2011-09</td>\n",
       "      <td id=\"T_f749d_row4_col3\" class=\"data row4 col3\" >-3.690102</td>\n",
       "      <td id=\"T_f749d_row4_col4\" class=\"data row4 col4\" >-20.429771</td>\n",
       "      <td id=\"T_f749d_row4_col5\" class=\"data row4 col5\" >24.973002</td>\n",
       "      <td id=\"T_f749d_row4_col6\" class=\"data row4 col6\" >66.560394</td>\n",
       "      <td id=\"T_f749d_row4_col7\" class=\"data row4 col7\" >47.375850</td>\n",
       "      <td id=\"T_f749d_row4_col8\" class=\"data row4 col8\" >46.410359</td>\n",
       "    </tr>\n",
       "    <tr>\n",
       "      <td id=\"T_f749d_row5_col0\" class=\"data row5 col0\" >紧信用-紧货币</td>\n",
       "      <td id=\"T_f749d_row5_col1\" class=\"data row5 col1\" >2013-06</td>\n",
       "      <td id=\"T_f749d_row5_col2\" class=\"data row5 col2\" >2013-06</td>\n",
       "      <td id=\"T_f749d_row5_col3\" class=\"data row5 col3\" >-1.090000</td>\n",
       "      <td id=\"T_f749d_row5_col4\" class=\"data row5 col4\" >-15.585361</td>\n",
       "      <td id=\"T_f749d_row5_col5\" class=\"data row5 col5\" >-7.023090</td>\n",
       "      <td id=\"T_f749d_row5_col6\" class=\"data row5 col6\" >-12.587413</td>\n",
       "      <td id=\"T_f749d_row5_col7\" class=\"data row5 col7\" >1.763124</td>\n",
       "      <td id=\"T_f749d_row5_col8\" class=\"data row5 col8\" >-5.177901</td>\n",
       "    </tr>\n",
       "    <tr>\n",
       "      <td id=\"T_f749d_row6_col0\" class=\"data row6 col0\" >紧信用-紧货币</td>\n",
       "      <td id=\"T_f749d_row6_col1\" class=\"data row6 col1\" >2017-08</td>\n",
       "      <td id=\"T_f749d_row6_col2\" class=\"data row6 col2\" >2017-12</td>\n",
       "      <td id=\"T_f749d_row6_col3\" class=\"data row6 col3\" >-2.722151</td>\n",
       "      <td id=\"T_f749d_row6_col4\" class=\"data row6 col4\" >7.174459</td>\n",
       "      <td id=\"T_f749d_row6_col5\" class=\"data row6 col5\" >6.237251</td>\n",
       "      <td id=\"T_f749d_row6_col6\" class=\"data row6 col6\" >0.449314</td>\n",
       "      <td id=\"T_f749d_row6_col7\" class=\"data row6 col7\" >20.740741</td>\n",
       "      <td id=\"T_f749d_row6_col8\" class=\"data row6 col8\" >10.302266</td>\n",
       "    </tr>\n",
       "  </tbody>\n",
       "</table>\n"
      ],
      "text/plain": [
       "<pandas.io.formats.style.Styler at 0x1fab46846a0>"
      ]
     },
     "metadata": {},
     "output_type": "display_data"
    },
    {
     "data": {
      "text/html": [
       "<b>该周期类型主要收益率均值（中债/沪深300/大宗商品）：</b>"
      ],
      "text/plain": [
       "<IPython.core.display.HTML object>"
      ]
     },
     "metadata": {},
     "output_type": "display_data"
    },
    {
     "data": {
      "text/html": [
       "<style type=\"text/css\">\n",
       "#T_dede9 th {\n",
       "  font-size: 12px;\n",
       "  text-align: center;\n",
       "  background: #f2f2f2;\n",
       "}\n",
       "#T_dede9 td {\n",
       "  font-size: 12px;\n",
       "  text-align: center;\n",
       "}\n",
       "</style>\n",
       "<table id=\"T_dede9\">\n",
       "  <thead>\n",
       "    <tr>\n",
       "      <th id=\"T_dede9_level0_col0\" class=\"col_heading level0 col0\" >中债收益率(%)</th>\n",
       "      <th id=\"T_dede9_level0_col1\" class=\"col_heading level0 col1\" >沪深300收益率(%)</th>\n",
       "      <th id=\"T_dede9_level0_col2\" class=\"col_heading level0 col2\" >大宗商品收益率(%)</th>\n",
       "    </tr>\n",
       "  </thead>\n",
       "  <tbody>\n",
       "    <tr>\n",
       "      <td id=\"T_dede9_row0_col0\" class=\"data row0 col0\" >-0.795352</td>\n",
       "      <td id=\"T_dede9_row0_col1\" class=\"data row0 col1\" >-15.528319</td>\n",
       "      <td id=\"T_dede9_row0_col2\" class=\"data row0 col2\" >11.248239</td>\n",
       "    </tr>\n",
       "  </tbody>\n",
       "</table>\n"
      ],
      "text/plain": [
       "<pandas.io.formats.style.Styler at 0x1fab4684730>"
      ]
     },
     "metadata": {},
     "output_type": "display_data"
    },
    {
     "data": {
      "text/html": [
       "<b>中债、沪深300、大宗商品成为最大收益率的统计次数：</b>"
      ],
      "text/plain": [
       "<IPython.core.display.HTML object>"
      ]
     },
     "metadata": {},
     "output_type": "display_data"
    },
    {
     "data": {
      "text/html": [
       "<style type=\"text/css\">\n",
       "#T_f1e7d th {\n",
       "  font-size: 12px;\n",
       "  text-align: center;\n",
       "  background: #f2f2f2;\n",
       "}\n",
       "#T_f1e7d td {\n",
       "  font-size: 12px;\n",
       "  text-align: center;\n",
       "}\n",
       "</style>\n",
       "<table id=\"T_f1e7d\">\n",
       "  <thead>\n",
       "    <tr>\n",
       "      <th id=\"T_f1e7d_level0_col0\" class=\"col_heading level0 col0\" >资产名称</th>\n",
       "      <th id=\"T_f1e7d_level0_col1\" class=\"col_heading level0 col1\" >成为最大收益率次数</th>\n",
       "    </tr>\n",
       "  </thead>\n",
       "  <tbody>\n",
       "    <tr>\n",
       "      <td id=\"T_f1e7d_row0_col0\" class=\"data row0 col0\" >大宗商品</td>\n",
       "      <td id=\"T_f1e7d_row0_col1\" class=\"data row0 col1\" >4</td>\n",
       "    </tr>\n",
       "    <tr>\n",
       "      <td id=\"T_f1e7d_row1_col0\" class=\"data row1 col0\" >中债</td>\n",
       "      <td id=\"T_f1e7d_row1_col1\" class=\"data row1 col1\" >2</td>\n",
       "    </tr>\n",
       "    <tr>\n",
       "      <td id=\"T_f1e7d_row2_col0\" class=\"data row2 col0\" >沪深300</td>\n",
       "      <td id=\"T_f1e7d_row2_col1\" class=\"data row2 col1\" >1</td>\n",
       "    </tr>\n",
       "  </tbody>\n",
       "</table>\n"
      ],
      "text/plain": [
       "<pandas.io.formats.style.Styler at 0x1fab4842910>"
      ]
     },
     "metadata": {},
     "output_type": "display_data"
    },
    {
     "data": {
      "text/html": [
       "<hr>"
      ],
      "text/plain": [
       "<IPython.core.display.HTML object>"
      ]
     },
     "metadata": {},
     "output_type": "display_data"
    },
    {
     "data": {
      "text/html": [
       "<h3>第3组周期类型</h3>"
      ],
      "text/plain": [
       "<IPython.core.display.HTML object>"
      ]
     },
     "metadata": {},
     "output_type": "display_data"
    },
    {
     "data": {
      "text/html": [
       "<h4>周期类型：紧信用-宽货币</h4>"
      ],
      "text/plain": [
       "<IPython.core.display.HTML object>"
      ]
     },
     "metadata": {},
     "output_type": "display_data"
    },
    {
     "data": {
      "text/html": [
       "<style type=\"text/css\">\n",
       "#T_b99d7 th {\n",
       "  font-size: 12px;\n",
       "  text-align: center;\n",
       "  background: #f2f2f2;\n",
       "}\n",
       "#T_b99d7 td {\n",
       "  font-size: 12px;\n",
       "  text-align: center;\n",
       "}\n",
       "#T_b99d7_row0_col3, #T_b99d7_row0_col4, #T_b99d7_row0_col8, #T_b99d7_row1_col3, #T_b99d7_row2_col3, #T_b99d7_row2_col4, #T_b99d7_row2_col8, #T_b99d7_row3_col3, #T_b99d7_row3_col4, #T_b99d7_row4_col3, #T_b99d7_row4_col4, #T_b99d7_row5_col8, #T_b99d7_row6_col3, #T_b99d7_row6_col8, #T_b99d7_row7_col3, #T_b99d7_row7_col4, #T_b99d7_row8_col3, #T_b99d7_row8_col8, #T_b99d7_row9_col3, #T_b99d7_row10_col8 {\n",
       "  background-color: yellow;\n",
       "}\n",
       "</style>\n",
       "<table id=\"T_b99d7\">\n",
       "  <thead>\n",
       "    <tr>\n",
       "      <th id=\"T_b99d7_level0_col0\" class=\"col_heading level0 col0\" >周期类型</th>\n",
       "      <th id=\"T_b99d7_level0_col1\" class=\"col_heading level0 col1\" >开始日期</th>\n",
       "      <th id=\"T_b99d7_level0_col2\" class=\"col_heading level0 col2\" >结束日期</th>\n",
       "      <th id=\"T_b99d7_level0_col3\" class=\"col_heading level0 col3\" >中债收益率(%)</th>\n",
       "      <th id=\"T_b99d7_level0_col4\" class=\"col_heading level0 col4\" >沪深300收益率(%)</th>\n",
       "      <th id=\"T_b99d7_level0_col5\" class=\"col_heading level0 col5\" >铜收益率(%)</th>\n",
       "      <th id=\"T_b99d7_level0_col6\" class=\"col_heading level0 col6\" >黄金收益率(%)</th>\n",
       "      <th id=\"T_b99d7_level0_col7\" class=\"col_heading level0 col7\" >原油收益率(%)</th>\n",
       "      <th id=\"T_b99d7_level0_col8\" class=\"col_heading level0 col8\" >大宗商品收益率(%)</th>\n",
       "    </tr>\n",
       "  </thead>\n",
       "  <tbody>\n",
       "    <tr>\n",
       "      <td id=\"T_b99d7_row0_col0\" class=\"data row0 col0\" >紧信用-宽货币</td>\n",
       "      <td id=\"T_b99d7_row0_col1\" class=\"data row0 col1\" >2005-07</td>\n",
       "      <td id=\"T_b99d7_row0_col2\" class=\"data row0 col2\" >2005-10</td>\n",
       "      <td id=\"T_b99d7_row0_col3\" class=\"data row0 col3\" >1.353633</td>\n",
       "      <td id=\"T_b99d7_row0_col4\" class=\"data row0 col4\" >4.394477</td>\n",
       "      <td id=\"T_b99d7_row0_col5\" class=\"data row0 col5\" >14.650456</td>\n",
       "      <td id=\"T_b99d7_row0_col6\" class=\"data row0 col6\" >7.593485</td>\n",
       "      <td id=\"T_b99d7_row0_col7\" class=\"data row0 col7\" >14.213746</td>\n",
       "      <td id=\"T_b99d7_row0_col8\" class=\"data row0 col8\" >12.358681</td>\n",
       "    </tr>\n",
       "    <tr>\n",
       "      <td id=\"T_b99d7_row1_col0\" class=\"data row1 col0\" >紧信用-宽货币</td>\n",
       "      <td id=\"T_b99d7_row1_col1\" class=\"data row1 col1\" >2008-09</td>\n",
       "      <td id=\"T_b99d7_row1_col2\" class=\"data row1 col2\" >2008-10</td>\n",
       "      <td id=\"T_b99d7_row1_col3\" class=\"data row1 col3\" >3.630000</td>\n",
       "      <td id=\"T_b99d7_row1_col4\" class=\"data row1 col4\" >-6.202033</td>\n",
       "      <td id=\"T_b99d7_row1_col5\" class=\"data row1 col5\" >-15.046605</td>\n",
       "      <td id=\"T_b99d7_row1_col6\" class=\"data row1 col6\" >5.414205</td>\n",
       "      <td id=\"T_b99d7_row1_col7\" class=\"data row1 col7\" >-13.923718</td>\n",
       "      <td id=\"T_b99d7_row1_col8\" class=\"data row1 col8\" >-8.459207</td>\n",
       "    </tr>\n",
       "    <tr>\n",
       "      <td id=\"T_b99d7_row2_col0\" class=\"data row2 col0\" >紧信用-宽货币</td>\n",
       "      <td id=\"T_b99d7_row2_col1\" class=\"data row2 col1\" >2009-11</td>\n",
       "      <td id=\"T_b99d7_row2_col2\" class=\"data row2 col2\" >2009-12</td>\n",
       "      <td id=\"T_b99d7_row2_col3\" class=\"data row2 col3\" >0.910000</td>\n",
       "      <td id=\"T_b99d7_row2_col4\" class=\"data row2 col4\" >7.082451</td>\n",
       "      <td id=\"T_b99d7_row2_col5\" class=\"data row2 col5\" >7.380586</td>\n",
       "      <td id=\"T_b99d7_row2_col6\" class=\"data row2 col6\" >13.235294</td>\n",
       "      <td id=\"T_b99d7_row2_col7\" class=\"data row2 col7\" >4.348404</td>\n",
       "      <td id=\"T_b99d7_row2_col8\" class=\"data row2 col8\" >7.924126</td>\n",
       "    </tr>\n",
       "    <tr>\n",
       "      <td id=\"T_b99d7_row3_col0\" class=\"data row3 col0\" >紧信用-宽货币</td>\n",
       "      <td id=\"T_b99d7_row3_col1\" class=\"data row3 col1\" >2012-10</td>\n",
       "      <td id=\"T_b99d7_row3_col2\" class=\"data row3 col2\" >2013-05</td>\n",
       "      <td id=\"T_b99d7_row3_col3\" class=\"data row3 col3\" >1.171599</td>\n",
       "      <td id=\"T_b99d7_row3_col4\" class=\"data row3 col4\" >6.698592</td>\n",
       "      <td id=\"T_b99d7_row3_col5\" class=\"data row3 col5\" >-14.370893</td>\n",
       "      <td id=\"T_b99d7_row3_col6\" class=\"data row3 col6\" >-16.628084</td>\n",
       "      <td id=\"T_b99d7_row3_col7\" class=\"data row3 col7\" >-8.915384</td>\n",
       "      <td id=\"T_b99d7_row3_col8\" class=\"data row3 col8\" >-12.865847</td>\n",
       "    </tr>\n",
       "    <tr>\n",
       "      <td id=\"T_b99d7_row4_col0\" class=\"data row4 col0\" >紧信用-宽货币</td>\n",
       "      <td id=\"T_b99d7_row4_col1\" class=\"data row4 col1\" >2014-07</td>\n",
       "      <td id=\"T_b99d7_row4_col2\" class=\"data row4 col2\" >2015-03</td>\n",
       "      <td id=\"T_b99d7_row4_col3\" class=\"data row4 col3\" >6.229671</td>\n",
       "      <td id=\"T_b99d7_row4_col4\" class=\"data row4 col4\" >65.005080</td>\n",
       "      <td id=\"T_b99d7_row4_col5\" class=\"data row4 col5\" >-15.939549</td>\n",
       "      <td id=\"T_b99d7_row4_col6\" class=\"data row4 col6\" >-8.641975</td>\n",
       "      <td id=\"T_b99d7_row4_col7\" class=\"data row4 col7\" >-44.304023</td>\n",
       "      <td id=\"T_b99d7_row4_col8\" class=\"data row4 col8\" >-25.096067</td>\n",
       "    </tr>\n",
       "    <tr>\n",
       "      <td id=\"T_b99d7_row5_col0\" class=\"data row5 col0\" >紧信用-宽货币</td>\n",
       "      <td id=\"T_b99d7_row5_col1\" class=\"data row5 col1\" >2016-04</td>\n",
       "      <td id=\"T_b99d7_row5_col2\" class=\"data row5 col2\" >2016-05</td>\n",
       "      <td id=\"T_b99d7_row5_col3\" class=\"data row5 col3\" >-1.310000</td>\n",
       "      <td id=\"T_b99d7_row5_col4\" class=\"data row5 col4\" >-1.915943</td>\n",
       "      <td id=\"T_b99d7_row5_col5\" class=\"data row5 col5\" >3.685782</td>\n",
       "      <td id=\"T_b99d7_row5_col6\" class=\"data row5 col6\" >4.888925</td>\n",
       "      <td id=\"T_b99d7_row5_col7\" class=\"data row5 col7\" >21.540404</td>\n",
       "      <td id=\"T_b99d7_row5_col8\" class=\"data row5 col8\" >11.188574</td>\n",
       "    </tr>\n",
       "    <tr>\n",
       "      <td id=\"T_b99d7_row6_col0\" class=\"data row6 col0\" >紧信用-宽货币</td>\n",
       "      <td id=\"T_b99d7_row6_col1\" class=\"data row6 col1\" >2018-01</td>\n",
       "      <td id=\"T_b99d7_row6_col2\" class=\"data row6 col2\" >2018-10</td>\n",
       "      <td id=\"T_b99d7_row6_col3\" class=\"data row6 col3\" >3.310015</td>\n",
       "      <td id=\"T_b99d7_row6_col4\" class=\"data row6 col4\" >-14.661758</td>\n",
       "      <td id=\"T_b99d7_row6_col5\" class=\"data row6 col5\" >-13.828469</td>\n",
       "      <td id=\"T_b99d7_row6_col6\" class=\"data row6 col6\" >-8.598848</td>\n",
       "      <td id=\"T_b99d7_row6_col7\" class=\"data row6 col7\" >23.702707</td>\n",
       "      <td id=\"T_b99d7_row6_col8\" class=\"data row6 col8\" >2.752887</td>\n",
       "    </tr>\n",
       "    <tr>\n",
       "      <td id=\"T_b99d7_row7_col0\" class=\"data row7 col0\" >紧信用-宽货币</td>\n",
       "      <td id=\"T_b99d7_row7_col1\" class=\"data row7 col1\" >2019-04</td>\n",
       "      <td id=\"T_b99d7_row7_col2\" class=\"data row7 col2\" >2020-02</td>\n",
       "      <td id=\"T_b99d7_row7_col3\" class=\"data row7 col3\" >2.151896</td>\n",
       "      <td id=\"T_b99d7_row7_col4\" class=\"data row7 col4\" >3.458034</td>\n",
       "      <td id=\"T_b99d7_row7_col5\" class=\"data row7 col5\" >-14.103653</td>\n",
       "      <td id=\"T_b99d7_row7_col6\" class=\"data row7 col6\" >23.063217</td>\n",
       "      <td id=\"T_b99d7_row7_col7\" class=\"data row7 col7\" >-14.958327</td>\n",
       "      <td id=\"T_b99d7_row7_col8\" class=\"data row7 col8\" >-3.295462</td>\n",
       "    </tr>\n",
       "    <tr>\n",
       "      <td id=\"T_b99d7_row8_col0\" class=\"data row8 col0\" >紧信用-宽货币</td>\n",
       "      <td id=\"T_b99d7_row8_col1\" class=\"data row8 col1\" >2021-03</td>\n",
       "      <td id=\"T_b99d7_row8_col2\" class=\"data row8 col2\" >2022-04</td>\n",
       "      <td id=\"T_b99d7_row8_col3\" class=\"data row8 col3\" >3.863017</td>\n",
       "      <td id=\"T_b99d7_row8_col4\" class=\"data row8 col4\" >-20.858490</td>\n",
       "      <td id=\"T_b99d7_row8_col5\" class=\"data row8 col5\" >15.188889</td>\n",
       "      <td id=\"T_b99d7_row8_col6\" class=\"data row8 col6\" >11.838908</td>\n",
       "      <td id=\"T_b99d7_row8_col7\" class=\"data row8 col7\" >63.178588</td>\n",
       "      <td id=\"T_b99d7_row8_col8\" class=\"data row8 col8\" >33.379774</td>\n",
       "    </tr>\n",
       "    <tr>\n",
       "      <td id=\"T_b99d7_row9_col0\" class=\"data row9 col0\" >紧信用-宽货币</td>\n",
       "      <td id=\"T_b99d7_row9_col1\" class=\"data row9 col1\" >2023-03</td>\n",
       "      <td id=\"T_b99d7_row9_col2\" class=\"data row9 col2\" >2023-05</td>\n",
       "      <td id=\"T_b99d7_row9_col3\" class=\"data row9 col3\" >0.650924</td>\n",
       "      <td id=\"T_b99d7_row9_col4\" class=\"data row9 col4\" >-0.965888</td>\n",
       "      <td id=\"T_b99d7_row9_col5\" class=\"data row9 col5\" >-4.281737</td>\n",
       "      <td id=\"T_b99d7_row9_col6\" class=\"data row9 col6\" >8.939618</td>\n",
       "      <td id=\"T_b99d7_row9_col7\" class=\"data row9 col7\" >-5.185362</td>\n",
       "      <td id=\"T_b99d7_row9_col8\" class=\"data row9 col8\" >-0.676781</td>\n",
       "    </tr>\n",
       "    <tr>\n",
       "      <td id=\"T_b99d7_row10_col0\" class=\"data row10 col0\" >紧信用-宽货币</td>\n",
       "      <td id=\"T_b99d7_row10_col1\" class=\"data row10 col1\" >2023-11</td>\n",
       "      <td id=\"T_b99d7_row10_col2\" class=\"data row10 col2\" >2024-04</td>\n",
       "      <td id=\"T_b99d7_row10_col3\" class=\"data row10 col3\" >-0.010000</td>\n",
       "      <td id=\"T_b99d7_row10_col4\" class=\"data row10 col4\" >-2.147169</td>\n",
       "      <td id=\"T_b99d7_row10_col5\" class=\"data row10 col5\" >4.317034</td>\n",
       "      <td id=\"T_b99d7_row10_col6\" class=\"data row10 col6\" >2.707063</td>\n",
       "      <td id=\"T_b99d7_row10_col7\" class=\"data row10 col7\" >-5.239675</td>\n",
       "      <td id=\"T_b99d7_row10_col8\" class=\"data row10 col8\" >0.011359</td>\n",
       "    </tr>\n",
       "  </tbody>\n",
       "</table>\n"
      ],
      "text/plain": [
       "<pandas.io.formats.style.Styler at 0x1fab48181c0>"
      ]
     },
     "metadata": {},
     "output_type": "display_data"
    },
    {
     "data": {
      "text/html": [
       "<b>该周期类型主要收益率均值（中债/沪深300/大宗商品）：</b>"
      ],
      "text/plain": [
       "<IPython.core.display.HTML object>"
      ]
     },
     "metadata": {},
     "output_type": "display_data"
    },
    {
     "data": {
      "text/html": [
       "<style type=\"text/css\">\n",
       "#T_22d6f th {\n",
       "  font-size: 12px;\n",
       "  text-align: center;\n",
       "  background: #f2f2f2;\n",
       "}\n",
       "#T_22d6f td {\n",
       "  font-size: 12px;\n",
       "  text-align: center;\n",
       "}\n",
       "</style>\n",
       "<table id=\"T_22d6f\">\n",
       "  <thead>\n",
       "    <tr>\n",
       "      <th id=\"T_22d6f_level0_col0\" class=\"col_heading level0 col0\" >中债收益率(%)</th>\n",
       "      <th id=\"T_22d6f_level0_col1\" class=\"col_heading level0 col1\" >沪深300收益率(%)</th>\n",
       "      <th id=\"T_22d6f_level0_col2\" class=\"col_heading level0 col2\" >大宗商品收益率(%)</th>\n",
       "    </tr>\n",
       "  </thead>\n",
       "  <tbody>\n",
       "    <tr>\n",
       "      <td id=\"T_22d6f_row0_col0\" class=\"data row0 col0\" >1.995523</td>\n",
       "      <td id=\"T_22d6f_row0_col1\" class=\"data row0 col1\" >3.626123</td>\n",
       "      <td id=\"T_22d6f_row0_col2\" class=\"data row0 col2\" >1.565640</td>\n",
       "    </tr>\n",
       "  </tbody>\n",
       "</table>\n"
      ],
      "text/plain": [
       "<pandas.io.formats.style.Styler at 0x1fab4642d60>"
      ]
     },
     "metadata": {},
     "output_type": "display_data"
    },
    {
     "data": {
      "text/html": [
       "<b>中债、沪深300、大宗商品成为最大收益率的统计次数：</b>"
      ],
      "text/plain": [
       "<IPython.core.display.HTML object>"
      ]
     },
     "metadata": {},
     "output_type": "display_data"
    },
    {
     "data": {
      "text/html": [
       "<style type=\"text/css\">\n",
       "#T_c247d th {\n",
       "  font-size: 12px;\n",
       "  text-align: center;\n",
       "  background: #f2f2f2;\n",
       "}\n",
       "#T_c247d td {\n",
       "  font-size: 12px;\n",
       "  text-align: center;\n",
       "}\n",
       "</style>\n",
       "<table id=\"T_c247d\">\n",
       "  <thead>\n",
       "    <tr>\n",
       "      <th id=\"T_c247d_level0_col0\" class=\"col_heading level0 col0\" >资产名称</th>\n",
       "      <th id=\"T_c247d_level0_col1\" class=\"col_heading level0 col1\" >成为最大收益率次数</th>\n",
       "    </tr>\n",
       "  </thead>\n",
       "  <tbody>\n",
       "    <tr>\n",
       "      <td id=\"T_c247d_row0_col0\" class=\"data row0 col0\" >大宗商品</td>\n",
       "      <td id=\"T_c247d_row0_col1\" class=\"data row0 col1\" >5</td>\n",
       "    </tr>\n",
       "    <tr>\n",
       "      <td id=\"T_c247d_row1_col0\" class=\"data row1 col0\" >中债</td>\n",
       "      <td id=\"T_c247d_row1_col1\" class=\"data row1 col1\" >3</td>\n",
       "    </tr>\n",
       "    <tr>\n",
       "      <td id=\"T_c247d_row2_col0\" class=\"data row2 col0\" >沪深300</td>\n",
       "      <td id=\"T_c247d_row2_col1\" class=\"data row2 col1\" >3</td>\n",
       "    </tr>\n",
       "  </tbody>\n",
       "</table>\n"
      ],
      "text/plain": [
       "<pandas.io.formats.style.Styler at 0x1fab467f550>"
      ]
     },
     "metadata": {},
     "output_type": "display_data"
    },
    {
     "data": {
      "text/html": [
       "<hr>"
      ],
      "text/plain": [
       "<IPython.core.display.HTML object>"
      ]
     },
     "metadata": {},
     "output_type": "display_data"
    },
    {
     "data": {
      "text/html": [
       "<h3>第4组周期类型</h3>"
      ],
      "text/plain": [
       "<IPython.core.display.HTML object>"
      ]
     },
     "metadata": {},
     "output_type": "display_data"
    },
    {
     "data": {
      "text/html": [
       "<h4>周期类型：宽信用-宽货币</h4>"
      ],
      "text/plain": [
       "<IPython.core.display.HTML object>"
      ]
     },
     "metadata": {},
     "output_type": "display_data"
    },
    {
     "data": {
      "text/html": [
       "<style type=\"text/css\">\n",
       "#T_3c25f th {\n",
       "  font-size: 12px;\n",
       "  text-align: center;\n",
       "  background: #f2f2f2;\n",
       "}\n",
       "#T_3c25f td {\n",
       "  font-size: 12px;\n",
       "  text-align: center;\n",
       "}\n",
       "#T_3c25f_row0_col4, #T_3c25f_row0_col8, #T_3c25f_row1_col4, #T_3c25f_row1_col8, #T_3c25f_row2_col3, #T_3c25f_row3_col3, #T_3c25f_row3_col4, #T_3c25f_row3_col8, #T_3c25f_row4_col3, #T_3c25f_row5_col4, #T_3c25f_row5_col8, #T_3c25f_row6_col3, #T_3c25f_row6_col4, #T_3c25f_row7_col4, #T_3c25f_row7_col8, #T_3c25f_row8_col3, #T_3c25f_row8_col4, #T_3c25f_row9_col3, #T_3c25f_row9_col8 {\n",
       "  background-color: yellow;\n",
       "}\n",
       "</style>\n",
       "<table id=\"T_3c25f\">\n",
       "  <thead>\n",
       "    <tr>\n",
       "      <th id=\"T_3c25f_level0_col0\" class=\"col_heading level0 col0\" >周期类型</th>\n",
       "      <th id=\"T_3c25f_level0_col1\" class=\"col_heading level0 col1\" >开始日期</th>\n",
       "      <th id=\"T_3c25f_level0_col2\" class=\"col_heading level0 col2\" >结束日期</th>\n",
       "      <th id=\"T_3c25f_level0_col3\" class=\"col_heading level0 col3\" >中债收益率(%)</th>\n",
       "      <th id=\"T_3c25f_level0_col4\" class=\"col_heading level0 col4\" >沪深300收益率(%)</th>\n",
       "      <th id=\"T_3c25f_level0_col5\" class=\"col_heading level0 col5\" >铜收益率(%)</th>\n",
       "      <th id=\"T_3c25f_level0_col6\" class=\"col_heading level0 col6\" >黄金收益率(%)</th>\n",
       "      <th id=\"T_3c25f_level0_col7\" class=\"col_heading level0 col7\" >原油收益率(%)</th>\n",
       "      <th id=\"T_3c25f_level0_col8\" class=\"col_heading level0 col8\" >大宗商品收益率(%)</th>\n",
       "    </tr>\n",
       "  </thead>\n",
       "  <tbody>\n",
       "    <tr>\n",
       "      <td id=\"T_3c25f_row0_col0\" class=\"data row0 col0\" >宽信用-宽货币</td>\n",
       "      <td id=\"T_3c25f_row0_col1\" class=\"data row0 col1\" >2005-11</td>\n",
       "      <td id=\"T_3c25f_row0_col2\" class=\"data row0 col2\" >2006-03</td>\n",
       "      <td id=\"T_3c25f_row0_col3\" class=\"data row0 col3\" >-0.296405</td>\n",
       "      <td id=\"T_3c25f_row0_col4\" class=\"data row0 col4\" >20.131934</td>\n",
       "      <td id=\"T_3c25f_row0_col5\" class=\"data row0 col5\" >23.130301</td>\n",
       "      <td id=\"T_3c25f_row0_col6\" class=\"data row0 col6\" >20.748226</td>\n",
       "      <td id=\"T_3c25f_row0_col7\" class=\"data row0 col7\" >6.299484</td>\n",
       "      <td id=\"T_3c25f_row0_col8\" class=\"data row0 col8\" >15.683352</td>\n",
       "    </tr>\n",
       "    <tr>\n",
       "      <td id=\"T_3c25f_row1_col0\" class=\"data row1 col0\" >宽信用-宽货币</td>\n",
       "      <td id=\"T_3c25f_row1_col1\" class=\"data row1 col1\" >2008-11</td>\n",
       "      <td id=\"T_3c25f_row1_col2\" class=\"data row1 col2\" >2009-10</td>\n",
       "      <td id=\"T_3c25f_row1_col3\" class=\"data row1 col3\" >-2.916643</td>\n",
       "      <td id=\"T_3c25f_row1_col4\" class=\"data row1 col4\" >80.484614</td>\n",
       "      <td id=\"T_3c25f_row1_col5\" class=\"data row1 col5\" >48.724428</td>\n",
       "      <td id=\"T_3c25f_row1_col6\" class=\"data row1 col6\" >40.625000</td>\n",
       "      <td id=\"T_3c25f_row1_col7\" class=\"data row1 col7\" >5.740968</td>\n",
       "      <td id=\"T_3c25f_row1_col8\" class=\"data row1 col8\" >29.101216</td>\n",
       "    </tr>\n",
       "    <tr>\n",
       "      <td id=\"T_3c25f_row2_col0\" class=\"data row2 col0\" >宽信用-宽货币</td>\n",
       "      <td id=\"T_3c25f_row2_col1\" class=\"data row2 col1\" >2011-12</td>\n",
       "      <td id=\"T_3c25f_row2_col2\" class=\"data row2 col2\" >2012-09</td>\n",
       "      <td id=\"T_3c25f_row2_col3\" class=\"data row2 col3\" >1.735144</td>\n",
       "      <td id=\"T_3c25f_row2_col4\" class=\"data row2 col4\" >-12.514609</td>\n",
       "      <td id=\"T_3c25f_row2_col5\" class=\"data row2 col5\" >-3.511559</td>\n",
       "      <td id=\"T_3c25f_row2_col6\" class=\"data row2 col6\" >-3.179605</td>\n",
       "      <td id=\"T_3c25f_row2_col7\" class=\"data row2 col7\" >3.664495</td>\n",
       "      <td id=\"T_3c25f_row2_col8\" class=\"data row2 col8\" >-0.541551</td>\n",
       "    </tr>\n",
       "    <tr>\n",
       "      <td id=\"T_3c25f_row3_col0\" class=\"data row3 col0\" >宽信用-宽货币</td>\n",
       "      <td id=\"T_3c25f_row3_col1\" class=\"data row3 col1\" >2014-04</td>\n",
       "      <td id=\"T_3c25f_row3_col2\" class=\"data row3 col2\" >2014-06</td>\n",
       "      <td id=\"T_3c25f_row3_col3\" class=\"data row3 col3\" >3.330910</td>\n",
       "      <td id=\"T_3c25f_row3_col4\" class=\"data row3 col4\" >0.469756</td>\n",
       "      <td id=\"T_3c25f_row3_col5\" class=\"data row3 col5\" >2.982559</td>\n",
       "      <td id=\"T_3c25f_row3_col6\" class=\"data row3 col6\" >-2.563503</td>\n",
       "      <td id=\"T_3c25f_row3_col7\" class=\"data row3 col7\" >1.531180</td>\n",
       "      <td id=\"T_3c25f_row3_col8\" class=\"data row3 col8\" >0.738189</td>\n",
       "    </tr>\n",
       "    <tr>\n",
       "      <td id=\"T_3c25f_row4_col0\" class=\"data row4 col0\" >宽信用-宽货币</td>\n",
       "      <td id=\"T_3c25f_row4_col1\" class=\"data row4 col1\" >2015-04</td>\n",
       "      <td id=\"T_3c25f_row4_col2\" class=\"data row4 col2\" >2016-03</td>\n",
       "      <td id=\"T_3c25f_row4_col3\" class=\"data row4 col3\" >6.679002</td>\n",
       "      <td id=\"T_3c25f_row4_col4\" class=\"data row4 col4\" >-29.012634</td>\n",
       "      <td id=\"T_3c25f_row4_col5\" class=\"data row4 col5\" >-21.920425</td>\n",
       "      <td id=\"T_3c25f_row4_col6\" class=\"data row4 col6\" >4.885057</td>\n",
       "      <td id=\"T_3c25f_row4_col7\" class=\"data row4 col7\" >-34.730539</td>\n",
       "      <td id=\"T_3c25f_row4_col8\" class=\"data row4 col8\" >-19.002826</td>\n",
       "    </tr>\n",
       "    <tr>\n",
       "      <td id=\"T_3c25f_row5_col0\" class=\"data row5 col0\" >宽信用-宽货币</td>\n",
       "      <td id=\"T_3c25f_row5_col1\" class=\"data row5 col1\" >2016-06</td>\n",
       "      <td id=\"T_3c25f_row5_col2\" class=\"data row5 col2\" >2017-01</td>\n",
       "      <td id=\"T_3c25f_row5_col3\" class=\"data row5 col3\" >-1.345908</td>\n",
       "      <td id=\"T_3c25f_row5_col4\" class=\"data row5 col4\" >4.388107</td>\n",
       "      <td id=\"T_3c25f_row5_col5\" class=\"data row5 col5\" >18.521702</td>\n",
       "      <td id=\"T_3c25f_row5_col6\" class=\"data row5 col6\" >-5.218966</td>\n",
       "      <td id=\"T_3c25f_row5_col7\" class=\"data row5 col7\" >14.348964</td>\n",
       "      <td id=\"T_3c25f_row5_col8\" class=\"data row5 col8\" >9.730406</td>\n",
       "    </tr>\n",
       "    <tr>\n",
       "      <td id=\"T_3c25f_row6_col0\" class=\"data row6 col0\" >宽信用-宽货币</td>\n",
       "      <td id=\"T_3c25f_row6_col1\" class=\"data row6 col1\" >2018-11</td>\n",
       "      <td id=\"T_3c25f_row6_col2\" class=\"data row6 col2\" >2019-03</td>\n",
       "      <td id=\"T_3c25f_row6_col3\" class=\"data row6 col3\" >2.406993</td>\n",
       "      <td id=\"T_3c25f_row6_col4\" class=\"data row6 col4\" >16.355155</td>\n",
       "      <td id=\"T_3c25f_row6_col5\" class=\"data row6 col5\" >8.025669</td>\n",
       "      <td id=\"T_3c25f_row6_col6\" class=\"data row6 col6\" >8.107886</td>\n",
       "      <td id=\"T_3c25f_row6_col7\" class=\"data row6 col7\" >-12.508281</td>\n",
       "      <td id=\"T_3c25f_row6_col8\" class=\"data row6 col8\" >-0.163246</td>\n",
       "    </tr>\n",
       "    <tr>\n",
       "      <td id=\"T_3c25f_row7_col0\" class=\"data row7 col0\" >宽信用-宽货币</td>\n",
       "      <td id=\"T_3c25f_row7_col1\" class=\"data row7 col1\" >2020-03</td>\n",
       "      <td id=\"T_3c25f_row7_col2\" class=\"data row7 col2\" >2020-09</td>\n",
       "      <td id=\"T_3c25f_row7_col3\" class=\"data row7 col3\" >-2.876181</td>\n",
       "      <td id=\"T_3c25f_row7_col4\" class=\"data row7 col4\" >22.247652</td>\n",
       "      <td id=\"T_3c25f_row7_col5\" class=\"data row7 col5\" >18.438332</td>\n",
       "      <td id=\"T_3c25f_row7_col6\" class=\"data row7 col6\" >24.282644</td>\n",
       "      <td id=\"T_3c25f_row7_col7\" class=\"data row7 col7\" >-10.372130</td>\n",
       "      <td id=\"T_3c25f_row7_col8\" class=\"data row7 col8\" >8.667441</td>\n",
       "    </tr>\n",
       "    <tr>\n",
       "      <td id=\"T_3c25f_row8_col0\" class=\"data row8 col0\" >宽信用-宽货币</td>\n",
       "      <td id=\"T_3c25f_row8_col1\" class=\"data row8 col1\" >2022-05</td>\n",
       "      <td id=\"T_3c25f_row8_col2\" class=\"data row8 col2\" >2023-02</td>\n",
       "      <td id=\"T_3c25f_row8_col3\" class=\"data row8 col3\" >0.280277</td>\n",
       "      <td id=\"T_3c25f_row8_col4\" class=\"data row8 col4\" >3.533035</td>\n",
       "      <td id=\"T_3c25f_row8_col5\" class=\"data row8 col5\" >-4.478073</td>\n",
       "      <td id=\"T_3c25f_row8_col6\" class=\"data row8 col6\" >1.175236</td>\n",
       "      <td id=\"T_3c25f_row8_col7\" class=\"data row8 col7\" >-22.727273</td>\n",
       "      <td id=\"T_3c25f_row8_col8\" class=\"data row8 col8\" >-10.081760</td>\n",
       "    </tr>\n",
       "    <tr>\n",
       "      <td id=\"T_3c25f_row9_col0\" class=\"data row9 col0\" >宽信用-宽货币</td>\n",
       "      <td id=\"T_3c25f_row9_col1\" class=\"data row9 col1\" >2023-06</td>\n",
       "      <td id=\"T_3c25f_row9_col2\" class=\"data row9 col2\" >2023-10</td>\n",
       "      <td id=\"T_3c25f_row9_col3\" class=\"data row9 col3\" >0.396565</td>\n",
       "      <td id=\"T_3c25f_row9_col4\" class=\"data row9 col4\" >-2.857039</td>\n",
       "      <td id=\"T_3c25f_row9_col5\" class=\"data row9 col5\" >2.034525</td>\n",
       "      <td id=\"T_3c25f_row9_col6\" class=\"data row9 col6\" >-5.894640</td>\n",
       "      <td id=\"T_3c25f_row9_col7\" class=\"data row9 col7\" >31.172585</td>\n",
       "      <td id=\"T_3c25f_row9_col8\" class=\"data row9 col8\" >11.310999</td>\n",
       "    </tr>\n",
       "    <tr>\n",
       "      <td id=\"T_3c25f_row10_col0\" class=\"data row10 col0\" >宽信用-宽货币</td>\n",
       "      <td id=\"T_3c25f_row10_col1\" class=\"data row10 col1\" >2024-05</td>\n",
       "      <td id=\"T_3c25f_row10_col2\" class=\"data row10 col2\" >2024-10</td>\n",
       "      <td id=\"T_3c25f_row10_col3\" class=\"data row10 col3\" >nan</td>\n",
       "      <td id=\"T_3c25f_row10_col4\" class=\"data row10 col4\" >nan</td>\n",
       "      <td id=\"T_3c25f_row10_col5\" class=\"data row10 col5\" >nan</td>\n",
       "      <td id=\"T_3c25f_row10_col6\" class=\"data row10 col6\" >nan</td>\n",
       "      <td id=\"T_3c25f_row10_col7\" class=\"data row10 col7\" >nan</td>\n",
       "      <td id=\"T_3c25f_row10_col8\" class=\"data row10 col8\" >nan</td>\n",
       "    </tr>\n",
       "  </tbody>\n",
       "</table>\n"
      ],
      "text/plain": [
       "<pandas.io.formats.style.Styler at 0x1fab4842bb0>"
      ]
     },
     "metadata": {},
     "output_type": "display_data"
    },
    {
     "data": {
      "text/html": [
       "<b>该周期类型主要收益率均值（中债/沪深300/大宗商品）：</b>"
      ],
      "text/plain": [
       "<IPython.core.display.HTML object>"
      ]
     },
     "metadata": {},
     "output_type": "display_data"
    },
    {
     "data": {
      "text/html": [
       "<style type=\"text/css\">\n",
       "#T_15739 th {\n",
       "  font-size: 12px;\n",
       "  text-align: center;\n",
       "  background: #f2f2f2;\n",
       "}\n",
       "#T_15739 td {\n",
       "  font-size: 12px;\n",
       "  text-align: center;\n",
       "}\n",
       "</style>\n",
       "<table id=\"T_15739\">\n",
       "  <thead>\n",
       "    <tr>\n",
       "      <th id=\"T_15739_level0_col0\" class=\"col_heading level0 col0\" >中债收益率(%)</th>\n",
       "      <th id=\"T_15739_level0_col1\" class=\"col_heading level0 col1\" >沪深300收益率(%)</th>\n",
       "      <th id=\"T_15739_level0_col2\" class=\"col_heading level0 col2\" >大宗商品收益率(%)</th>\n",
       "    </tr>\n",
       "  </thead>\n",
       "  <tbody>\n",
       "    <tr>\n",
       "      <td id=\"T_15739_row0_col0\" class=\"data row0 col0\" >0.739375</td>\n",
       "      <td id=\"T_15739_row0_col1\" class=\"data row0 col1\" >10.322597</td>\n",
       "      <td id=\"T_15739_row0_col2\" class=\"data row0 col2\" >4.544222</td>\n",
       "    </tr>\n",
       "  </tbody>\n",
       "</table>\n"
      ],
      "text/plain": [
       "<pandas.io.formats.style.Styler at 0x1fab4642d30>"
      ]
     },
     "metadata": {},
     "output_type": "display_data"
    },
    {
     "data": {
      "text/html": [
       "<b>中债、沪深300、大宗商品成为最大收益率的统计次数：</b>"
      ],
      "text/plain": [
       "<IPython.core.display.HTML object>"
      ]
     },
     "metadata": {},
     "output_type": "display_data"
    },
    {
     "data": {
      "text/html": [
       "<style type=\"text/css\">\n",
       "#T_91e04 th {\n",
       "  font-size: 12px;\n",
       "  text-align: center;\n",
       "  background: #f2f2f2;\n",
       "}\n",
       "#T_91e04 td {\n",
       "  font-size: 12px;\n",
       "  text-align: center;\n",
       "}\n",
       "</style>\n",
       "<table id=\"T_91e04\">\n",
       "  <thead>\n",
       "    <tr>\n",
       "      <th id=\"T_91e04_level0_col0\" class=\"col_heading level0 col0\" >资产名称</th>\n",
       "      <th id=\"T_91e04_level0_col1\" class=\"col_heading level0 col1\" >成为最大收益率次数</th>\n",
       "    </tr>\n",
       "  </thead>\n",
       "  <tbody>\n",
       "    <tr>\n",
       "      <td id=\"T_91e04_row0_col0\" class=\"data row0 col0\" >沪深300</td>\n",
       "      <td id=\"T_91e04_row0_col1\" class=\"data row0 col1\" >5</td>\n",
       "    </tr>\n",
       "    <tr>\n",
       "      <td id=\"T_91e04_row1_col0\" class=\"data row1 col0\" >中债</td>\n",
       "      <td id=\"T_91e04_row1_col1\" class=\"data row1 col1\" >3</td>\n",
       "    </tr>\n",
       "    <tr>\n",
       "      <td id=\"T_91e04_row2_col0\" class=\"data row2 col0\" >大宗商品</td>\n",
       "      <td id=\"T_91e04_row2_col1\" class=\"data row2 col1\" >2</td>\n",
       "    </tr>\n",
       "  </tbody>\n",
       "</table>\n"
      ],
      "text/plain": [
       "<pandas.io.formats.style.Styler at 0x1fab467f490>"
      ]
     },
     "metadata": {},
     "output_type": "display_data"
    },
    {
     "data": {
      "text/html": [
       "<hr>"
      ],
      "text/plain": [
       "<IPython.core.display.HTML object>"
      ]
     },
     "metadata": {},
     "output_type": "display_data"
    }
   ],
   "source": [
    "from IPython.display import display, HTML\n",
    "import matplotlib.pyplot as plt\n",
    "\n",
    "# 对于每个区间，将大于0的收益率标黄\n",
    "\n",
    "table_styles = [\n",
    "    dict(selector=\"th\", props=[(\"font-size\", \"12px\"), (\"text-align\", \"center\"), (\"background\", \"#f2f2f2\")]),\n",
    "    dict(selector=\"td\", props=[(\"font-size\", \"12px\"), (\"text-align\", \"center\")]),\n",
    "]\n",
    "\n",
    "asset_name_map = {\n",
    "    \"中债收益率(%)\": \"中债\",\n",
    "    \"沪深300收益率(%)\": \"沪深300\",\n",
    "    \"铜收益率(%)\": \"铜\",\n",
    "    \"黄金收益率(%)\": \"黄金\",\n",
    "    \"原油收益率(%)\": \"原油\"\n",
    "}\n",
    "\n",
    "cols_commodity = [\"铜收益率(%)\", \"黄金收益率(%)\", \"原油收益率(%)\"]\n",
    "\n",
    "compare_cols = [\"中债收益率(%)\", \"沪深300收益率(%)\", \"大宗商品收益率(%)\"]\n",
    "compare_name_map = {\n",
    "    \"中债收益率(%)\": \"中债\",\n",
    "    \"沪深300收益率(%)\": \"沪深300\",\n",
    "    \"大宗商品收益率(%)\": \"大宗商品\"\n",
    "}\n",
    "\n",
    "unique_cycle_types = result_df[\"周期类型\"].unique()\n",
    "\n",
    "n_groups = 4\n",
    "group_size = (len(unique_cycle_types) + n_groups - 1) // n_groups\n",
    "groups = [unique_cycle_types[i:i+group_size] for i in range(0, len(unique_cycle_types), group_size)]\n",
    "\n",
    "mean_list = []\n",
    "\n",
    "def highlight_positive(s):\n",
    "    return ['background-color: yellow' if v > 0 else '' for v in s]\n",
    "\n",
    "for i, group in enumerate(groups, start=1):\n",
    "    html_content = f\"<h3>第{i}组周期类型</h3>\"\n",
    "    display(HTML(html_content))\n",
    "    for cycle_type in group:\n",
    "        filtered_data = result_df[result_df[\"周期类型\"] == cycle_type].copy()\n",
    "\n",
    "        # 大宗商品收益率(%) = 铜*0.3 + 黄金*0.3 + 原油*0.4\n",
    "        if all(col in filtered_data.columns for col in cols_commodity):\n",
    "            filtered_data[\"大宗商品收益率(%)\"] = (\n",
    "                filtered_data[\"铜收益率(%)\"] * 0.3 +\n",
    "                filtered_data[\"黄金收益率(%)\"] * 0.3 +\n",
    "                filtered_data[\"原油收益率(%)\"] * 0.4\n",
    "            )\n",
    "        else:\n",
    "            filtered_data[\"大宗商品收益率(%)\"] = None\n",
    "\n",
    "        mean_values = filtered_data[compare_cols].mean()\n",
    "        mean_list.append((cycle_type, mean_values))\n",
    "        \n",
    "        display(HTML(f\"<h4>周期类型：{cycle_type}</h4>\"))\n",
    "\n",
    "        max_counts = {col: 0 for col in compare_cols}\n",
    "        for idx, row in filtered_data[compare_cols].iterrows():\n",
    "            max_val = row.max()\n",
    "            for col in compare_cols:\n",
    "                if row[col] == max_val:\n",
    "                    max_counts[col] += 1\n",
    "\n",
    "        styled = (filtered_data.style\n",
    "                  .apply(highlight_positive, subset=compare_cols, axis=0) \n",
    "                  .set_table_styles(table_styles)\n",
    "                  .hide(axis='index'))\n",
    "        display(styled)\n",
    "\n",
    "        mean_df = pd.DataFrame(mean_values, columns=[\"均值\"]).T\n",
    "        display(HTML(\"<b>该周期类型主要收益率均值（中债/沪深300/大宗商品）：</b>\"))\n",
    "        display(mean_df.style.set_table_styles(table_styles).hide(axis='index'))\n",
    "\n",
    "        count_df = pd.DataFrame.from_dict(max_counts, orient='index', columns=[\"成为最大收益率次数\"])\n",
    "        count_df[\"资产名称\"] = count_df.index.map(compare_name_map)\n",
    "        count_df = count_df[[\"资产名称\", \"成为最大收益率次数\"]]\n",
    "        count_df = count_df.sort_values(by=\"成为最大收益率次数\", ascending=False)\n",
    "\n",
    "        display(HTML(\"<b>中债、沪深300、大宗商品成为最大收益率的统计次数：</b>\"))\n",
    "        display(count_df.style.set_table_styles(table_styles).hide(axis='index'))\n",
    "\n",
    "        display(HTML(\"<hr>\"))"
   ]
  },
  {
   "cell_type": "markdown",
   "id": "f968e198",
   "metadata": {},
   "source": [
    "可视化所有同类型区间的均值"
   ]
  },
  {
   "cell_type": "code",
   "execution_count": 41,
   "id": "a44568f2",
   "metadata": {},
   "outputs": [
    {
     "data": {
      "text/html": [
       "<h3>所有周期类型收益率均值汇总</h3>"
      ],
      "text/plain": [
       "<IPython.core.display.HTML object>"
      ]
     },
     "metadata": {},
     "output_type": "display_data"
    },
    {
     "data": {
      "text/html": [
       "<style type=\"text/css\">\n",
       "#T_52ffd th {\n",
       "  font-size: 12px;\n",
       "  text-align: center;\n",
       "  background: #f2f2f2;\n",
       "}\n",
       "#T_52ffd td {\n",
       "  font-size: 12px;\n",
       "  text-align: center;\n",
       "}\n",
       "</style>\n",
       "<table id=\"T_52ffd\">\n",
       "  <thead>\n",
       "    <tr>\n",
       "      <th id=\"T_52ffd_level0_col0\" class=\"col_heading level0 col0\" >中债收益率(%)</th>\n",
       "      <th id=\"T_52ffd_level0_col1\" class=\"col_heading level0 col1\" >沪深300收益率(%)</th>\n",
       "      <th id=\"T_52ffd_level0_col2\" class=\"col_heading level0 col2\" >大宗商品收益率(%)</th>\n",
       "    </tr>\n",
       "  </thead>\n",
       "  <tbody>\n",
       "    <tr>\n",
       "      <td id=\"T_52ffd_row0_col0\" class=\"data row0 col0\" >-1.544826</td>\n",
       "      <td id=\"T_52ffd_row0_col1\" class=\"data row0 col1\" >41.784253</td>\n",
       "      <td id=\"T_52ffd_row0_col2\" class=\"data row0 col2\" >8.850224</td>\n",
       "    </tr>\n",
       "    <tr>\n",
       "      <td id=\"T_52ffd_row1_col0\" class=\"data row1 col0\" >-0.795352</td>\n",
       "      <td id=\"T_52ffd_row1_col1\" class=\"data row1 col1\" >-15.528319</td>\n",
       "      <td id=\"T_52ffd_row1_col2\" class=\"data row1 col2\" >11.248239</td>\n",
       "    </tr>\n",
       "    <tr>\n",
       "      <td id=\"T_52ffd_row2_col0\" class=\"data row2 col0\" >1.995523</td>\n",
       "      <td id=\"T_52ffd_row2_col1\" class=\"data row2 col1\" >3.626123</td>\n",
       "      <td id=\"T_52ffd_row2_col2\" class=\"data row2 col2\" >1.565640</td>\n",
       "    </tr>\n",
       "    <tr>\n",
       "      <td id=\"T_52ffd_row3_col0\" class=\"data row3 col0\" >0.739375</td>\n",
       "      <td id=\"T_52ffd_row3_col1\" class=\"data row3 col1\" >10.322597</td>\n",
       "      <td id=\"T_52ffd_row3_col2\" class=\"data row3 col2\" >4.544222</td>\n",
       "    </tr>\n",
       "  </tbody>\n",
       "</table>\n"
      ],
      "text/plain": [
       "<pandas.io.formats.style.Styler at 0x1fab467b8b0>"
      ]
     },
     "metadata": {},
     "output_type": "display_data"
    },
    {
     "data": {
      "image/png": "[encoded data removed]",
      "text/plain": [
       "<Figure size 1000x600 with 1 Axes>"
      ]
     },
     "metadata": {},
     "output_type": "display_data"
    }
   ],
   "source": [
    "if mean_list:\n",
    "    mean_combined = pd.DataFrame({ct: mv for ct, mv in mean_list}).T\n",
    "    display(HTML(\"<h3>所有周期类型收益率均值汇总</h3>\"))\n",
    "    display(mean_combined.style.set_table_styles(table_styles).hide(axis='index'))\n",
    "    \n",
    "    fig, ax = plt.subplots(figsize=(10, 6))\n",
    "    mean_combined.plot(kind='bar', ax=ax)\n",
    "    plt.title(\"各周期类型收益率均值对比\")\n",
    "    plt.ylabel(\"收益率(%)\")\n",
    "    plt.xticks(rotation=45)\n",
    "    plt.legend(title=\"收益率类型\", bbox_to_anchor=(1.05, 1), loc='upper left')\n",
    "    plt.tight_layout()\n",
    "    plt.show()"
   ]
  },
  {
   "cell_type": "markdown",
   "id": "1ee04ac5",
   "metadata": {},
   "source": [
    "我们的出的结论和原报告提到的结论基本吻合：\n",
    "1. 股票收益率：在“宽货币宽信用”和“紧货币宽信用”时收益率较高，其中在“紧货币宽信用”时涨幅和胜率更高。\n",
    "2. 债券收益率：中枢跟随“货币周期”变化，在“宽货币”时表现更好；在同一货币周期内，“紧信用”时收益率相对更高。\n",
    "\n",
    "但是鉴于我们的大类资产类别选择初步定为原油、黄金、铜，在测算时也使用了这三个资产（加权），没有用经典的商品指数（如南华指数），我们得到的商品收益率数据和报告并不完全吻合；后续可以再按照这个指数来测算。但是整体区间划分是差别不大的。"
   ]
  },
  {
   "cell_type": "code",
   "execution_count": null,
   "id": "7fc14927",
   "metadata": {},
   "outputs": [],
   "source": []
  }
 ],
 "metadata": {
  "kernelspec": {
   "display_name": "python3.9",
   "language": "python",
   "name": "python3"
  },
  "language_info": {
   "codemirror_mode": {
    "name": "ipython",
    "version": 3
   },
   "file_extension": ".py",
   "mimetype": "text/x-python",
   "name": "python",
   "nbconvert_exporter": "python",
   "pygments_lexer": "ipython3",
   "version": "3.9.18"
  }
 },
 "nbformat": 4,
 "nbformat_minor": 5
}
