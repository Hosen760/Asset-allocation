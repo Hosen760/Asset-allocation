{
 "cells": [
  {
   "cell_type": "code",
   "execution_count": 22,
   "metadata": {},
   "outputs": [
    {
     "name": "stdout",
     "output_type": "stream",
     "text": [
      "G:\\代码\\资产配置项目\n"
     ]
    }
   ],
   "source": [
    "cd G:\\代码\\资产配置项目\\"
   ]
  },
  {
   "cell_type": "code",
   "execution_count": 49,
   "metadata": {},
   "outputs": [],
   "source": [
    "import pandas as pd"
   ]
  },
  {
   "cell_type": "code",
   "execution_count": 29,
   "metadata": {},
   "outputs": [],
   "source": [
    "# 澳大利亚国债收益率\n",
    "Aus_bond = pd.read_csv(r'Asset-allocation\\data\\澳大利亚_国债收益率_10年.csv', encoding='gbk')[4:-1]\n",
    "Aus_bond.rename(columns={'指标名称':'date', '澳大利亚:国债收益率:10年':'yeild'}, inplace=True)\n",
    "Aus_bond['date'] = pd.to_datetime(Aus_bond['date'])\n",
    "Aus_bond['yeild'] = Aus_bond['yeild'].astype(float)"
   ]
  },
  {
   "cell_type": "code",
   "execution_count": 28,
   "metadata": {},
   "outputs": [
    {
     "data": {
      "text/html": [
       "<div>\n",
       "<style scoped>\n",
       "    .dataframe tbody tr th:only-of-type {\n",
       "        vertical-align: middle;\n",
       "    }\n",
       "\n",
       "    .dataframe tbody tr th {\n",
       "        vertical-align: top;\n",
       "    }\n",
       "\n",
       "    .dataframe thead th {\n",
       "        text-align: right;\n",
       "    }\n",
       "</style>\n",
       "<table border=\"1\" class=\"dataframe\">\n",
       "  <thead>\n",
       "    <tr style=\"text-align: right;\">\n",
       "      <th></th>\n",
       "      <th>指标名称</th>\n",
       "      <th>澳大利亚标准普尔200指数</th>\n",
       "    </tr>\n",
       "  </thead>\n",
       "  <tbody>\n",
       "    <tr>\n",
       "      <th>4</th>\n",
       "      <td>1992-05-29</td>\n",
       "      <td>1704.6</td>\n",
       "    </tr>\n",
       "    <tr>\n",
       "      <th>5</th>\n",
       "      <td>1992-06-01</td>\n",
       "      <td>1700.5</td>\n",
       "    </tr>\n",
       "    <tr>\n",
       "      <th>6</th>\n",
       "      <td>1992-06-02</td>\n",
       "      <td>1702.7</td>\n",
       "    </tr>\n",
       "    <tr>\n",
       "      <th>7</th>\n",
       "      <td>1992-06-03</td>\n",
       "      <td>1704.5</td>\n",
       "    </tr>\n",
       "    <tr>\n",
       "      <th>8</th>\n",
       "      <td>1992-06-04</td>\n",
       "      <td>1701.9</td>\n",
       "    </tr>\n",
       "    <tr>\n",
       "      <th>...</th>\n",
       "      <td>...</td>\n",
       "      <td>...</td>\n",
       "    </tr>\n",
       "    <tr>\n",
       "      <th>8238</th>\n",
       "      <td>2024-12-05</td>\n",
       "      <td>8474.9</td>\n",
       "    </tr>\n",
       "    <tr>\n",
       "      <th>8239</th>\n",
       "      <td>2024-12-06</td>\n",
       "      <td>8420.9</td>\n",
       "    </tr>\n",
       "    <tr>\n",
       "      <th>8240</th>\n",
       "      <td>2024-12-09</td>\n",
       "      <td>8423.0</td>\n",
       "    </tr>\n",
       "    <tr>\n",
       "      <th>8241</th>\n",
       "      <td>2024-12-10</td>\n",
       "      <td>8393.0</td>\n",
       "    </tr>\n",
       "    <tr>\n",
       "      <th>8242</th>\n",
       "      <td>2024-12-11</td>\n",
       "      <td>8353.6</td>\n",
       "    </tr>\n",
       "  </tbody>\n",
       "</table>\n",
       "<p>8239 rows × 2 columns</p>\n",
       "</div>"
      ],
      "text/plain": [
       "            指标名称 澳大利亚标准普尔200指数\n",
       "4     1992-05-29        1704.6\n",
       "5     1992-06-01        1700.5\n",
       "6     1992-06-02        1702.7\n",
       "7     1992-06-03        1704.5\n",
       "8     1992-06-04        1701.9\n",
       "...          ...           ...\n",
       "8238  2024-12-05        8474.9\n",
       "8239  2024-12-06        8420.9\n",
       "8240  2024-12-09        8423.0\n",
       "8241  2024-12-10        8393.0\n",
       "8242  2024-12-11        8353.6\n",
       "\n",
       "[8239 rows x 2 columns]"
      ]
     },
     "execution_count": 28,
     "metadata": {},
     "output_type": "execute_result"
    }
   ],
   "source": [
    "# a澳大利亚标准普尔200\n",
    "Aus_stock = pd.read_csv(r'Asset-allocation\\data\\澳大利亚标准普尔200指数.csv', encoding='gbk')[4:-1]\n",
    "Aus_stock"
   ]
  },
  {
   "cell_type": "code",
   "execution_count": 27,
   "metadata": {},
   "outputs": [
    {
     "name": "stdout",
     "output_type": "stream",
     "text": [
      "           日期    涨跌幅\n",
      "0  2006-01-02   0.09\n",
      "1  2006-01-03    0.9\n",
      "2  2006-01-04   1.06\n",
      "3  2006-01-05  -0.06\n",
      "4  2006-01-06   0.88\n",
      "5  2006-01-09    0.0\n",
      "6  2006-01-10  -0.72\n",
      "7  2006-01-11   0.88\n",
      "8  2006-01-12  -0.65\n",
      "9  2006-01-13   0.66\n"
     ]
    }
   ],
   "source": [
    "Aus_to_rmb = pd.read_csv(r\"C:\\Users\\ysj12\\Desktop\\太保科技\\澳元兑人民币.csv\")\n",
    "new_Aus_to_rmb = Aus_to_rmb[[\"日期\",\"涨跌幅\"]].copy()\n",
    "new_Aus_to_rmb[\"涨跌幅\"] = (new_Aus_to_rmb[\"涨跌幅\"]*100).round(2).astype(str)\n",
    "print(new_Aus_to_rmb.head(10))"
   ]
  },
  {
   "cell_type": "code",
   "execution_count": 29,
   "metadata": {},
   "outputs": [],
   "source": [
    "new_Aus_to_rmb.to_csv(r\"C:\\Users\\ysj12\\Desktop\\太保科技\\澳元兑人民币.csv\",index=False)"
   ]
  },
  {
   "cell_type": "code",
   "execution_count": 155,
   "metadata": {},
   "outputs": [
    {
     "name": "stdout",
     "output_type": "stream",
     "text": [
      "          日期  澳元兑人民币涨跌幅\n",
      "0 2006-01-02     0.0009\n",
      "1 2006-01-03     0.0090\n",
      "2 2006-01-04     0.0106\n",
      "3 2006-01-05    -0.0006\n",
      "4 2006-01-06     0.0088\n",
      "5 2006-01-09     0.0000\n",
      "6 2006-01-10    -0.0072\n",
      "7 2006-01-11     0.0088\n",
      "8 2006-01-12    -0.0065\n",
      "9 2006-01-13     0.0066\n"
     ]
    }
   ],
   "source": [
    "#澳元兑人民币\n",
    "Aus_to_rmb = pd.read_csv(r\"C:\\Users\\ysj12\\Desktop\\太保科技\\澳元兑人民币.csv\")\n",
    "Aus_to_rmb[\"日期\"]=pd.to_datetime(Aus_to_rmb[\"日期\"])\n",
    "Aus_to_rmb[\"涨跌幅\"] = Aus_to_rmb[\"涨跌幅\"].astype(float)/100\n",
    "Aus_to_rmb.rename(columns={\"涨跌幅\":\"澳元兑人民币涨跌幅\"},inplace=True)\n",
    "print(Aus_to_rmb.head(10))"
   ]
  },
  {
   "cell_type": "code",
   "execution_count": null,
   "metadata": {},
   "outputs": [
    {
     "name": "stdout",
     "output_type": "stream",
     "text": [
      "          日期  标普500涨跌幅\n",
      "0 1927-12-30    0.0000\n",
      "1 1928-01-02    0.0000\n",
      "2 1928-01-03    0.0057\n",
      "3 1928-01-04   -0.0023\n",
      "4 1928-01-05   -0.0096\n",
      "5 1928-01-06    0.0063\n",
      "6 1928-01-09   -0.0091\n",
      "7 1928-01-10   -0.0074\n",
      "8 1928-01-11   -0.0012\n",
      "9 1928-01-12    0.0069\n"
     ]
    }
   ],
   "source": [
    "#标普500\n",
    "bp500 = pd.read_excel(r\"Asset-allocation\\data\\标普500.csv.xlsx\")\n",
    "bp500 = bp500[[\"日期\", \"涨跌幅\"]].copy()\n",
    "bp500[\"日期\"] = pd.to_datetime(bp500[\"日期\"])\n",
    "bp500.rename(columns={\"涨跌幅\":\"标普500涨跌幅\"},inplace=True)\n",
    "print(bp500.head(10))"
   ]
  },
  {
   "cell_type": "code",
   "execution_count": 167,
   "metadata": {},
   "outputs": [
    {
     "name": "stdout",
     "output_type": "stream",
     "text": [
      "           日期 德国:国债收益率:长期\n",
      "0  1956-05-31       0.064\n",
      "1  1956-06-30       0.068\n",
      "2  1956-07-31       0.068\n",
      "3  1956-08-31       0.068\n",
      "4  1956-09-30        0.07\n",
      "5  1956-10-31        0.07\n",
      "6  1956-11-30       0.072\n",
      "7  1956-12-31       0.073\n",
      "8  1957-01-31       0.073\n",
      "9  1957-02-28       0.074\n"
     ]
    }
   ],
   "source": [
    "#德国 国债收益率 长期\n",
    "germ_yield = pd.read_csv(r\"C:\\Users\\ysj12\\Desktop\\太保科技\\data_process\\德国_国债收益率_长期.csv\", encoding = \"gbk\")\n",
    "germ_yield = germ_yield.iloc[4:].reset_index(drop=True)\n",
    "germ_yield.columns = [\"日期\"] + list(germ_yield.columns[1:])\n",
    "germ_yield.iloc[:, 1] = germ_yield.iloc[:, 1].astype(float)/100\n",
    "print(germ_yield.head(10))"
   ]
  },
  {
   "cell_type": "code",
   "execution_count": 159,
   "metadata": {},
   "outputs": [
    {
     "name": "stdout",
     "output_type": "stream",
     "text": [
      "          日期  德国DAX涨跌幅\n",
      "0 1959-10-01    0.0000\n",
      "1 1959-10-02   -0.0115\n",
      "2 1959-10-05   -0.0276\n",
      "3 1959-10-06   -0.0128\n",
      "4 1959-10-07    0.0058\n",
      "5 1959-10-08    0.0183\n",
      "6 1959-10-09    0.0062\n",
      "7 1959-10-12   -0.0265\n",
      "8 1959-10-13   -0.0115\n",
      "9 1959-10-14    0.0006\n"
     ]
    }
   ],
   "source": [
    "#德国DAX\n",
    "germ_DAX = pd.read_excel(r\"C:\\Users\\ysj12\\Desktop\\太保科技\\data_process\\德国DAX.xlsx\")\n",
    "germ_DAX = germ_DAX[[\"日期\", \"涨跌幅\"]].copy()\n",
    "germ_DAX[\"日期\"] = pd.to_datetime(germ_DAX[\"日期\"])\n",
    "germ_DAX.rename(columns={\"涨跌幅\":\"德国DAX涨跌幅\"},inplace=True)\n",
    "print(germ_DAX.head(10))"
   ]
  },
  {
   "cell_type": "code",
   "execution_count": 169,
   "metadata": {},
   "outputs": [
    {
     "name": "stdout",
     "output_type": "stream",
     "text": [
      "           日期 美国:国债收益率:10年\n",
      "0  1953-04-30       0.0283\n",
      "1  1953-05-31       0.0305\n",
      "2  1953-06-30       0.0311\n",
      "3  1953-07-31       0.0293\n",
      "4  1953-08-31       0.0295\n",
      "5  1953-09-30       0.0287\n",
      "6  1953-10-31       0.0266\n",
      "7  1953-11-30       0.0268\n",
      "8  1953-12-31       0.0259\n",
      "9  1954-01-31       0.0248\n"
     ]
    }
   ],
   "source": [
    "#美国国债\n",
    "US_yield = pd.read_csv(r\"C:\\Users\\ysj12\\Desktop\\太保科技\\data_process\\美国_国债收益率_10年.csv\", encoding = \"gbk\")\n",
    "US_yield = US_yield.iloc[4:].reset_index(drop=True)\n",
    "US_yield.columns = [\"日期\"] + list(US_yield.columns[1:])\n",
    "US_yield.iloc[:, 1] = US_yield.iloc[:, 1].astype(float)/100\n",
    "print(US_yield.head(10))"
   ]
  },
  {
   "cell_type": "code",
   "execution_count": 171,
   "metadata": {},
   "outputs": [
    {
     "name": "stdout",
     "output_type": "stream",
     "text": [
      "          日期  欧元兑人民币涨跌幅\n",
      "0 1999-01-01     0.0000\n",
      "1 1999-01-04     0.0120\n",
      "2 1999-01-05    -0.0064\n",
      "3 1999-01-06    -0.0113\n",
      "4 1999-01-07     0.0073\n",
      "5 1999-01-08    -0.0109\n",
      "6 1999-01-11    -0.0078\n",
      "7 1999-01-12     0.0057\n",
      "8 1999-01-13     0.0094\n",
      "9 1999-01-14     0.0018\n"
     ]
    }
   ],
   "source": [
    "#欧元兑人民币\n",
    "Eur_to_rmb = pd.read_excel(r\"C:\\Users\\ysj12\\Desktop\\太保科技\\data_process\\欧元兑人民币.xlsx\")\n",
    "Eur_to_rmb = Eur_to_rmb[[\"日期\", \"涨跌幅\"]].copy()\n",
    "Eur_to_rmb[\"日期\"] = pd.to_datetime(Eur_to_rmb[\"日期\"])\n",
    "Eur_to_rmb.rename(columns={\"涨跌幅\":\"欧元兑人民币涨跌幅\"},inplace=True)\n",
    "print(Eur_to_rmb.head(10))"
   ]
  },
  {
   "cell_type": "code",
   "execution_count": 173,
   "metadata": {},
   "outputs": [
    {
     "name": "stdout",
     "output_type": "stream",
     "text": [
      "          日期  日经225涨跌幅\n",
      "0 1949-05-16    0.0000\n",
      "1 1949-05-17   -0.0080\n",
      "2 1949-05-18   -0.0130\n",
      "3 1949-05-19   -0.0069\n",
      "4 1949-05-20   -0.0125\n",
      "5 1949-05-21    0.0043\n",
      "6 1949-05-23    0.0114\n",
      "7 1949-05-24    0.0052\n",
      "8 1949-05-25   -0.0071\n",
      "9 1949-05-26   -0.0064\n"
     ]
    }
   ],
   "source": [
    "#日经225\n",
    "ri225 = pd.read_excel(r\"C:\\Users\\ysj12\\Desktop\\太保科技\\data_process\\日经225.xlsx\")\n",
    "ri225 = ri225[[\"日期\", \"涨跌幅\"]].copy()\n",
    "ri225[\"日期\"] = pd.to_datetime(ri225[\"日期\"])\n",
    "ri225.rename(columns={\"涨跌幅\":\"日经225涨跌幅\"},inplace=True)\n",
    "print(ri225.head(10))"
   ]
  },
  {
   "cell_type": "code",
   "execution_count": 175,
   "metadata": {},
   "outputs": [
    {
     "name": "stdout",
     "output_type": "stream",
     "text": [
      "           日期 日本:国债利率:10年\n",
      "0  1986-07-05     0.05103\n",
      "1  1986-07-07     0.05091\n",
      "2  1986-07-08     0.05123\n",
      "3  1986-07-09     0.05138\n",
      "4  1986-07-10     0.05151\n",
      "5  1986-07-11     0.05221\n",
      "6  1986-07-14       0.052\n",
      "7  1986-07-15     0.05191\n",
      "8  1986-07-16     0.05217\n",
      "9  1986-07-17     0.05244\n"
     ]
    }
   ],
   "source": [
    "#日本国债\n",
    "Japen_yield = pd.read_csv(r\"C:\\Users\\ysj12\\Desktop\\太保科技\\日本_国债利率_10年.csv\", encoding = \"gbk\")\n",
    "Japen_yield = Japen_yield.iloc[4:].reset_index(drop=True)\n",
    "Japen_yield.columns = [\"日期\"] + list(Japen_yield.columns[1:])\n",
    "Japen_yield.iloc[:, 1] = Japen_yield.iloc[:, 1].astype(float)/100\n",
    "print(Japen_yield.head(10))"
   ]
  },
  {
   "cell_type": "code",
   "execution_count": 177,
   "metadata": {},
   "outputs": [
    {
     "name": "stdout",
     "output_type": "stream",
     "text": [
      "          日期  上证50涨跌幅\n",
      "0 2003-12-31   0.0000\n",
      "1 2004-01-02   0.0114\n",
      "2 2004-01-05   0.0489\n",
      "3 2004-01-06   0.0140\n",
      "4 2004-01-07   0.0099\n",
      "5 2004-01-08   0.0151\n",
      "6 2004-01-09  -0.0189\n",
      "7 2004-01-12   0.0324\n",
      "8 2004-01-13  -0.0129\n",
      "9 2004-01-14  -0.0205\n"
     ]
    }
   ],
   "source": [
    "#上证50\n",
    "sz50 = pd.read_excel(r\"C:\\Users\\ysj12\\Desktop\\太保科技\\data_process\\上证50.xlsx\")\n",
    "sz50 = sz50[[\"日期\", \"涨跌幅\"]].copy()\n",
    "sz50[\"日期\"] = pd.to_datetime(sz50[\"日期\"])\n",
    "sz50.rename(columns={\"涨跌幅\":\"上证50涨跌幅\"},inplace=True)\n",
    "print(sz50.head(10))"
   ]
  },
  {
   "cell_type": "code",
   "execution_count": 179,
   "metadata": {},
   "outputs": [
    {
     "name": "stdout",
     "output_type": "stream",
     "text": [
      "          日期  上证指数涨跌幅\n",
      "0 2003-12-31   0.0000\n",
      "1 2004-01-02   0.0114\n",
      "2 2004-01-05   0.0489\n",
      "3 2004-01-06   0.0140\n",
      "4 2004-01-07   0.0099\n",
      "5 2004-01-08   0.0151\n",
      "6 2004-01-09  -0.0189\n",
      "7 2004-01-12   0.0324\n",
      "8 2004-01-13  -0.0129\n",
      "9 2004-01-14  -0.0205\n"
     ]
    }
   ],
   "source": [
    "#上证指数\n",
    "sz_index = pd.read_excel(r\"C:\\Users\\ysj12\\Desktop\\太保科技\\data_process\\上证50.xlsx\")\n",
    "sz_index = sz_index[[\"日期\", \"涨跌幅\"]].copy()\n",
    "sz_index[\"日期\"] = pd.to_datetime(sz_index[\"日期\"])\n",
    "sz_index.rename(columns={\"涨跌幅\":\"上证指数涨跌幅\"},inplace=True)\n",
    "print(sz_index.head(10))"
   ]
  },
  {
   "cell_type": "code",
   "execution_count": 191,
   "metadata": {},
   "outputs": [
    {
     "name": "stdout",
     "output_type": "stream",
     "text": [
      "           日期 中国:国债到期收益率:10年 中国:国债到期收益率:1年 中国:国债到期收益率:5年 中国:国债到期收益率:3年\n",
      "0  2007-12-14       0.045473      0.037712      0.042099      0.040571\n",
      "1  2007-12-17        0.04565      0.037897      0.042101      0.040617\n",
      "2  2007-12-18       0.045516      0.038043       0.04212      0.040686\n",
      "3  2007-12-19       0.045359      0.038171      0.042086      0.040654\n",
      "4  2007-12-20       0.045438      0.037974      0.042178      0.040696\n",
      "5  2007-12-21       0.045649      0.037708      0.042123      0.040611\n",
      "6  2007-12-24        0.04545      0.037129      0.042125       0.04047\n",
      "7  2007-12-25       0.045199         0.037      0.042022      0.039895\n",
      "8  2007-12-26       0.045143      0.037031      0.042206      0.039914\n",
      "9  2007-12-27       0.044999      0.037083      0.042316      0.040012\n"
     ]
    }
   ],
   "source": [
    "#国债到期收益率\n",
    "cn_yield = pd.read_csv(r\"C:\\Users\\ysj12\\Desktop\\太保科技\\data_process\\中国_国债到期收益率.csv\", encoding = \"gbk\")\n",
    "cn_yield = cn_yield.iloc[4:].reset_index(drop=True)\n",
    "cn_yield.columns = [\"日期\"] + list(cn_yield.columns[1:])\n",
    "cn_yield.iloc[:, 1:] = cn_yield.iloc[:, 1:].apply(pd.to_numeric, errors='coerce') / 100\n",
    "print(cn_yield.head(10))"
   ]
  },
  {
   "cell_type": "code",
   "execution_count": 147,
   "metadata": {},
   "outputs": [
    {
     "name": "stdout",
     "output_type": "stream",
     "text": [
      "           日期 中间价:美元兑人民币\n",
      "0  1994-01-01        8.7\n",
      "1  1994-01-03        8.7\n",
      "2  1994-01-04        8.7\n",
      "3  1994-01-05        8.7\n",
      "4  1994-01-06        8.7\n",
      "5  1994-01-07       8.69\n",
      "6  1994-01-08        8.7\n",
      "7  1994-01-10        8.7\n",
      "8  1994-01-11        8.7\n",
      "9  1994-01-12        8.7\n"
     ]
    }
   ],
   "source": [
    "#美元兑人民币\n",
    "US_rmb = pd.read_csv(r\"C:\\Users\\ysj12\\Desktop\\太保科技\\data_process\\中间价_美元兑人民币.csv\", encoding = \"gbk\")\n",
    "US_rmb = US_rmb.iloc[4:].reset_index(drop=True)\n",
    "US_rmb.columns = [\"日期\"] + list(US_rmb.columns[1:])\n",
    "print(US_rmb.head(10))"
   ]
  },
  {
   "cell_type": "code",
   "execution_count": 189,
   "metadata": {},
   "outputs": [
    {
     "name": "stdout",
     "output_type": "stream",
     "text": [
      "          日期  中证指数涨跌幅\n",
      "0 2003-12-31   0.0000\n",
      "1 2004-01-02   0.0114\n",
      "2 2004-01-05   0.0489\n",
      "3 2004-01-06   0.0140\n",
      "4 2004-01-07   0.0099\n",
      "5 2004-01-08   0.0151\n",
      "6 2004-01-09  -0.0189\n",
      "7 2004-01-12   0.0324\n",
      "8 2004-01-13  -0.0129\n",
      "9 2004-01-14  -0.0205\n"
     ]
    }
   ],
   "source": [
    "#中证指数\n",
    "z_index = pd.read_excel(r\"C:\\Users\\ysj12\\Desktop\\太保科技\\data_process\\中证500.xlsx\")\n",
    "z_index = z_index[[\"日期\", \"涨跌幅\"]].copy()\n",
    "z_index[\"日期\"] = pd.to_datetime(z_index[\"日期\"])\n",
    "z_index.rename(columns={\"涨跌幅\":\"中证指数涨跌幅\"},inplace=True)\n",
    "print(z_index.head(10))"
   ]
  },
  {
   "cell_type": "code",
   "execution_count": null,
   "metadata": {},
   "outputs": [],
   "source": []
  }
 ],
 "metadata": {
  "kernelspec": {
   "display_name": "python3.9",
   "language": "python",
   "name": "python3"
  },
  "language_info": {
   "codemirror_mode": {
    "name": "ipython",
    "version": 3
   },
   "file_extension": ".py",
   "mimetype": "text/x-python",
   "name": "python",
   "nbconvert_exporter": "python",
   "pygments_lexer": "ipython3",
   "version": "3.9.18"
  }
 },
 "nbformat": 4,
 "nbformat_minor": 4
}
